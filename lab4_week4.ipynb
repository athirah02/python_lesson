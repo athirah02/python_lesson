{
  "nbformat": 4,
  "nbformat_minor": 0,
  "metadata": {
    "colab": {
      "provenance": [],
      "authorship_tag": "ABX9TyPtUvbX72eInDP0iC1bv4Cf",
      "include_colab_link": true
    },
    "kernelspec": {
      "name": "python3",
      "display_name": "Python 3"
    },
    "language_info": {
      "name": "python"
    }
  },
  "cells": [
    {
      "cell_type": "markdown",
      "metadata": {
        "id": "view-in-github",
        "colab_type": "text"
      },
      "source": [
        "<a href=\"https://colab.research.google.com/github/athirah02/python_lesson/blob/main/lab4_week4.ipynb\" target=\"_parent\"><img src=\"https://colab.research.google.com/assets/colab-badge.svg\" alt=\"Open In Colab\"/></a>"
      ]
    },
    {
      "cell_type": "markdown",
      "source": [
        "# Part A: Introduction & Basic Matching"
      ],
      "metadata": {
        "id": "NTCtMQVon59U"
      }
    },
    {
      "cell_type": "markdown",
      "source": [
        "1. Write code to check if the string \"Hello123\" contains only letters and numbers."
      ],
      "metadata": {
        "id": "6BsdqI6iXcg7"
      }
    },
    {
      "cell_type": "code",
      "source": [
        "import re\n",
        "\n",
        "text = 'Hello123'\n",
        "\n"
      ],
      "metadata": {
        "id": "RY2tonT_cY8x"
      },
      "execution_count": null,
      "outputs": []
    },
    {
      "cell_type": "markdown",
      "source": [
        "2. Write code to check if the string \"Hello123\" contains only letters and numbers."
      ],
      "metadata": {
        "id": "e_brEBSScyQP"
      }
    },
    {
      "cell_type": "code",
      "execution_count": null,
      "metadata": {
        "colab": {
          "base_uri": "https://localhost:8080/"
        },
        "id": "tyOimkdQXWPY",
        "outputId": "35f71622-f379-4bbb-cd88-edbd7a0e9b72"
      },
      "outputs": [
        {
          "output_type": "stream",
          "name": "stdout",
          "text": [
            "Hello123 contains only letters and numbers\n"
          ]
        }
      ],
      "source": [
        "import re\n",
        "\n",
        "text = 'Hello123'\n",
        "\n",
        "pattern = r'^[a-zA-Z0-9]+$'\n",
        "\n",
        "if re.match(pattern, text):\n",
        "    print(text, 'contains only letters and numbers')\n",
        "else:\n",
        "    print(text, 'does not contain only letters and numbers')"
      ]
    },
    {
      "cell_type": "markdown",
      "source": [
        "3. Check if a string starts with the word \"Hello\"."
      ],
      "metadata": {
        "id": "zR7jaUUQZKnE"
      }
    },
    {
      "cell_type": "code",
      "source": [
        "import re\n",
        "\n",
        "text = 'Hello world!'\n",
        "\n",
        "pattern = r'^Hello'\n",
        "\n",
        "if re.match(pattern, text):\n",
        "  print('match')\n",
        "else:\n",
        "  print('not match')"
      ],
      "metadata": {
        "colab": {
          "base_uri": "https://localhost:8080/"
        },
        "id": "oBkyQE_XZMv0",
        "outputId": "409d60ce-6f62-439b-d158-0eb3f92ee79c"
      },
      "execution_count": null,
      "outputs": [
        {
          "output_type": "stream",
          "name": "stdout",
          "text": [
            "not match\n"
          ]
        }
      ]
    },
    {
      "cell_type": "markdown",
      "source": [
        "4. Check if a string contains any digit."
      ],
      "metadata": {
        "id": "fOvj0e6oaIwO"
      }
    },
    {
      "cell_type": "code",
      "source": [
        "import re\n",
        "\n",
        "text = 'abc123'\n",
        "\n",
        "pattern = r'\\d'\n",
        "\n",
        "if re.search(pattern, text):\n",
        "  print('match')\n",
        "else:\n",
        "  print('not match')\n"
      ],
      "metadata": {
        "colab": {
          "base_uri": "https://localhost:8080/"
        },
        "id": "-M8Z9Zl9aL-e",
        "outputId": "1d95ee88-b192-4e8f-8718-e146b479f4d3"
      },
      "execution_count": null,
      "outputs": [
        {
          "output_type": "stream",
          "name": "stdout",
          "text": [
            "match\n"
          ]
        }
      ]
    },
    {
      "cell_type": "markdown",
      "source": [
        "5. Write code to check if a string contains only digits."
      ],
      "metadata": {
        "id": "VDNtYYN-bmv5"
      }
    },
    {
      "cell_type": "code",
      "source": [
        "import re\n",
        "\n",
        "text = '2025'\n",
        "\n",
        "pattern = r'^\\d+$'\n",
        "\n",
        "if re.match(pattern, text):\n",
        "  print('match')\n",
        "else:\n",
        "  print('not all digits')"
      ],
      "metadata": {
        "colab": {
          "base_uri": "https://localhost:8080/"
        },
        "id": "9Uy39FJebpDy",
        "outputId": "b2334287-2fc5-43e8-f971-f7f1e4f485c1"
      },
      "execution_count": null,
      "outputs": [
        {
          "output_type": "stream",
          "name": "stdout",
          "text": [
            "not all digits\n"
          ]
        }
      ]
    },
    {
      "cell_type": "markdown",
      "source": [
        "6. Write a regex to check if a string looks like an email (basic check, e.g., text@text.com)\n"
      ],
      "metadata": {
        "id": "PomuD_yQc6hJ"
      }
    },
    {
      "cell_type": "code",
      "source": [
        "import re\n",
        "\n",
        "text = 'text@text.com'\n",
        "\n",
        "pattern = r'[a-z]+@[a-z]+\\.com'\n",
        "\n",
        "if re.match(pattern, text):\n",
        "  print('its an email')\n",
        "else:\n",
        "  print('its not an email')\n",
        "\n"
      ],
      "metadata": {
        "colab": {
          "base_uri": "https://localhost:8080/"
        },
        "id": "0ySqT-ggdF_4",
        "outputId": "e8efe8bd-d888-4e8c-cb10-cf8c1978dcfd"
      },
      "execution_count": null,
      "outputs": [
        {
          "output_type": "stream",
          "name": "stdout",
          "text": [
            "its not an email\n"
          ]
        }
      ]
    },
    {
      "cell_type": "markdown",
      "source": [
        "7. Write a regex to find all the words in a sentence (e.g., split by spaces or punctuation)."
      ],
      "metadata": {
        "id": "-MmM1Jmle2U9"
      }
    },
    {
      "cell_type": "code",
      "source": [
        "import re\n",
        "\n",
        "text = 'Hello, how are you?'\n",
        "\n",
        "x = re.split('\\s', text)\n",
        "print(x)"
      ],
      "metadata": {
        "colab": {
          "base_uri": "https://localhost:8080/"
        },
        "id": "WmCKjZ1Fe46q",
        "outputId": "60c11634-3a5f-44d3-f276-00e032664d73"
      },
      "execution_count": null,
      "outputs": [
        {
          "output_type": "stream",
          "name": "stdout",
          "text": [
            "['Hello,', 'how', 'are', 'you?']\n"
          ]
        }
      ]
    },
    {
      "cell_type": "markdown",
      "source": [
        "8. A valid username starts with a letter and is followed by 4–9 alphanumeric characters.\n",
        "Write code to validate this rule."
      ],
      "metadata": {
        "id": "3cvZfT8Sg3Vr"
      }
    },
    {
      "cell_type": "code",
      "source": [
        "text = '''\n",
        "a122\n",
        "Hhee213\n",
        "93zwy\n",
        "'''\n",
        "\n",
        "pattern = re.compile(r'^[a-zA-Z]{1}[a-zA-Z0-9]{4,9}')\n",
        "\n",
        "lines = text.strip().split('\\n')\n",
        "print(lines)\n",
        "\n",
        "for line in lines:\n",
        "    if pattern.match(line):\n",
        "        print(f\"Valid: {line}\")\n",
        "    else:\n",
        "        print(f\"Invalid: {line}\")\n"
      ],
      "metadata": {
        "colab": {
          "base_uri": "https://localhost:8080/"
        },
        "id": "rS_iqtoDg6MX",
        "outputId": "307deb5a-b259-4f12-e394-4bcbe4d4c38d"
      },
      "execution_count": null,
      "outputs": [
        {
          "output_type": "stream",
          "name": "stdout",
          "text": [
            "['a122', 'Hhee213', '93zwy']\n",
            "Invalid: a122\n",
            "Valid: Hhee213\n",
            "Invalid: 93zwy\n"
          ]
        }
      ]
    },
    {
      "cell_type": "markdown",
      "source": [
        "9. Check if a string starts with \"01\" and contains a total of 10 or 11 digits."
      ],
      "metadata": {
        "id": "fq041Mbhikj_"
      }
    },
    {
      "cell_type": "code",
      "source": [
        "import re\n",
        "\n",
        "text = '''\n",
        "0123456789\n",
        "01345609732\n",
        "9946734566\n",
        "'''\n",
        "\n",
        "pattern = re.compile(r'^01\\d{8,9}')\n",
        "\n",
        "lines = text.strip().split('\\n')\n",
        "\n",
        "for line in lines:\n",
        "  if pattern.match(line):\n",
        "    print(f'Valid: {line}')\n",
        "  else:\n",
        "    print(f'Invalid: {line}')"
      ],
      "metadata": {
        "colab": {
          "base_uri": "https://localhost:8080/"
        },
        "id": "IU1F78s8lDZP",
        "outputId": "dbc2dda3-1d89-4675-a58e-507fe743a5ed"
      },
      "execution_count": null,
      "outputs": [
        {
          "output_type": "stream",
          "name": "stdout",
          "text": [
            "Valid: 0123456789\n",
            "Valid: 01345609732\n",
            "Invalid: 9946734566\n"
          ]
        }
      ]
    },
    {
      "cell_type": "markdown",
      "source": [
        "10. Extract all digits from the string \"The price is 45 ringgit and 67 sen\"."
      ],
      "metadata": {
        "id": "yZazrj78nBgQ"
      }
    },
    {
      "cell_type": "code",
      "source": [
        "import re\n",
        "\n",
        "text = 'The price is 45 ringgit and 67 sen'\n",
        "\n",
        "pattern = r'\\d+'\n",
        "\n",
        "matches = re.findall(pattern, text)\n",
        "\n",
        "print(matches)"
      ],
      "metadata": {
        "colab": {
          "base_uri": "https://localhost:8080/"
        },
        "id": "itscdn6RnIcs",
        "outputId": "e86eb0e0-90c1-42c4-813d-d0a2ecec3022"
      },
      "execution_count": null,
      "outputs": [
        {
          "output_type": "stream",
          "name": "stdout",
          "text": [
            "['45', '67']\n"
          ]
        }
      ]
    },
    {
      "cell_type": "markdown",
      "source": [
        "# Part B : Pattern Matching & Extraction"
      ],
      "metadata": {
        "id": "CGHPicEAnpf7"
      }
    },
    {
      "cell_type": "markdown",
      "source": [
        "1. Extract all email addresses from a string."
      ],
      "metadata": {
        "id": "YgeO5YaFn-zt"
      }
    },
    {
      "cell_type": "code",
      "source": [
        "import re\n",
        "\n",
        "text = \"Contact us at info@example.com or support@company.org\"\n",
        "pattern =  r'[a-zA-Z]+@[a-zA-Z]+\\.(?:com|org)'\n",
        "\n",
        "emails = re.findall(pattern, text)\n",
        "print(emails)"
      ],
      "metadata": {
        "colab": {
          "base_uri": "https://localhost:8080/"
        },
        "id": "mMvBj1vOn-f4",
        "outputId": "f18a047e-628f-4688-d3a4-412805b3ff29"
      },
      "execution_count": null,
      "outputs": [
        {
          "output_type": "stream",
          "name": "stdout",
          "text": [
            "['info@example.com', 'support@company.org']\n"
          ]
        }
      ]
    },
    {
      "cell_type": "markdown",
      "source": [
        "2. Write a pattern to validate a phone number format: 012-3456789 or 01X-XXXXXXX."
      ],
      "metadata": {
        "id": "nSsAFu8GpmcZ"
      }
    },
    {
      "cell_type": "code",
      "source": [
        "import re\n",
        "\n",
        "phone = \"012-3456789\"\n",
        "pattern = r'^01\\d-\\d{7}'\n",
        "\n",
        "if re.fullmatch(pattern, phone):\n",
        "  print(\"Valid\")\n",
        "else:\n",
        "  print(\"Invalid\")"
      ],
      "metadata": {
        "id": "JqVDjfYvqjdY",
        "colab": {
          "base_uri": "https://localhost:8080/"
        },
        "outputId": "dd5cde81-7bb2-4135-db91-9121113eda97"
      },
      "execution_count": null,
      "outputs": [
        {
          "output_type": "stream",
          "name": "stdout",
          "text": [
            "Invalid\n"
          ]
        }
      ]
    },
    {
      "cell_type": "markdown",
      "source": [
        "3. Extract all hashtags from the text: \"I love #python and #machinelearning!\""
      ],
      "metadata": {
        "id": "Aa0LI5jAhBPn"
      }
    },
    {
      "cell_type": "code",
      "source": [
        "text = \"I love #python and #machinelearning!\"\n",
        "#pattern =  r'\\#+\\w+'\n",
        "pattern = r'\\#+[a-zA-Z]+'\n",
        "hashtags = re.findall(pattern, text)\n",
        "print(hashtags)  # ['#python', '#machinelearning']"
      ],
      "metadata": {
        "colab": {
          "base_uri": "https://localhost:8080/"
        },
        "id": "rcyEuS2hhFTg",
        "outputId": "35ae1059-02ec-4865-d730-ef158cca0edf"
      },
      "execution_count": null,
      "outputs": [
        {
          "output_type": "stream",
          "name": "stdout",
          "text": [
            "['#python', '#machinelearning']\n"
          ]
        }
      ]
    },
    {
      "cell_type": "markdown",
      "source": [
        "4. Extract all digit sequences from the sentence \"There are 12 cats, 5 dogs, and 3 birds.\""
      ],
      "metadata": {
        "id": "wlTe80vYiJg-"
      }
    },
    {
      "cell_type": "code",
      "source": [
        "import re\n",
        "\n",
        "text = \"There are 12 cats, 5 dogs, and 3 birds.\"\n",
        "#pattern = r'\\d+'\n",
        "pattern = r'[0-9]+'\n",
        "numbers = re.findall(pattern, text)\n",
        "print(numbers)  # Output: ['12', '5', '3']"
      ],
      "metadata": {
        "colab": {
          "base_uri": "https://localhost:8080/"
        },
        "id": "C1RuWmcCiMez",
        "outputId": "bdb9dfba-cd7f-4632-c916-91535029e724"
      },
      "execution_count": null,
      "outputs": [
        {
          "output_type": "stream",
          "name": "stdout",
          "text": [
            "['12', '5', '3']\n"
          ]
        }
      ]
    },
    {
      "cell_type": "markdown",
      "source": [
        "5. From \"Alice and Bob went to Kuala Lumpur.\", extract all words that start with uppercase\n",
        "letters."
      ],
      "metadata": {
        "id": "SecZFnjFiqeF"
      }
    },
    {
      "cell_type": "code",
      "source": [
        "import re\n",
        "\n",
        "text = 'Alice and Bob went to Kuala Lumpur'\n",
        "pattern = r'[A-Z]{1}\\w+'\n",
        "result = re.findall(pattern, text)\n",
        "print(result)"
      ],
      "metadata": {
        "colab": {
          "base_uri": "https://localhost:8080/"
        },
        "id": "47RleTb-iuPA",
        "outputId": "2daf6b08-02a7-4907-f427-06c32be0eb91"
      },
      "execution_count": null,
      "outputs": [
        {
          "output_type": "stream",
          "name": "stdout",
          "text": [
            "['Alice', 'Bob', 'Kuala', 'Lumpur']\n"
          ]
        }
      ]
    },
    {
      "cell_type": "markdown",
      "source": [
        "6. Find all email addresses in a string like \"Contact us at info@example.com or\n",
        "support@domain.org.\""
      ],
      "metadata": {
        "id": "UFaRwZHnjbE0"
      }
    },
    {
      "cell_type": "code",
      "source": [
        "import re\n",
        "\n",
        "text = '''\n",
        "info@example.com\n",
        "support@domain.com\n",
        "'''\n",
        "\n",
        "pattern = re.compile(r'\\w+@\\w+\\.com')\n",
        "result = re.findall(pattern, text)\n",
        "print(result)"
      ],
      "metadata": {
        "colab": {
          "base_uri": "https://localhost:8080/"
        },
        "id": "Fuu88KEujjwe",
        "outputId": "9f911f6f-1c7e-45fe-e7e0-173fcff7a801"
      },
      "execution_count": null,
      "outputs": [
        {
          "output_type": "stream",
          "name": "stdout",
          "text": [
            "['info@example.com', 'support@domain.com']\n"
          ]
        }
      ]
    },
    {
      "cell_type": "markdown",
      "source": [
        "7. Extract Dates in DD/MM/YYYY Format\n",
        "\n",
        "*   From \"Today's date is 09/04/2025 and yesterday was 08/04/2025.\", extract all dates.\n",
        "\n"
      ],
      "metadata": {
        "id": "v1AocDhLm2lp"
      }
    },
    {
      "cell_type": "code",
      "source": [
        "import re\n",
        "\n",
        "text = \"Today's date is 09/04/2025 and yesterday was 08/04/2025.\"\n",
        "\n",
        "pattern = r'\\d{2}/\\d{2}/\\d{4}'\n",
        "result = re.findall(pattern, text)\n",
        "print(result)"
      ],
      "metadata": {
        "id": "jeP4qcwzm5NX",
        "colab": {
          "base_uri": "https://localhost:8080/"
        },
        "outputId": "a5267414-3f0a-4c30-efb4-ee3aca25e189"
      },
      "execution_count": 2,
      "outputs": [
        {
          "output_type": "stream",
          "name": "stdout",
          "text": [
            "['09/04/2025', '08/04/2025']\n"
          ]
        }
      ]
    },
    {
      "cell_type": "markdown",
      "source": [
        "8. Extract all hashtags from the tweet \"Loving #Python and #regex in #DataScience!\""
      ],
      "metadata": {
        "id": "iXJUIN2MSPO6"
      }
    },
    {
      "cell_type": "code",
      "source": [
        "import re\n",
        "\n",
        "text = \"Loving #Python and #regex in #DataScience!\"\n",
        "pattern = r'#[\\w]+'\n",
        "result = re.findall(pattern, text)\n",
        "print(result)"
      ],
      "metadata": {
        "colab": {
          "base_uri": "https://localhost:8080/"
        },
        "id": "cVT7KHnTSS4w",
        "outputId": "76266e0a-8f40-437c-c20c-3196af66351c"
      },
      "execution_count": 3,
      "outputs": [
        {
          "output_type": "stream",
          "name": "stdout",
          "text": [
            "['#Python', '#regex', '#DataScience']\n"
          ]
        }
      ]
    }
  ]
}