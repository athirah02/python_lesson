{
  "nbformat": 4,
  "nbformat_minor": 0,
  "metadata": {
    "colab": {
      "provenance": [],
      "authorship_tag": "ABX9TyMp62wqfT2VQyU+rsK8LxDJ",
      "include_colab_link": true
    },
    "kernelspec": {
      "name": "python3",
      "display_name": "Python 3"
    },
    "language_info": {
      "name": "python"
    }
  },
  "cells": [
    {
      "cell_type": "markdown",
      "metadata": {
        "id": "view-in-github",
        "colab_type": "text"
      },
      "source": [
        "<a href=\"https://colab.research.google.com/github/athirah02/python_lesson/blob/main/python101.ipynb\" target=\"_parent\"><img src=\"https://colab.research.google.com/assets/colab-badge.svg\" alt=\"Open In Colab\"/></a>"
      ]
    },
    {
      "cell_type": "markdown",
      "source": [
        "**33. min, max, sum with numbers in [list]**"
      ],
      "metadata": {
        "id": "rwqvpm5tg8GC"
      }
    },
    {
      "cell_type": "code",
      "execution_count": null,
      "metadata": {
        "colab": {
          "base_uri": "https://localhost:8080/"
        },
        "id": "362fwfYUgx73",
        "outputId": "4da169b0-17af-4394-fa48-55d09d122724"
      },
      "outputs": [
        {
          "output_type": "stream",
          "name": "stdout",
          "text": [
            "1\n",
            "10\n",
            "55\n"
          ]
        }
      ],
      "source": [
        "listNum = [1,2,3,4,5,6,7,8,9,10]\n",
        "print(min(listNum))\n",
        "print(max(listNum))\n",
        "print(sum(listNum))"
      ]
    },
    {
      "cell_type": "markdown",
      "source": [
        "**34. slicing list**"
      ],
      "metadata": {
        "id": "gVMVB9fChWvt"
      }
    },
    {
      "cell_type": "code",
      "source": [
        "#[first element : last element]\n",
        "#starts with 0 and up to before the mentioned index\n",
        "\n",
        "OS = ['Mac', 'Windows', 'Linux', 'Android', 'iOS']\n",
        "print(OS[0:5])\n",
        "print(OS[:5])\n",
        "print(OS[1:3])\n",
        "print(OS[2:])\n",
        "\n",
        "#(-) starts with -1 in the rightmost\n",
        "print(OS[-3:])\n",
        "print(OS[-4:-2])"
      ],
      "metadata": {
        "colab": {
          "base_uri": "https://localhost:8080/"
        },
        "id": "fdnWmKi2hZ9f",
        "outputId": "7308869d-4053-4456-ee7a-3ee5a922b160"
      },
      "execution_count": null,
      "outputs": [
        {
          "output_type": "stream",
          "name": "stdout",
          "text": [
            "['Mac', 'Windows', 'Linux', 'Android', 'iOS']\n",
            "['Mac', 'Windows', 'Linux', 'Android', 'iOS']\n",
            "['Windows', 'Linux']\n",
            "['Linux', 'Android', 'iOS']\n",
            "['Linux', 'Android', 'iOS']\n",
            "['Windows', 'Linux']\n"
          ]
        }
      ]
    },
    {
      "cell_type": "markdown",
      "source": [
        "**35. loop with slicing list**"
      ],
      "metadata": {
        "id": "7qlODBwfjHBk"
      }
    },
    {
      "cell_type": "code",
      "source": [
        "OS = ['Mac', 'Windows', 'Linux', 'Android', 'iOS']\n",
        "for OS in OS[0:5]:\n",
        " print(OS)"
      ],
      "metadata": {
        "colab": {
          "base_uri": "https://localhost:8080/"
        },
        "id": "Son2bzmvjLbC",
        "outputId": "30e3fc10-f771-4396-9d05-8991c6a98cb4"
      },
      "execution_count": null,
      "outputs": [
        {
          "output_type": "stream",
          "name": "stdout",
          "text": [
            "Mac\n",
            "Windows\n",
            "Linux\n",
            "Android\n",
            "iOS\n"
          ]
        }
      ]
    },
    {
      "cell_type": "code",
      "source": [
        "OS = ['Mac', 'Windows', 'Linux', 'Android', 'iOS']\n",
        "for OS in OS[2:4]:\n",
        " print(OS)"
      ],
      "metadata": {
        "colab": {
          "base_uri": "https://localhost:8080/"
        },
        "id": "_TnOB4Cgjm1r",
        "outputId": "8aa0aeb7-9779-47c2-f84e-0e5a7196cd22"
      },
      "execution_count": null,
      "outputs": [
        {
          "output_type": "stream",
          "name": "stdout",
          "text": [
            "Linux\n",
            "Android\n"
          ]
        }
      ]
    },
    {
      "cell_type": "markdown",
      "source": [
        "**36. copy list using slicing list**"
      ],
      "metadata": {
        "id": "HKx_CZZJjs6k"
      }
    },
    {
      "cell_type": "code",
      "source": [
        "animals = ['tiger', 'otter', 'lion', 'panda', 'fox']\n",
        "copy_animals = animals[:]\n",
        "print(animals)\n",
        "print(copy_animals)\n",
        "copy_animals.append('whale')\n",
        "print(copy_animals)\n",
        "print(animals)"
      ],
      "metadata": {
        "colab": {
          "base_uri": "https://localhost:8080/"
        },
        "id": "ZZV4aCgCjyXs",
        "outputId": "feba9573-cf51-470d-b39d-4ad4415a029d"
      },
      "execution_count": null,
      "outputs": [
        {
          "output_type": "stream",
          "name": "stdout",
          "text": [
            "['tiger', 'otter', 'lion', 'panda', 'fox']\n",
            "['tiger', 'otter', 'lion', 'panda', 'fox']\n",
            "['tiger', 'otter', 'lion', 'panda', 'fox', 'whale']\n",
            "['tiger', 'otter', 'lion', 'panda', 'fox']\n"
          ]
        }
      ]
    },
    {
      "cell_type": "markdown",
      "source": [
        "**37. (tuples)**"
      ],
      "metadata": {
        "id": "9c09hQYTkjIx"
      }
    },
    {
      "cell_type": "code",
      "source": [
        "tup = (200, 50)\n",
        "print(tup)\n",
        "#[] refers to element for the index\n",
        "print(tup[0])\n",
        "print(tup[1])\n",
        "\n",
        "for tup in tup:\n",
        "  print(tup)\n",
        "\n",
        "#modify tuple with overwriting\n",
        "tup =(1000, 250, 300)\n",
        "print(tup)"
      ],
      "metadata": {
        "colab": {
          "base_uri": "https://localhost:8080/"
        },
        "id": "u3IANiWn9wa2",
        "outputId": "6936e7b6-4712-4751-895d-bfe387fc7ec0"
      },
      "execution_count": null,
      "outputs": [
        {
          "output_type": "stream",
          "name": "stdout",
          "text": [
            "(200, 50)\n",
            "200\n",
            "50\n",
            "200\n",
            "50\n",
            "(1000, 250, 300)\n"
          ]
        }
      ]
    },
    {
      "cell_type": "markdown",
      "source": [
        "**38. if, else statements**"
      ],
      "metadata": {
        "id": "sGiWeHld-uI8"
      }
    },
    {
      "cell_type": "code",
      "source": [
        "x = 10\n",
        "if x == 10:\n",
        "  print('x is equal to 10')\n",
        "else:\n",
        "  print('x is not equal to 10')"
      ],
      "metadata": {
        "colab": {
          "base_uri": "https://localhost:8080/"
        },
        "id": "zlgeolBe--gt",
        "outputId": "3ce83ebb-5b47-4770-d29d-b911d42cabd5"
      },
      "execution_count": null,
      "outputs": [
        {
          "output_type": "stream",
          "name": "stdout",
          "text": [
            "x is not equal to 10\n"
          ]
        }
      ]
    },
    {
      "cell_type": "markdown",
      "source": [
        "**39. equal, greater or less than operators**"
      ],
      "metadata": {
        "id": "tlAPnXAm_lUk"
      }
    },
    {
      "cell_type": "code",
      "source": [
        "x = 1\n",
        "y = 3\n",
        "if x > y:\n",
        "  print('Yes, x is bigger than y')\n",
        "else:\n",
        "  print('No, x is smaller than y')"
      ],
      "metadata": {
        "colab": {
          "base_uri": "https://localhost:8080/"
        },
        "id": "yVZqL_Lx_qtY",
        "outputId": "c4311a1f-f7b7-4fb1-dff7-b07b26107add"
      },
      "execution_count": null,
      "outputs": [
        {
          "output_type": "stream",
          "name": "stdout",
          "text": [
            "No, x is smaller than y\n"
          ]
        }
      ]
    },
    {
      "cell_type": "markdown",
      "source": [
        "**40. compare strings**"
      ],
      "metadata": {
        "id": "nrMNsJudAmh0"
      }
    },
    {
      "cell_type": "code",
      "source": [
        "name = 'Windows'\n",
        "name2 = '11'\n",
        "if name == name2:\n",
        "  print('strings are equal')\n",
        "else:\n",
        "  print('strings are not equal')"
      ],
      "metadata": {
        "colab": {
          "base_uri": "https://localhost:8080/"
        },
        "id": "TueP2wwMAtBu",
        "outputId": "8ee9ab4f-b787-428a-bd34-9fe5966a87d5"
      },
      "execution_count": null,
      "outputs": [
        {
          "output_type": "stream",
          "name": "stdout",
          "text": [
            "strings are not equal\n"
          ]
        }
      ]
    },
    {
      "cell_type": "markdown",
      "source": [
        "**41. using NOT equal with if, else statements**"
      ],
      "metadata": {
        "id": "hDA5sjQ9CNUT"
      }
    },
    {
      "cell_type": "code",
      "source": [
        "num = 5\n",
        "num2 = 10\n",
        "\n",
        "#if num != 5:\n",
        "  #print('num is not equal to 5')\n",
        "\n",
        "if num != num2:\n",
        "  print('num is not equal to num2')\n",
        "else:\n",
        "  print('num is equal to num2')"
      ],
      "metadata": {
        "colab": {
          "base_uri": "https://localhost:8080/"
        },
        "id": "9TmmkBoaCVEP",
        "outputId": "c08fa47a-2d8b-4cd9-d4cd-2565c3413228"
      },
      "execution_count": null,
      "outputs": [
        {
          "output_type": "stream",
          "name": "stdout",
          "text": [
            "num is not equal to num2\n"
          ]
        }
      ]
    },
    {
      "cell_type": "markdown",
      "source": [
        "**42. using (and) with if, else statements**"
      ],
      "metadata": {
        "id": "hygoX8R_DuhU"
      }
    },
    {
      "cell_type": "code",
      "source": [
        "x = 10\n",
        "y = 5\n",
        "if(x >= y and x == y):\n",
        " print('true')\n",
        "else:\n",
        "  print('false')"
      ],
      "metadata": {
        "id": "fVIQcnXCD6LA",
        "outputId": "2ddce6ee-0eb6-4439-bd53-d526ac2c4261",
        "colab": {
          "base_uri": "https://localhost:8080/"
        }
      },
      "execution_count": null,
      "outputs": [
        {
          "output_type": "stream",
          "name": "stdout",
          "text": [
            "false\n"
          ]
        }
      ]
    },
    {
      "cell_type": "markdown",
      "source": [
        "**43. using (or) with if, else statements**"
      ],
      "metadata": {
        "id": "VV4nB9WBEOoT"
      }
    },
    {
      "cell_type": "code",
      "source": [
        "x = 10\n",
        "y = 5\n",
        "if(x >= y or x == y):\n",
        " print('true')\n",
        "else:\n",
        "  print('false')"
      ],
      "metadata": {
        "id": "o6B8P-18Eh7k",
        "outputId": "98f6c1fb-3973-4b63-ad0a-6279ada75913",
        "colab": {
          "base_uri": "https://localhost:8080/"
        }
      },
      "execution_count": null,
      "outputs": [
        {
          "output_type": "stream",
          "name": "stdout",
          "text": [
            "true\n"
          ]
        }
      ]
    },
    {
      "cell_type": "markdown",
      "source": [
        "**44. check values in lists with if, else**"
      ],
      "metadata": {
        "id": "QTHsihjoEosY"
      }
    },
    {
      "cell_type": "code",
      "source": [
        "list = ['kang', 'lee', 'jung']\n",
        "if('kang' in list):\n",
        "  print('yes, kang is in the list')\n",
        "else:\n",
        "  print('no, kang isnt in the list')"
      ],
      "metadata": {
        "id": "IhKt4ce0Et8Z",
        "outputId": "121c09e7-ae44-4085-f55e-f8d76599b532",
        "colab": {
          "base_uri": "https://localhost:8080/"
        }
      },
      "execution_count": null,
      "outputs": [
        {
          "output_type": "stream",
          "name": "stdout",
          "text": [
            "yes, kang is in the list\n"
          ]
        }
      ]
    },
    {
      "cell_type": "markdown",
      "source": [
        "**45. check values NOT in list with if, else**"
      ],
      "metadata": {
        "id": "-Mv5r19tFKHX"
      }
    },
    {
      "cell_type": "code",
      "source": [
        "list = ['kang', 'lee', 'jung']\n",
        "if('xiao' not in list):\n",
        "  print('yes, xiao isnt in the list')\n",
        "else:\n",
        "  print('no, xiao is in the list')"
      ],
      "metadata": {
        "id": "__ogkkhiFSZB",
        "outputId": "127cdc9d-2ff4-4a67-bdfc-24104df95d7d",
        "colab": {
          "base_uri": "https://localhost:8080/"
        }
      },
      "execution_count": null,
      "outputs": [
        {
          "output_type": "stream",
          "name": "stdout",
          "text": [
            "yes, xiao isnt in the list\n"
          ]
        }
      ]
    },
    {
      "cell_type": "markdown",
      "source": [
        "**46. if-elif, else statements**"
      ],
      "metadata": {
        "id": "akHqSzqIFkdq"
      }
    },
    {
      "cell_type": "code",
      "source": [
        "salary = int(input('Enter your salary: '))\n",
        "\n",
        "if(salary < 1000):\n",
        "  amount = 200\n",
        "  print('You will get RM ' + str(amount) + ' of bonus')\n",
        "\n",
        "elif(salary == 1000):\n",
        "  amount = 300\n",
        "  print('You will get RM ' + str(amount) + ' of bonus')\n",
        "\n",
        "else:\n",
        "  print('Not eligible for bonus')\n"
      ],
      "metadata": {
        "id": "orfE2FSfFqKY",
        "outputId": "f181970c-8822-43c4-c850-fc24c4b6165d",
        "colab": {
          "base_uri": "https://localhost:8080/"
        }
      },
      "execution_count": null,
      "outputs": [
        {
          "output_type": "stream",
          "name": "stdout",
          "text": [
            "Enter your salary: 200\n",
            "You will get RM 200 of bonus\n"
          ]
        }
      ]
    },
    {
      "cell_type": "markdown",
      "source": [
        "**47. test multiple elif expressions**"
      ],
      "metadata": {
        "id": "q6-D75r0HB9w"
      }
    },
    {
      "cell_type": "code",
      "source": [
        "price = 120\n",
        "person = int(input('Enter number of person : '))\n",
        "\n",
        "if (person == 2):\n",
        "  price = 120*2\n",
        "  print('Total fee = ' + str(price))\n",
        "\n",
        "elif (person == 3):\n",
        "  extra = 1.2\n",
        "  price = (120*3) + 1.2\n",
        "  print('Total fee = ' + str(price))\n",
        "\n",
        "elif (person == 4):\n",
        "  extra = 1.5\n",
        "  price = (120*4) + 1.5\n",
        "  print('Total fee = ' + str(price))\n",
        "\n",
        "elif (person >= 5):\n",
        "  extra = 2\n",
        "  price = (120*person) + 2\n",
        "  print('Total fee = ' + str(price))\n",
        "\n",
        "else:\n",
        "  print('Total fee = ' + str(price))\n"
      ],
      "metadata": {
        "id": "NyZlR8J0HJ_W",
        "outputId": "b185ed46-38ac-40d8-c0df-5c7c84961047",
        "colab": {
          "base_uri": "https://localhost:8080/"
        }
      },
      "execution_count": null,
      "outputs": [
        {
          "output_type": "stream",
          "name": "stdout",
          "text": [
            "Enter number of person : 8\n",
            "Total fee = 962\n"
          ]
        }
      ]
    },
    {
      "cell_type": "markdown",
      "source": [
        "**48. {dictionary} in python**"
      ],
      "metadata": {
        "id": "v8j_gGKOIj0Q"
      }
    },
    {
      "cell_type": "code",
      "source": [
        "dic = {'toyota': 'volvo', 'mercedes': 'bmw'}\n",
        "print(dic['toyota'])\n",
        "print(dic['mercedes'])\n",
        "#can only mention left key, so print(dic['volvo']) is wrong"
      ],
      "metadata": {
        "id": "ZmJBYIlFIqAG",
        "outputId": "9c950cd3-b357-4678-f6ae-a100f6c33ba9",
        "colab": {
          "base_uri": "https://localhost:8080/"
        }
      },
      "execution_count": null,
      "outputs": [
        {
          "output_type": "stream",
          "name": "stdout",
          "text": [
            "volvo\n",
            "bmw\n"
          ]
        }
      ]
    },
    {
      "cell_type": "markdown",
      "source": [
        "**49. add new value in dictionary**"
      ],
      "metadata": {
        "id": "3guHw2wPJjup"
      }
    },
    {
      "cell_type": "code",
      "source": [
        "dic = {'volvo': 's60', 'country': 'sweden'}\n",
        "print(dic['volvo'])\n",
        "print(dic['country'])\n",
        "\n",
        "dic['color'] = 'vapor grey'\n",
        "print(dic['color'])"
      ],
      "metadata": {
        "id": "bpV7SDLcJnGQ",
        "outputId": "3c793aab-48d7-4c6f-95c8-d29fcb2e05f1",
        "colab": {
          "base_uri": "https://localhost:8080/"
        }
      },
      "execution_count": null,
      "outputs": [
        {
          "output_type": "stream",
          "name": "stdout",
          "text": [
            "s60\n",
            "sweden\n",
            "vapor grey\n"
          ]
        }
      ]
    },
    {
      "cell_type": "markdown",
      "source": [
        "**50. filling empty dictionary**"
      ],
      "metadata": {
        "id": "j_HxACAsLCzu"
      }
    },
    {
      "cell_type": "code",
      "source": [
        "dic = {}\n",
        "dic['state'] = 'illinois'\n",
        "dic['city'] = 'chicago'\n",
        "print(dic)"
      ],
      "metadata": {
        "id": "FxQoPz7fLTh1",
        "outputId": "74f27639-b828-450a-9d20-3e15e71d217f",
        "colab": {
          "base_uri": "https://localhost:8080/"
        }
      },
      "execution_count": null,
      "outputs": [
        {
          "output_type": "stream",
          "name": "stdout",
          "text": [
            "{'state': 'illinois', 'city': 'chicago'}\n"
          ]
        }
      ]
    },
    {
      "cell_type": "markdown",
      "source": [
        "**51. edit a value in dictionary**"
      ],
      "metadata": {
        "id": "hRNHJgQgQDz8"
      }
    },
    {
      "cell_type": "code",
      "source": [
        "dic = {'volvo': 's60', 'country': 'sweden'}\n",
        "print('before : ' + dic['volvo'])\n",
        "\n",
        "dic['volvo'] = 'xc90'\n",
        "print(dic)\n",
        "print('after : ' + dic['volvo'])"
      ],
      "metadata": {
        "id": "iahemKRBRdex",
        "outputId": "4c3871b1-3dd5-4cde-c46b-9e2d2da0b6fb",
        "colab": {
          "base_uri": "https://localhost:8080/"
        }
      },
      "execution_count": null,
      "outputs": [
        {
          "output_type": "stream",
          "name": "stdout",
          "text": [
            "before : s60\n",
            "{'volvo': 'xc90', 'country': 'sweden'}\n",
            "after : xc90\n"
          ]
        }
      ]
    },
    {
      "cell_type": "markdown",
      "source": [
        "52. delete a key from dictionary"
      ],
      "metadata": {
        "id": "iRbcoMM8R9D-"
      }
    },
    {
      "cell_type": "code",
      "source": [
        "dic = {'volvo': 's60', 'country': 'sweden'}\n",
        "print('before : ')\n",
        "print(dic)\n",
        "\n",
        "del dic['country']\n",
        "print('after : ')\n",
        "print(dic)"
      ],
      "metadata": {
        "id": "fW77z049SF_a",
        "outputId": "7a5922ca-7cc4-4b22-d582-14ab16c802e7",
        "colab": {
          "base_uri": "https://localhost:8080/"
        }
      },
      "execution_count": null,
      "outputs": [
        {
          "output_type": "stream",
          "name": "stdout",
          "text": [
            "before : \n",
            "{'volvo': 's60', 'country': 'sweden'}\n",
            "after : \n",
            "{'volvo': 's60'}\n"
          ]
        }
      ]
    },
    {
      "cell_type": "markdown",
      "source": [
        "**53. using input() function**"
      ],
      "metadata": {
        "id": "_8dtibmvShEb"
      }
    },
    {
      "cell_type": "code",
      "source": [
        "name = input('Enter your name?\\n')\n",
        "print('hi ' + name)\n",
        "\n",
        "user = input() #let user input anything\n",
        "print('thank you, ' + name)"
      ],
      "metadata": {
        "id": "xNnZf5IVSpoh",
        "outputId": "89c7e5ce-6cf4-4623-bffa-1c3c3711e350",
        "colab": {
          "base_uri": "https://localhost:8080/"
        }
      },
      "execution_count": null,
      "outputs": [
        {
          "output_type": "stream",
          "name": "stdout",
          "text": [
            "Enter your name?\n",
            "zhen\n",
            "hi zhen\n",
            "i'm good\n",
            "thank you, zhen\n"
          ]
        }
      ]
    },
    {
      "cell_type": "markdown",
      "source": [
        "**54. while loop**"
      ],
      "metadata": {
        "id": "sWcZRh75TQZa"
      }
    },
    {
      "cell_type": "code",
      "source": [
        "#looping as long as condition is true\n",
        "x = 1\n",
        "while (x <= 6):\n",
        "  print(x)\n",
        "  x += 1\n",
        "  #x = x + 1"
      ],
      "metadata": {
        "id": "vYGf7Rj7TVEL",
        "outputId": "61712635-ae71-4346-9897-6fe8348f17e3",
        "colab": {
          "base_uri": "https://localhost:8080/"
        }
      },
      "execution_count": null,
      "outputs": [
        {
          "output_type": "stream",
          "name": "stdout",
          "text": [
            "1\n",
            "2\n",
            "3\n",
            "4\n",
            "5\n",
            "6\n"
          ]
        }
      ]
    },
    {
      "cell_type": "markdown",
      "source": [
        "**55. using flag to stop looping**"
      ],
      "metadata": {
        "id": "0TsonkcuT86N"
      }
    },
    {
      "cell_type": "code",
      "source": [
        "x = ''\n",
        "character = 'Enter character :\\n'\n",
        "\n",
        "while(x != 'q'):\n",
        "  x = input(character)"
      ],
      "metadata": {
        "id": "QpP-7DkaUGth",
        "outputId": "07833d72-0a8a-4f59-850c-b4f4cd0c0649",
        "colab": {
          "base_uri": "https://localhost:8080/"
        }
      },
      "execution_count": null,
      "outputs": [
        {
          "name": "stdout",
          "output_type": "stream",
          "text": [
            "Enter character :\n",
            "a\n",
            "Enter character :\n",
            "r\n",
            "Enter character :\n",
            "e\n",
            "Enter character :\n",
            "q\n"
          ]
        }
      ]
    },
    {
      "cell_type": "markdown",
      "source": [
        "**56. infinite loop**"
      ],
      "metadata": {
        "id": "fMqhbvrKUjYz"
      }
    },
    {
      "cell_type": "code",
      "source": [
        "#when condition never becomes false\n",
        "x = 1\n",
        "while(x == 1):\n",
        "  name = input('Enter your name: ')\n",
        "  print('Your name is : ' + name)"
      ],
      "metadata": {
        "id": "8rc9PJCwUpN8",
        "outputId": "8cc9dcb0-0d9d-4a72-ef23-99001384de3a",
        "colab": {
          "base_uri": "https://localhost:8080/"
        }
      },
      "execution_count": null,
      "outputs": [
        {
          "output_type": "stream",
          "name": "stdout",
          "text": [
            "Enter your name: lee\n",
            "Your name is : lee\n",
            "Enter your name: kang\n",
            "Your name is : kang\n",
            "Enter your name: jung\n",
            "Your name is : jung\n"
          ]
        }
      ]
    },
    {
      "cell_type": "markdown",
      "source": [
        "**57. using break and continue with while loop**"
      ],
      "metadata": {
        "id": "GhEBrVUMVF-x"
      }
    },
    {
      "cell_type": "code",
      "source": [
        "#break can be used to exit while loop\n",
        "#continue is skip and return back to the beginning of the loop\n",
        "x = 1\n",
        "user = ' '\n",
        "while(x <= 5):\n",
        "  user = input('Enter your name : ')\n",
        "  print('Hi, '+ user)\n",
        "  if(user == 'kim'):\n",
        "   break\n",
        "  elif(user == 'huang')\n",
        "   continue\n",
        "  x+=1\n"
      ],
      "metadata": {
        "id": "uRPLfMH2VNt-"
      },
      "execution_count": null,
      "outputs": []
    },
    {
      "cell_type": "markdown",
      "source": [
        "**58. functions**"
      ],
      "metadata": {
        "id": "t-iESVjAiDSV"
      }
    },
    {
      "cell_type": "code",
      "source": [
        "#run when called\n",
        "def function():\n",
        "  print('hello')\n",
        "\n",
        "print('this is main program')\n",
        "function()"
      ],
      "metadata": {
        "id": "xIptRr0LiJkk",
        "outputId": "8b0508ef-5c15-40e3-d331-a22396fa6796",
        "colab": {
          "base_uri": "https://localhost:8080/"
        }
      },
      "execution_count": 1,
      "outputs": [
        {
          "output_type": "stream",
          "name": "stdout",
          "text": [
            "this is main program\n",
            "hello\n"
          ]
        }
      ]
    },
    {
      "cell_type": "markdown",
      "source": [
        "**59. arguments and parameters in functions**"
      ],
      "metadata": {
        "id": "t2XGk-IpiZg0"
      }
    },
    {
      "cell_type": "code",
      "source": [
        "def names(first_name, last_name):\n",
        "  print('first_name : ' + first_name)\n",
        "  print('last_name : ' + last_name)\n",
        "\n",
        "names('carlos', 'alcaraz')\n"
      ],
      "metadata": {
        "id": "WvBhuh_DiejT",
        "outputId": "6660b8cd-6e62-4018-d598-1228e379e506",
        "colab": {
          "base_uri": "https://localhost:8080/"
        }
      },
      "execution_count": 3,
      "outputs": [
        {
          "output_type": "stream",
          "name": "stdout",
          "text": [
            "first_name : carlos\n",
            "last_name : alcaraz\n"
          ]
        }
      ]
    },
    {
      "cell_type": "markdown",
      "source": [
        "**60. multiple function call**"
      ],
      "metadata": {
        "id": "pD__7WaDizvm"
      }
    },
    {
      "cell_type": "code",
      "source": [
        "def names(first_name, last_name):\n",
        "  print('first_name : ' + first_name)\n",
        "  print('last_name : ' + last_name)\n",
        "  print('\\n')\n",
        "\n",
        "names('carlos', 'alcaraz')\n",
        "names('madison', 'keys')\n",
        "names('elena', 'rybakina')"
      ],
      "metadata": {
        "id": "l6Xb1XC8i4_w",
        "outputId": "509d9f6f-bba5-4c1d-f678-6485c5dfb1b6",
        "colab": {
          "base_uri": "https://localhost:8080/"
        }
      },
      "execution_count": 17,
      "outputs": [
        {
          "output_type": "stream",
          "name": "stdout",
          "text": [
            "first_name : carlos\n",
            "last_name : alcaraz\n",
            "\n",
            "\n",
            "first_name : madison\n",
            "last_name : keys\n",
            "\n",
            "\n",
            "first_name : elena\n",
            "last_name : rybakina\n",
            "\n",
            "\n"
          ]
        }
      ]
    },
    {
      "cell_type": "markdown",
      "source": [
        "**61. default values in fucntions**"
      ],
      "metadata": {
        "id": "_P7FbTjBjKsS"
      }
    },
    {
      "cell_type": "code",
      "source": [
        "def names(first_name = 'carlos', last_name = 'alcaraz'):\n",
        "  print('first_name : ' + first_name)\n",
        "  print('last_name : ' + last_name)\n",
        "  print('\\n')\n",
        "\n",
        "names() #default\n",
        "names(first_name = 'jack', last_name = 'draper')"
      ],
      "metadata": {
        "id": "FSfTpR6DjN2J",
        "outputId": "8750c54e-8076-46cc-9271-f215791d5df8",
        "colab": {
          "base_uri": "https://localhost:8080/"
        }
      },
      "execution_count": 20,
      "outputs": [
        {
          "output_type": "stream",
          "name": "stdout",
          "text": [
            "first_name : carlos\n",
            "last_name : alcaraz\n",
            "\n",
            "\n",
            "first_name : jack\n",
            "last_name : draper\n",
            "\n",
            "\n"
          ]
        }
      ]
    },
    {
      "cell_type": "markdown",
      "source": [
        "**62. order matter in functions**"
      ],
      "metadata": {
        "id": "x8-wGlZQjzhg"
      }
    },
    {
      "cell_type": "code",
      "source": [
        "def names(first_name, last_name):\n",
        "  print('first_name : ' + first_name)\n",
        "  print('last_name : ' + last_name)\n",
        "  print('\\n')\n",
        "\n",
        "names('carlos', 'alcaraz')\n",
        "names('madison', 'keys')\n",
        "\n",
        "names(first_name = 'jack', last_name = 'draper')\n",
        "names(first_name = 'elena', last_name = 'rybakina')\n"
      ],
      "metadata": {
        "id": "93uSEsS9j54M",
        "outputId": "4ddcec4d-2d36-4d0f-e7ea-6cf015b3a757",
        "colab": {
          "base_uri": "https://localhost:8080/"
        }
      },
      "execution_count": 21,
      "outputs": [
        {
          "output_type": "stream",
          "name": "stdout",
          "text": [
            "first_name : carlos\n",
            "last_name : alcaraz\n",
            "\n",
            "\n",
            "first_name : madison\n",
            "last_name : keys\n",
            "\n",
            "\n",
            "first_name : jack\n",
            "last_name : draper\n",
            "\n",
            "\n",
            "first_name : elena\n",
            "last_name : rybakina\n",
            "\n",
            "\n"
          ]
        }
      ]
    },
    {
      "cell_type": "markdown",
      "source": [
        "**63. return value in functions**"
      ],
      "metadata": {
        "id": "GVVKa5UfkM1d"
      }
    },
    {
      "cell_type": "code",
      "source": [
        "def addition(a,b):\n",
        "  total = a+b\n",
        "  return total\n",
        "\n",
        "print(addition(20,5))"
      ],
      "metadata": {
        "id": "ozvRZUtdkWDG",
        "outputId": "f7667e78-3575-401c-c11f-c238f1a326d6",
        "colab": {
          "base_uri": "https://localhost:8080/"
        }
      },
      "execution_count": 22,
      "outputs": [
        {
          "output_type": "stream",
          "name": "stdout",
          "text": [
            "25\n"
          ]
        }
      ]
    },
    {
      "cell_type": "markdown",
      "source": [
        "**64. classes**"
      ],
      "metadata": {
        "id": "DwMMwIh7kewR"
      }
    },
    {
      "cell_type": "code",
      "source": [
        "#classes are blueprint not objects\n",
        "#classes are blueprint not objects\n",
        "#classes create object called instances\n",
        "\n",
        "class Student:\n",
        " name = 'zhen'\n",
        "\n",
        " def function(self):\n",
        "  print('hi ' + self.name)\n",
        "\n",
        "student = Student() #create instance\n",
        "student.function() #call method\n",
        "\n"
      ],
      "metadata": {
        "id": "kQKPQuRCkykm",
        "outputId": "9972ff2a-8d80-4926-bb39-a4cc90cca0fd",
        "colab": {
          "base_uri": "https://localhost:8080/"
        }
      },
      "execution_count": 31,
      "outputs": [
        {
          "output_type": "stream",
          "name": "stdout",
          "text": [
            "hi zhen\n"
          ]
        }
      ]
    },
    {
      "cell_type": "markdown",
      "source": [
        "**65. create a class**"
      ],
      "metadata": {
        "id": "cCO348dbmlz3"
      }
    },
    {
      "cell_type": "code",
      "source": [
        "class Person():\n",
        "  def insert(self, name, age, id):\n",
        "    self.name = name\n",
        "    self.age = age\n",
        "    self.id = id\n",
        "\n",
        "  def output(self)\n"
      ],
      "metadata": {
        "id": "_-dUgRh8mrDZ"
      },
      "execution_count": null,
      "outputs": []
    }
  ]
}