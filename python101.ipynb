{
  "nbformat": 4,
  "nbformat_minor": 0,
  "metadata": {
    "colab": {
      "provenance": [],
      "authorship_tag": "ABX9TyMq+2ivawTvakluEeZnEeRl",
      "include_colab_link": true
    },
    "kernelspec": {
      "name": "python3",
      "display_name": "Python 3"
    },
    "language_info": {
      "name": "python"
    }
  },
  "cells": [
    {
      "cell_type": "markdown",
      "metadata": {
        "id": "view-in-github",
        "colab_type": "text"
      },
      "source": [
        "<a href=\"https://colab.research.google.com/github/athirah02/python_lesson/blob/main/python101.ipynb\" target=\"_parent\"><img src=\"https://colab.research.google.com/assets/colab-badge.svg\" alt=\"Open In Colab\"/></a>"
      ]
    },
    {
      "cell_type": "markdown",
      "source": [
        "**33. min, max, sum with numbers in [list]**"
      ],
      "metadata": {
        "id": "rwqvpm5tg8GC"
      }
    },
    {
      "cell_type": "code",
      "execution_count": null,
      "metadata": {
        "colab": {
          "base_uri": "https://localhost:8080/"
        },
        "id": "362fwfYUgx73",
        "outputId": "4da169b0-17af-4394-fa48-55d09d122724"
      },
      "outputs": [
        {
          "output_type": "stream",
          "name": "stdout",
          "text": [
            "1\n",
            "10\n",
            "55\n"
          ]
        }
      ],
      "source": [
        "listNum = [1,2,3,4,5,6,7,8,9,10]\n",
        "print(min(listNum))\n",
        "print(max(listNum))\n",
        "print(sum(listNum))"
      ]
    },
    {
      "cell_type": "markdown",
      "source": [
        "**34. slicing list**"
      ],
      "metadata": {
        "id": "gVMVB9fChWvt"
      }
    },
    {
      "cell_type": "code",
      "source": [
        "#[first element : last element]\n",
        "#starts with 0 and up to before the mentioned index\n",
        "\n",
        "OS = ['Mac', 'Windows', 'Linux', 'Android', 'iOS']\n",
        "print(OS[0:5])\n",
        "print(OS[:5])\n",
        "print(OS[1:3])\n",
        "print(OS[2:])\n",
        "\n",
        "#(-) starts with -1 in the rightmost\n",
        "print(OS[-3:])\n",
        "print(OS[-4:-2])"
      ],
      "metadata": {
        "colab": {
          "base_uri": "https://localhost:8080/"
        },
        "id": "fdnWmKi2hZ9f",
        "outputId": "7308869d-4053-4456-ee7a-3ee5a922b160"
      },
      "execution_count": null,
      "outputs": [
        {
          "output_type": "stream",
          "name": "stdout",
          "text": [
            "['Mac', 'Windows', 'Linux', 'Android', 'iOS']\n",
            "['Mac', 'Windows', 'Linux', 'Android', 'iOS']\n",
            "['Windows', 'Linux']\n",
            "['Linux', 'Android', 'iOS']\n",
            "['Linux', 'Android', 'iOS']\n",
            "['Windows', 'Linux']\n"
          ]
        }
      ]
    },
    {
      "cell_type": "markdown",
      "source": [
        "**35. loop with slicing list**"
      ],
      "metadata": {
        "id": "7qlODBwfjHBk"
      }
    },
    {
      "cell_type": "code",
      "source": [
        "OS = ['Mac', 'Windows', 'Linux', 'Android', 'iOS']\n",
        "for OS in OS[0:5]:\n",
        " print(OS)"
      ],
      "metadata": {
        "colab": {
          "base_uri": "https://localhost:8080/"
        },
        "id": "Son2bzmvjLbC",
        "outputId": "30e3fc10-f771-4396-9d05-8991c6a98cb4"
      },
      "execution_count": null,
      "outputs": [
        {
          "output_type": "stream",
          "name": "stdout",
          "text": [
            "Mac\n",
            "Windows\n",
            "Linux\n",
            "Android\n",
            "iOS\n"
          ]
        }
      ]
    },
    {
      "cell_type": "code",
      "source": [
        "OS = ['Mac', 'Windows', 'Linux', 'Android', 'iOS']\n",
        "for OS in OS[2:4]:\n",
        " print(OS)"
      ],
      "metadata": {
        "colab": {
          "base_uri": "https://localhost:8080/"
        },
        "id": "_TnOB4Cgjm1r",
        "outputId": "8aa0aeb7-9779-47c2-f84e-0e5a7196cd22"
      },
      "execution_count": null,
      "outputs": [
        {
          "output_type": "stream",
          "name": "stdout",
          "text": [
            "Linux\n",
            "Android\n"
          ]
        }
      ]
    },
    {
      "cell_type": "markdown",
      "source": [
        "**36. copy list using slicing list**"
      ],
      "metadata": {
        "id": "HKx_CZZJjs6k"
      }
    },
    {
      "cell_type": "code",
      "source": [
        "animals = ['tiger', 'otter', 'lion', 'panda', 'fox']\n",
        "copy_animals = animals[:]\n",
        "print(animals)\n",
        "print(copy_animals)\n",
        "copy_animals.append('whale')\n",
        "print(copy_animals)\n",
        "print(animals)"
      ],
      "metadata": {
        "colab": {
          "base_uri": "https://localhost:8080/"
        },
        "id": "ZZV4aCgCjyXs",
        "outputId": "feba9573-cf51-470d-b39d-4ad4415a029d"
      },
      "execution_count": null,
      "outputs": [
        {
          "output_type": "stream",
          "name": "stdout",
          "text": [
            "['tiger', 'otter', 'lion', 'panda', 'fox']\n",
            "['tiger', 'otter', 'lion', 'panda', 'fox']\n",
            "['tiger', 'otter', 'lion', 'panda', 'fox', 'whale']\n",
            "['tiger', 'otter', 'lion', 'panda', 'fox']\n"
          ]
        }
      ]
    },
    {
      "cell_type": "markdown",
      "source": [
        "**37. (tuples)**"
      ],
      "metadata": {
        "id": "9c09hQYTkjIx"
      }
    },
    {
      "cell_type": "code",
      "source": [
        "tup = (200, 50)\n",
        "print(tup)\n",
        "#[] refers to element for the index\n",
        "print(tup[0])\n",
        "print(tup[1])\n",
        "\n",
        "for tup in tup:\n",
        "  print(tup)\n",
        "\n",
        "#modify tuple with overwriting\n",
        "tup =(1000, 250, 300)\n",
        "print(tup)"
      ],
      "metadata": {
        "colab": {
          "base_uri": "https://localhost:8080/"
        },
        "id": "u3IANiWn9wa2",
        "outputId": "6936e7b6-4712-4751-895d-bfe387fc7ec0"
      },
      "execution_count": null,
      "outputs": [
        {
          "output_type": "stream",
          "name": "stdout",
          "text": [
            "(200, 50)\n",
            "200\n",
            "50\n",
            "200\n",
            "50\n",
            "(1000, 250, 300)\n"
          ]
        }
      ]
    },
    {
      "cell_type": "markdown",
      "source": [
        "**38. if, else statements**"
      ],
      "metadata": {
        "id": "sGiWeHld-uI8"
      }
    },
    {
      "cell_type": "code",
      "source": [
        "x = 10\n",
        "if x == 10:\n",
        "  print('x is equal to 10')\n",
        "else:\n",
        "  print('x is not equal to 10')"
      ],
      "metadata": {
        "colab": {
          "base_uri": "https://localhost:8080/"
        },
        "id": "zlgeolBe--gt",
        "outputId": "3ce83ebb-5b47-4770-d29d-b911d42cabd5"
      },
      "execution_count": null,
      "outputs": [
        {
          "output_type": "stream",
          "name": "stdout",
          "text": [
            "x is not equal to 10\n"
          ]
        }
      ]
    },
    {
      "cell_type": "markdown",
      "source": [
        "**39. equal, greater or less than operators**"
      ],
      "metadata": {
        "id": "tlAPnXAm_lUk"
      }
    },
    {
      "cell_type": "code",
      "source": [
        "x = 1\n",
        "y = 3\n",
        "if x > y:\n",
        "  print('Yes, x is bigger than y')\n",
        "else:\n",
        "  print('No, x is smaller than y')"
      ],
      "metadata": {
        "colab": {
          "base_uri": "https://localhost:8080/"
        },
        "id": "yVZqL_Lx_qtY",
        "outputId": "c4311a1f-f7b7-4fb1-dff7-b07b26107add"
      },
      "execution_count": null,
      "outputs": [
        {
          "output_type": "stream",
          "name": "stdout",
          "text": [
            "No, x is smaller than y\n"
          ]
        }
      ]
    },
    {
      "cell_type": "markdown",
      "source": [
        "**40. compare strings**"
      ],
      "metadata": {
        "id": "nrMNsJudAmh0"
      }
    },
    {
      "cell_type": "code",
      "source": [
        "name = 'Windows'\n",
        "name2 = '11'\n",
        "if name == name2:\n",
        "  print('strings are equal')\n",
        "else:\n",
        "  print('strings are not equal')"
      ],
      "metadata": {
        "colab": {
          "base_uri": "https://localhost:8080/"
        },
        "id": "TueP2wwMAtBu",
        "outputId": "8ee9ab4f-b787-428a-bd34-9fe5966a87d5"
      },
      "execution_count": 2,
      "outputs": [
        {
          "output_type": "stream",
          "name": "stdout",
          "text": [
            "strings are not equal\n"
          ]
        }
      ]
    }
  ]
}