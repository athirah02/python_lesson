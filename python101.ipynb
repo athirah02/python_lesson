{
  "nbformat": 4,
  "nbformat_minor": 0,
  "metadata": {
    "colab": {
      "provenance": [],
      "authorship_tag": "ABX9TyO4kTXeEALNCu9FahQmbAo2",
      "include_colab_link": true
    },
    "kernelspec": {
      "name": "python3",
      "display_name": "Python 3"
    },
    "language_info": {
      "name": "python"
    }
  },
  "cells": [
    {
      "cell_type": "markdown",
      "metadata": {
        "id": "view-in-github",
        "colab_type": "text"
      },
      "source": [
        "<a href=\"https://colab.research.google.com/github/athirah02/python_lesson/blob/main/python101.ipynb\" target=\"_parent\"><img src=\"https://colab.research.google.com/assets/colab-badge.svg\" alt=\"Open In Colab\"/></a>"
      ]
    },
    {
      "cell_type": "markdown",
      "source": [
        "**33. min, max, sum with numbers in [list]**"
      ],
      "metadata": {
        "id": "rwqvpm5tg8GC"
      }
    },
    {
      "cell_type": "code",
      "source": [],
      "metadata": {
        "id": "fdHSK5fLQaEV"
      },
      "execution_count": null,
      "outputs": []
    },
    {
      "cell_type": "code",
      "execution_count": null,
      "metadata": {
        "colab": {
          "base_uri": "https://localhost:8080/"
        },
        "id": "362fwfYUgx73",
        "outputId": "4da169b0-17af-4394-fa48-55d09d122724"
      },
      "outputs": [
        {
          "output_type": "stream",
          "name": "stdout",
          "text": [
            "1\n",
            "10\n",
            "55\n"
          ]
        }
      ],
      "source": [
        "listNum = [1,2,3,4,5,6,7,8,9,10]\n",
        "print(min(listNum))\n",
        "print(max(listNum))\n",
        "print(sum(listNum))"
      ]
    },
    {
      "cell_type": "markdown",
      "source": [
        "**34. slicing list**"
      ],
      "metadata": {
        "id": "gVMVB9fChWvt"
      }
    },
    {
      "cell_type": "code",
      "source": [
        "#[first element : last element]\n",
        "#starts with 0 and up to before the mentioned index\n",
        "\n",
        "OS = ['Mac', 'Windows', 'Linux', 'Android', 'iOS']\n",
        "print(OS[0:5])\n",
        "print(OS[:5])\n",
        "print(OS[1:3])\n",
        "print(OS[2:])\n",
        "\n",
        "#(-) starts with -1 in the rightmost\n",
        "print(OS[-3:])\n",
        "print(OS[-4:-2])"
      ],
      "metadata": {
        "colab": {
          "base_uri": "https://localhost:8080/"
        },
        "id": "fdnWmKi2hZ9f",
        "outputId": "7308869d-4053-4456-ee7a-3ee5a922b160"
      },
      "execution_count": null,
      "outputs": [
        {
          "output_type": "stream",
          "name": "stdout",
          "text": [
            "['Mac', 'Windows', 'Linux', 'Android', 'iOS']\n",
            "['Mac', 'Windows', 'Linux', 'Android', 'iOS']\n",
            "['Windows', 'Linux']\n",
            "['Linux', 'Android', 'iOS']\n",
            "['Linux', 'Android', 'iOS']\n",
            "['Windows', 'Linux']\n"
          ]
        }
      ]
    },
    {
      "cell_type": "markdown",
      "source": [
        "**35. loop with slicing list**"
      ],
      "metadata": {
        "id": "7qlODBwfjHBk"
      }
    },
    {
      "cell_type": "code",
      "source": [
        "OS = ['Mac', 'Windows', 'Linux', 'Android', 'iOS']\n",
        "for OS in OS[0:5]:\n",
        " print(OS)"
      ],
      "metadata": {
        "colab": {
          "base_uri": "https://localhost:8080/"
        },
        "id": "Son2bzmvjLbC",
        "outputId": "30e3fc10-f771-4396-9d05-8991c6a98cb4"
      },
      "execution_count": null,
      "outputs": [
        {
          "output_type": "stream",
          "name": "stdout",
          "text": [
            "Mac\n",
            "Windows\n",
            "Linux\n",
            "Android\n",
            "iOS\n"
          ]
        }
      ]
    },
    {
      "cell_type": "code",
      "source": [
        "OS = ['Mac', 'Windows', 'Linux', 'Android', 'iOS']\n",
        "for OS in OS[2:4]:\n",
        " print(OS)"
      ],
      "metadata": {
        "colab": {
          "base_uri": "https://localhost:8080/"
        },
        "id": "_TnOB4Cgjm1r",
        "outputId": "8aa0aeb7-9779-47c2-f84e-0e5a7196cd22"
      },
      "execution_count": null,
      "outputs": [
        {
          "output_type": "stream",
          "name": "stdout",
          "text": [
            "Linux\n",
            "Android\n"
          ]
        }
      ]
    },
    {
      "cell_type": "markdown",
      "source": [
        "**36. copy list using slicing list**"
      ],
      "metadata": {
        "id": "HKx_CZZJjs6k"
      }
    },
    {
      "cell_type": "code",
      "source": [
        "animals = ['tiger', 'otter', 'lion', 'panda', 'fox']\n",
        "copy_animals = animals[:]\n",
        "print(animals)\n",
        "print(copy_animals)\n",
        "copy_animals.append('whale')\n",
        "print(copy_animals)\n",
        "print(animals)"
      ],
      "metadata": {
        "colab": {
          "base_uri": "https://localhost:8080/"
        },
        "id": "ZZV4aCgCjyXs",
        "outputId": "feba9573-cf51-470d-b39d-4ad4415a029d"
      },
      "execution_count": null,
      "outputs": [
        {
          "output_type": "stream",
          "name": "stdout",
          "text": [
            "['tiger', 'otter', 'lion', 'panda', 'fox']\n",
            "['tiger', 'otter', 'lion', 'panda', 'fox']\n",
            "['tiger', 'otter', 'lion', 'panda', 'fox', 'whale']\n",
            "['tiger', 'otter', 'lion', 'panda', 'fox']\n"
          ]
        }
      ]
    },
    {
      "cell_type": "markdown",
      "source": [
        "**37. (tuples)**"
      ],
      "metadata": {
        "id": "9c09hQYTkjIx"
      }
    },
    {
      "cell_type": "code",
      "source": [
        "tup = (200, 50)\n",
        "print(tup)\n",
        "#[] refers to element for the index\n",
        "print(tup[0])\n",
        "print(tup[1])\n",
        "\n",
        "for tup in tup:\n",
        "  print(tup)\n",
        "\n",
        "#modify tuple with overwriting\n",
        "tup =(1000, 250, 300)\n",
        "print(tup)\n",
        "print(tup[0])\n",
        "print(tup[2])"
      ],
      "metadata": {
        "colab": {
          "base_uri": "https://localhost:8080/"
        },
        "id": "u3IANiWn9wa2",
        "outputId": "02311e20-6a3e-415c-eb7e-3adbbdadacd1"
      },
      "execution_count": null,
      "outputs": [
        {
          "output_type": "stream",
          "name": "stdout",
          "text": [
            "(200, 50)\n",
            "200\n",
            "50\n",
            "200\n",
            "50\n",
            "(1000, 250, 300)\n",
            "1000\n",
            "300\n"
          ]
        }
      ]
    },
    {
      "cell_type": "markdown",
      "source": [
        "**38. if, else statements**"
      ],
      "metadata": {
        "id": "sGiWeHld-uI8"
      }
    },
    {
      "cell_type": "code",
      "source": [
        "x = 10\n",
        "if x == 10:\n",
        "  print('x is equal to 10')\n",
        "else:\n",
        "  print('x is not equal to 10')"
      ],
      "metadata": {
        "colab": {
          "base_uri": "https://localhost:8080/"
        },
        "id": "zlgeolBe--gt",
        "outputId": "3ce83ebb-5b47-4770-d29d-b911d42cabd5"
      },
      "execution_count": null,
      "outputs": [
        {
          "output_type": "stream",
          "name": "stdout",
          "text": [
            "x is not equal to 10\n"
          ]
        }
      ]
    },
    {
      "cell_type": "markdown",
      "source": [
        "**39. equal, greater or less than operators**"
      ],
      "metadata": {
        "id": "tlAPnXAm_lUk"
      }
    },
    {
      "cell_type": "code",
      "source": [
        "x = 1\n",
        "y = 3\n",
        "if x > y:\n",
        "  print('Yes, x is bigger than y')\n",
        "else:\n",
        "  print('No, x is smaller than y')"
      ],
      "metadata": {
        "colab": {
          "base_uri": "https://localhost:8080/"
        },
        "id": "yVZqL_Lx_qtY",
        "outputId": "c4311a1f-f7b7-4fb1-dff7-b07b26107add"
      },
      "execution_count": null,
      "outputs": [
        {
          "output_type": "stream",
          "name": "stdout",
          "text": [
            "No, x is smaller than y\n"
          ]
        }
      ]
    },
    {
      "cell_type": "markdown",
      "source": [
        "**40. compare strings**"
      ],
      "metadata": {
        "id": "nrMNsJudAmh0"
      }
    },
    {
      "cell_type": "code",
      "source": [
        "name = 'Windows'\n",
        "name2 = '11'\n",
        "if name == name2:\n",
        "  print('strings are equal')\n",
        "else:\n",
        "  print('strings are not equal')"
      ],
      "metadata": {
        "colab": {
          "base_uri": "https://localhost:8080/"
        },
        "id": "TueP2wwMAtBu",
        "outputId": "8ee9ab4f-b787-428a-bd34-9fe5966a87d5"
      },
      "execution_count": null,
      "outputs": [
        {
          "output_type": "stream",
          "name": "stdout",
          "text": [
            "strings are not equal\n"
          ]
        }
      ]
    },
    {
      "cell_type": "markdown",
      "source": [
        "**41. using NOT equal with if, else statements**"
      ],
      "metadata": {
        "id": "hDA5sjQ9CNUT"
      }
    },
    {
      "cell_type": "code",
      "source": [
        "num = 5\n",
        "num2 = 10\n",
        "\n",
        "#if num != 5:\n",
        "  #print('num is not equal to 5')\n",
        "\n",
        "if num != num2:\n",
        "  print('num is not equal to num2')\n",
        "else:\n",
        "  print('num is equal to num2')"
      ],
      "metadata": {
        "colab": {
          "base_uri": "https://localhost:8080/"
        },
        "id": "9TmmkBoaCVEP",
        "outputId": "c08fa47a-2d8b-4cd9-d4cd-2565c3413228"
      },
      "execution_count": null,
      "outputs": [
        {
          "output_type": "stream",
          "name": "stdout",
          "text": [
            "num is not equal to num2\n"
          ]
        }
      ]
    },
    {
      "cell_type": "markdown",
      "source": [
        "**42. using (and) with if, else statements**"
      ],
      "metadata": {
        "id": "hygoX8R_DuhU"
      }
    },
    {
      "cell_type": "code",
      "source": [
        "x = 10\n",
        "y = 5\n",
        "if(x >= y and x == y):\n",
        " print('true')\n",
        "else:\n",
        "  print('false')"
      ],
      "metadata": {
        "id": "fVIQcnXCD6LA",
        "outputId": "2ddce6ee-0eb6-4439-bd53-d526ac2c4261",
        "colab": {
          "base_uri": "https://localhost:8080/"
        }
      },
      "execution_count": null,
      "outputs": [
        {
          "output_type": "stream",
          "name": "stdout",
          "text": [
            "false\n"
          ]
        }
      ]
    },
    {
      "cell_type": "markdown",
      "source": [
        "**43. using (or) with if, else statements**"
      ],
      "metadata": {
        "id": "VV4nB9WBEOoT"
      }
    },
    {
      "cell_type": "code",
      "source": [
        "x = 10\n",
        "y = 5\n",
        "if(x >= y or x == y):\n",
        " print('true')\n",
        "else:\n",
        "  print('false')"
      ],
      "metadata": {
        "id": "o6B8P-18Eh7k",
        "outputId": "98f6c1fb-3973-4b63-ad0a-6279ada75913",
        "colab": {
          "base_uri": "https://localhost:8080/"
        }
      },
      "execution_count": null,
      "outputs": [
        {
          "output_type": "stream",
          "name": "stdout",
          "text": [
            "true\n"
          ]
        }
      ]
    },
    {
      "cell_type": "markdown",
      "source": [
        "**44. check values in lists with if, else**"
      ],
      "metadata": {
        "id": "QTHsihjoEosY"
      }
    },
    {
      "cell_type": "code",
      "source": [
        "list = ['kang', 'lee', 'jung']\n",
        "if('kang' in list):\n",
        "  print('yes, kang is in the list')\n",
        "else:\n",
        "  print('no, kang isnt in the list')"
      ],
      "metadata": {
        "id": "IhKt4ce0Et8Z",
        "outputId": "121c09e7-ae44-4085-f55e-f8d76599b532",
        "colab": {
          "base_uri": "https://localhost:8080/"
        }
      },
      "execution_count": null,
      "outputs": [
        {
          "output_type": "stream",
          "name": "stdout",
          "text": [
            "yes, kang is in the list\n"
          ]
        }
      ]
    },
    {
      "cell_type": "markdown",
      "source": [
        "**45. check values NOT in list with if, else**"
      ],
      "metadata": {
        "id": "-Mv5r19tFKHX"
      }
    },
    {
      "cell_type": "code",
      "source": [
        "list = ['kang', 'lee', 'jung']\n",
        "if('xiao' not in list):\n",
        "  print('yes, xiao isnt in the list')\n",
        "else:\n",
        "  print('no, xiao is in the list')"
      ],
      "metadata": {
        "id": "__ogkkhiFSZB",
        "outputId": "127cdc9d-2ff4-4a67-bdfc-24104df95d7d",
        "colab": {
          "base_uri": "https://localhost:8080/"
        }
      },
      "execution_count": null,
      "outputs": [
        {
          "output_type": "stream",
          "name": "stdout",
          "text": [
            "yes, xiao isnt in the list\n"
          ]
        }
      ]
    },
    {
      "cell_type": "markdown",
      "source": [
        "**46. if-elif, else statements**"
      ],
      "metadata": {
        "id": "akHqSzqIFkdq"
      }
    },
    {
      "cell_type": "code",
      "source": [
        "salary = int(input('Enter your salary: '))\n",
        "\n",
        "if(salary < 1000):\n",
        "  amount = 200\n",
        "  print('You will get RM ' + str(amount) + ' of bonus')\n",
        "\n",
        "elif(salary == 1000):\n",
        "  amount = 300\n",
        "  print('You will get RM ' + str(amount) + ' of bonus')\n",
        "\n",
        "else:\n",
        "  print('Not eligible for bonus')\n"
      ],
      "metadata": {
        "id": "orfE2FSfFqKY",
        "outputId": "f181970c-8822-43c4-c850-fc24c4b6165d",
        "colab": {
          "base_uri": "https://localhost:8080/"
        }
      },
      "execution_count": null,
      "outputs": [
        {
          "output_type": "stream",
          "name": "stdout",
          "text": [
            "Enter your salary: 200\n",
            "You will get RM 200 of bonus\n"
          ]
        }
      ]
    },
    {
      "cell_type": "markdown",
      "source": [
        "**47. test multiple elif expressions**"
      ],
      "metadata": {
        "id": "q6-D75r0HB9w"
      }
    },
    {
      "cell_type": "code",
      "source": [
        "price = 120\n",
        "person = int(input('Enter number of person : '))\n",
        "\n",
        "if (person == 2):\n",
        "  price = 120*2\n",
        "  print('Total fee = ' + str(price))\n",
        "\n",
        "elif (person == 3):\n",
        "  extra = 1.2\n",
        "  price = (120*3) + 1.2\n",
        "  print('Total fee = ' + str(price))\n",
        "\n",
        "elif (person == 4):\n",
        "  extra = 1.5\n",
        "  price = (120*4) + 1.5\n",
        "  print('Total fee = ' + str(price))\n",
        "\n",
        "elif (person >= 5):\n",
        "  extra = 2\n",
        "  price = (120*person) + 2\n",
        "  print('Total fee = ' + str(price))\n",
        "\n",
        "else:\n",
        "  print('Total fee = ' + str(price))\n"
      ],
      "metadata": {
        "id": "NyZlR8J0HJ_W",
        "outputId": "b185ed46-38ac-40d8-c0df-5c7c84961047",
        "colab": {
          "base_uri": "https://localhost:8080/"
        }
      },
      "execution_count": null,
      "outputs": [
        {
          "output_type": "stream",
          "name": "stdout",
          "text": [
            "Enter number of person : 8\n",
            "Total fee = 962\n"
          ]
        }
      ]
    },
    {
      "cell_type": "markdown",
      "source": [
        "**48. {dictionary} in python**"
      ],
      "metadata": {
        "id": "v8j_gGKOIj0Q"
      }
    },
    {
      "cell_type": "code",
      "source": [
        "dic = {'toyota': 'volvo', 'mercedes': 'bmw'}\n",
        "print(dic['toyota'])\n",
        "print(dic['mercedes'])\n",
        "#can only mention left key, so print(dic['volvo']) is wrong"
      ],
      "metadata": {
        "id": "ZmJBYIlFIqAG",
        "outputId": "9c950cd3-b357-4678-f6ae-a100f6c33ba9",
        "colab": {
          "base_uri": "https://localhost:8080/"
        }
      },
      "execution_count": null,
      "outputs": [
        {
          "output_type": "stream",
          "name": "stdout",
          "text": [
            "volvo\n",
            "bmw\n"
          ]
        }
      ]
    },
    {
      "cell_type": "markdown",
      "source": [
        "**49. add new value in dictionary**"
      ],
      "metadata": {
        "id": "3guHw2wPJjup"
      }
    },
    {
      "cell_type": "code",
      "source": [
        "dic = {'volvo': 's60', 'country': 'sweden'}\n",
        "print(dic['volvo'])\n",
        "print(dic['country'])\n",
        "\n",
        "dic['color'] = 'vapor grey'\n",
        "print(dic['color'])"
      ],
      "metadata": {
        "id": "bpV7SDLcJnGQ",
        "outputId": "3c793aab-48d7-4c6f-95c8-d29fcb2e05f1",
        "colab": {
          "base_uri": "https://localhost:8080/"
        }
      },
      "execution_count": null,
      "outputs": [
        {
          "output_type": "stream",
          "name": "stdout",
          "text": [
            "s60\n",
            "sweden\n",
            "vapor grey\n"
          ]
        }
      ]
    },
    {
      "cell_type": "markdown",
      "source": [
        "**50. filling empty dictionary**"
      ],
      "metadata": {
        "id": "j_HxACAsLCzu"
      }
    },
    {
      "cell_type": "code",
      "source": [
        "dic = {}\n",
        "dic['state'] = 'illinois'\n",
        "dic['city'] = 'chicago'\n",
        "print(dic)"
      ],
      "metadata": {
        "id": "FxQoPz7fLTh1",
        "outputId": "74f27639-b828-450a-9d20-3e15e71d217f",
        "colab": {
          "base_uri": "https://localhost:8080/"
        }
      },
      "execution_count": null,
      "outputs": [
        {
          "output_type": "stream",
          "name": "stdout",
          "text": [
            "{'state': 'illinois', 'city': 'chicago'}\n"
          ]
        }
      ]
    },
    {
      "cell_type": "markdown",
      "source": [
        "**51. edit a value in dictionary**"
      ],
      "metadata": {
        "id": "hRNHJgQgQDz8"
      }
    },
    {
      "cell_type": "code",
      "source": [
        "dic = {'volvo': 's60', 'country': 'sweden'}\n",
        "print('before : ' + dic['volvo'])\n",
        "\n",
        "dic['volvo'] = 'xc90'\n",
        "print(dic)\n",
        "print('after : ' + dic['volvo'])"
      ],
      "metadata": {
        "id": "iahemKRBRdex",
        "outputId": "4c3871b1-3dd5-4cde-c46b-9e2d2da0b6fb",
        "colab": {
          "base_uri": "https://localhost:8080/"
        }
      },
      "execution_count": null,
      "outputs": [
        {
          "output_type": "stream",
          "name": "stdout",
          "text": [
            "before : s60\n",
            "{'volvo': 'xc90', 'country': 'sweden'}\n",
            "after : xc90\n"
          ]
        }
      ]
    },
    {
      "cell_type": "markdown",
      "source": [
        "52. delete a key from dictionary"
      ],
      "metadata": {
        "id": "iRbcoMM8R9D-"
      }
    },
    {
      "cell_type": "code",
      "source": [
        "dic = {'volvo': 's60', 'country': 'sweden'}\n",
        "print('before : ')\n",
        "print(dic)\n",
        "\n",
        "del dic['country']\n",
        "print('after : ')\n",
        "print(dic)"
      ],
      "metadata": {
        "id": "fW77z049SF_a",
        "outputId": "7a5922ca-7cc4-4b22-d582-14ab16c802e7",
        "colab": {
          "base_uri": "https://localhost:8080/"
        }
      },
      "execution_count": null,
      "outputs": [
        {
          "output_type": "stream",
          "name": "stdout",
          "text": [
            "before : \n",
            "{'volvo': 's60', 'country': 'sweden'}\n",
            "after : \n",
            "{'volvo': 's60'}\n"
          ]
        }
      ]
    },
    {
      "cell_type": "markdown",
      "source": [
        "**53. using input() function**"
      ],
      "metadata": {
        "id": "_8dtibmvShEb"
      }
    },
    {
      "cell_type": "code",
      "source": [
        "name = input('Enter your name?\\n')\n",
        "print('hi ' + name)\n",
        "\n",
        "user = input() #let user input anything\n",
        "print('thank you, ' + name)"
      ],
      "metadata": {
        "id": "xNnZf5IVSpoh",
        "outputId": "89c7e5ce-6cf4-4623-bffa-1c3c3711e350",
        "colab": {
          "base_uri": "https://localhost:8080/"
        }
      },
      "execution_count": null,
      "outputs": [
        {
          "output_type": "stream",
          "name": "stdout",
          "text": [
            "Enter your name?\n",
            "zhen\n",
            "hi zhen\n",
            "i'm good\n",
            "thank you, zhen\n"
          ]
        }
      ]
    },
    {
      "cell_type": "markdown",
      "source": [
        "**54. while loop**"
      ],
      "metadata": {
        "id": "sWcZRh75TQZa"
      }
    },
    {
      "cell_type": "code",
      "source": [
        "#looping as long as condition is true\n",
        "x = 1\n",
        "while (x <= 6):\n",
        "  print(x)\n",
        "  x += 1\n",
        "  #x = x + 1"
      ],
      "metadata": {
        "id": "vYGf7Rj7TVEL",
        "outputId": "61712635-ae71-4346-9897-6fe8348f17e3",
        "colab": {
          "base_uri": "https://localhost:8080/"
        }
      },
      "execution_count": null,
      "outputs": [
        {
          "output_type": "stream",
          "name": "stdout",
          "text": [
            "1\n",
            "2\n",
            "3\n",
            "4\n",
            "5\n",
            "6\n"
          ]
        }
      ]
    },
    {
      "cell_type": "markdown",
      "source": [
        "**55. using flag to stop looping**"
      ],
      "metadata": {
        "id": "0TsonkcuT86N"
      }
    },
    {
      "cell_type": "code",
      "source": [
        "x = ''\n",
        "character = 'Enter character :\\n'\n",
        "\n",
        "while(x != 'q'):\n",
        "  x = input(character)"
      ],
      "metadata": {
        "id": "QpP-7DkaUGth",
        "outputId": "07833d72-0a8a-4f59-850c-b4f4cd0c0649",
        "colab": {
          "base_uri": "https://localhost:8080/"
        }
      },
      "execution_count": null,
      "outputs": [
        {
          "name": "stdout",
          "output_type": "stream",
          "text": [
            "Enter character :\n",
            "a\n",
            "Enter character :\n",
            "r\n",
            "Enter character :\n",
            "e\n",
            "Enter character :\n",
            "q\n"
          ]
        }
      ]
    },
    {
      "cell_type": "markdown",
      "source": [
        "**56. infinite loop**"
      ],
      "metadata": {
        "id": "fMqhbvrKUjYz"
      }
    },
    {
      "cell_type": "code",
      "source": [
        "#when condition never becomes false\n",
        "x = 1\n",
        "while(x == 1):\n",
        "  name = input('Enter your name: ')\n",
        "  print('Your name is : ' + name)"
      ],
      "metadata": {
        "id": "8rc9PJCwUpN8",
        "outputId": "8cc9dcb0-0d9d-4a72-ef23-99001384de3a",
        "colab": {
          "base_uri": "https://localhost:8080/"
        }
      },
      "execution_count": null,
      "outputs": [
        {
          "output_type": "stream",
          "name": "stdout",
          "text": [
            "Enter your name: lee\n",
            "Your name is : lee\n",
            "Enter your name: kang\n",
            "Your name is : kang\n",
            "Enter your name: jung\n",
            "Your name is : jung\n"
          ]
        }
      ]
    },
    {
      "cell_type": "markdown",
      "source": [
        "**57. using break and continue with while loop**"
      ],
      "metadata": {
        "id": "GhEBrVUMVF-x"
      }
    },
    {
      "cell_type": "code",
      "source": [
        "#break can be used to exit while loop\n",
        "#continue is skip and return back to the beginning of the loop\n",
        "x = 1\n",
        "user = ' '\n",
        "while(x <= 5):\n",
        "  user = input('Enter your name : ')\n",
        "  print('Hi, '+ user)\n",
        "  if(user == 'kim'):\n",
        "   break\n",
        "  elif(user == 'huang')\n",
        "   continue\n",
        "  x+=1\n"
      ],
      "metadata": {
        "id": "uRPLfMH2VNt-"
      },
      "execution_count": null,
      "outputs": []
    },
    {
      "cell_type": "markdown",
      "source": [
        "**58. functions**"
      ],
      "metadata": {
        "id": "t-iESVjAiDSV"
      }
    },
    {
      "cell_type": "code",
      "source": [
        "#run when called\n",
        "def function():\n",
        "  print('hello')\n",
        "\n",
        "print('this is main program')\n",
        "function()"
      ],
      "metadata": {
        "colab": {
          "base_uri": "https://localhost:8080/"
        },
        "id": "xIptRr0LiJkk",
        "outputId": "8b0508ef-5c15-40e3-d331-a22396fa6796"
      },
      "execution_count": null,
      "outputs": [
        {
          "output_type": "stream",
          "name": "stdout",
          "text": [
            "this is main program\n",
            "hello\n"
          ]
        }
      ]
    },
    {
      "cell_type": "markdown",
      "source": [
        "**59. arguments and parameters in functions**"
      ],
      "metadata": {
        "id": "t2XGk-IpiZg0"
      }
    },
    {
      "cell_type": "code",
      "source": [
        "def names(first_name, last_name):\n",
        "  print('first_name : ' + first_name)\n",
        "  print('last_name : ' + last_name)\n",
        "\n",
        "names('carlos', 'alcaraz')\n"
      ],
      "metadata": {
        "colab": {
          "base_uri": "https://localhost:8080/"
        },
        "id": "WvBhuh_DiejT",
        "outputId": "6660b8cd-6e62-4018-d598-1228e379e506"
      },
      "execution_count": null,
      "outputs": [
        {
          "output_type": "stream",
          "name": "stdout",
          "text": [
            "first_name : carlos\n",
            "last_name : alcaraz\n"
          ]
        }
      ]
    },
    {
      "cell_type": "markdown",
      "source": [
        "**60. multiple function call**"
      ],
      "metadata": {
        "id": "pD__7WaDizvm"
      }
    },
    {
      "cell_type": "code",
      "source": [
        "def names(first_name, last_name):\n",
        "  print('first_name : ' + first_name)\n",
        "  print('last_name : ' + last_name)\n",
        "  print('\\n')\n",
        "\n",
        "names('carlos', 'alcaraz')\n",
        "names('madison', 'keys')\n",
        "names('elena', 'rybakina')"
      ],
      "metadata": {
        "colab": {
          "base_uri": "https://localhost:8080/"
        },
        "id": "l6Xb1XC8i4_w",
        "outputId": "509d9f6f-bba5-4c1d-f678-6485c5dfb1b6"
      },
      "execution_count": null,
      "outputs": [
        {
          "output_type": "stream",
          "name": "stdout",
          "text": [
            "first_name : carlos\n",
            "last_name : alcaraz\n",
            "\n",
            "\n",
            "first_name : madison\n",
            "last_name : keys\n",
            "\n",
            "\n",
            "first_name : elena\n",
            "last_name : rybakina\n",
            "\n",
            "\n"
          ]
        }
      ]
    },
    {
      "cell_type": "markdown",
      "source": [
        "**61. default values in fucntions**"
      ],
      "metadata": {
        "id": "_P7FbTjBjKsS"
      }
    },
    {
      "cell_type": "code",
      "source": [
        "def names(first_name = 'carlos', last_name = 'alcaraz'):\n",
        "  print('first_name : ' + first_name)\n",
        "  print('last_name : ' + last_name)\n",
        "  print('\\n')\n",
        "\n",
        "names() #default\n",
        "names(first_name = 'jack', last_name = 'draper')"
      ],
      "metadata": {
        "colab": {
          "base_uri": "https://localhost:8080/"
        },
        "id": "FSfTpR6DjN2J",
        "outputId": "8750c54e-8076-46cc-9271-f215791d5df8"
      },
      "execution_count": null,
      "outputs": [
        {
          "output_type": "stream",
          "name": "stdout",
          "text": [
            "first_name : carlos\n",
            "last_name : alcaraz\n",
            "\n",
            "\n",
            "first_name : jack\n",
            "last_name : draper\n",
            "\n",
            "\n"
          ]
        }
      ]
    },
    {
      "cell_type": "markdown",
      "source": [
        "**62. order matter in functions**"
      ],
      "metadata": {
        "id": "x8-wGlZQjzhg"
      }
    },
    {
      "cell_type": "code",
      "source": [
        "def names(first_name, last_name):\n",
        "  print('first_name : ' + first_name)\n",
        "  print('last_name : ' + last_name)\n",
        "  print('\\n')\n",
        "\n",
        "names('carlos', 'alcaraz')\n",
        "names('madison', 'keys')\n",
        "\n",
        "names(first_name = 'jack', last_name = 'draper')\n",
        "names(first_name = 'elena', last_name = 'rybakina')\n"
      ],
      "metadata": {
        "colab": {
          "base_uri": "https://localhost:8080/"
        },
        "id": "93uSEsS9j54M",
        "outputId": "4ddcec4d-2d36-4d0f-e7ea-6cf015b3a757"
      },
      "execution_count": null,
      "outputs": [
        {
          "output_type": "stream",
          "name": "stdout",
          "text": [
            "first_name : carlos\n",
            "last_name : alcaraz\n",
            "\n",
            "\n",
            "first_name : madison\n",
            "last_name : keys\n",
            "\n",
            "\n",
            "first_name : jack\n",
            "last_name : draper\n",
            "\n",
            "\n",
            "first_name : elena\n",
            "last_name : rybakina\n",
            "\n",
            "\n"
          ]
        }
      ]
    },
    {
      "cell_type": "markdown",
      "source": [
        "**63. return value in functions**"
      ],
      "metadata": {
        "id": "GVVKa5UfkM1d"
      }
    },
    {
      "cell_type": "code",
      "source": [
        "def addition(a,b):\n",
        "  total = a+b\n",
        "  return total\n",
        "\n",
        "print(addition(20,5))"
      ],
      "metadata": {
        "colab": {
          "base_uri": "https://localhost:8080/"
        },
        "id": "ozvRZUtdkWDG",
        "outputId": "f7667e78-3575-401c-c11f-c238f1a326d6"
      },
      "execution_count": null,
      "outputs": [
        {
          "output_type": "stream",
          "name": "stdout",
          "text": [
            "25\n"
          ]
        }
      ]
    },
    {
      "cell_type": "markdown",
      "source": [
        "**64. classes**"
      ],
      "metadata": {
        "id": "DwMMwIh7kewR"
      }
    },
    {
      "cell_type": "code",
      "source": [
        "#classes are blueprint not objects\n",
        "#classes are blueprint not objects\n",
        "#classes create object called instances\n",
        "\n",
        "class Student:\n",
        " name = 'zhen'\n",
        "\n",
        " def function(self):\n",
        "  print('hi ' + self.name)\n",
        "\n",
        "student = Student() #create instance\n",
        "student.function() #call method\n",
        "\n"
      ],
      "metadata": {
        "colab": {
          "base_uri": "https://localhost:8080/"
        },
        "id": "kQKPQuRCkykm",
        "outputId": "9972ff2a-8d80-4926-bb39-a4cc90cca0fd"
      },
      "execution_count": null,
      "outputs": [
        {
          "output_type": "stream",
          "name": "stdout",
          "text": [
            "hi zhen\n"
          ]
        }
      ]
    },
    {
      "cell_type": "markdown",
      "source": [
        "**65. create a class**"
      ],
      "metadata": {
        "id": "cCO348dbmlz3"
      }
    },
    {
      "cell_type": "code",
      "source": [
        "class Person():\n",
        "  def insert(self, name, age, id):\n",
        "    self.name = name\n",
        "    self.age = age\n",
        "    self.id = id\n",
        "\n",
        "  def output(self):\n",
        "    print('your name is ' + self.name + ', ' + self.age + ' years old' + '. ID = ' + self.id)\n"
      ],
      "metadata": {
        "id": "_-dUgRh8mrDZ"
      },
      "execution_count": null,
      "outputs": []
    },
    {
      "cell_type": "markdown",
      "source": [
        "**66. create a class instance or object**"
      ],
      "metadata": {
        "id": "aDbjvlQAxyjM"
      }
    },
    {
      "cell_type": "code",
      "source": [
        "class Person():\n",
        "  def insert(self, name, age, id):\n",
        "    self.name = name\n",
        "    self.age = age\n",
        "    self.id = id\n",
        "\n",
        "  def output(self):\n",
        "    print('your name is ' + self.name + ', ' + self.age + ' years old' + '. ID = ' + self.id)\n",
        "\n",
        "j = Person()\n",
        "j.insert('Holger' , '22' , '99234')\n",
        "j.output()"
      ],
      "metadata": {
        "id": "s6l6uVTRx07t",
        "outputId": "c0de4c97-c9a7-4e5b-826c-b5a5289fe5da",
        "colab": {
          "base_uri": "https://localhost:8080/"
        }
      },
      "execution_count": null,
      "outputs": [
        {
          "output_type": "stream",
          "name": "stdout",
          "text": [
            "your name is Holger, 22 years old. ID = 99234\n"
          ]
        }
      ]
    },
    {
      "cell_type": "markdown",
      "source": [
        "**67. constructor __init__(self) function**"
      ],
      "metadata": {
        "id": "cfy1FYAXyX7D"
      }
    },
    {
      "cell_type": "code",
      "source": [
        "#constructor is called whenever a new object of the class is created, should be called only during creating the object\n",
        "class Person():\n",
        "  def __init__(self, name, age, id):\n",
        "    self.name = name\n",
        "    self.age = age\n",
        "    self.id = id\n",
        "\n",
        "  def output(self):\n",
        "    print('your name is ' + self.name + ', ' + self.age + ' years old' + '. ID = ' + self.id)\n",
        "\n",
        "#use constructor create object kang\n",
        "#ensure indentation out of the class\n",
        "kang = Person('Kang','34','99234')\n",
        "kang.output()\n"
      ],
      "metadata": {
        "id": "Vq_PWxoOyomx",
        "outputId": "39768e08-15c0-402c-eecf-6c54d5a3ca63",
        "colab": {
          "base_uri": "https://localhost:8080/"
        }
      },
      "execution_count": null,
      "outputs": [
        {
          "output_type": "stream",
          "name": "stdout",
          "text": [
            "your name is Kang, 34 years old. ID = 99234\n"
          ]
        }
      ]
    },
    {
      "cell_type": "markdown",
      "source": [
        "**68. accessing variables or functions of an object**"
      ],
      "metadata": {
        "id": "jo9VEnTp0Q0Z"
      }
    },
    {
      "cell_type": "code",
      "source": [
        "#constructor is called whenever a new object of the class is created, should be called only during creating the object\n",
        "class Person():\n",
        "  def __init__(self, name, age, id):\n",
        "    self.name = name\n",
        "    self.age = age\n",
        "    self.id = id\n",
        "\n",
        "  def output(self):\n",
        "    print('your name is ' + self.name + ', ' + self.age + ' years old' + '. ID = ' + self.id)\n",
        "\n",
        "#use constructor create object kang\n",
        "#ensure indentation out of the class\n",
        "kang = Person('Kang','34','99234')\n",
        "\n",
        "print(kang.name) #use . to access variable/function\n",
        "print(kang.age)\n",
        "print(kang.id)\n",
        "print(kang.output())"
      ],
      "metadata": {
        "id": "O24IvVLL0ZD5",
        "outputId": "616041ee-bd5b-4934-e3a8-c48553944746",
        "colab": {
          "base_uri": "https://localhost:8080/"
        }
      },
      "execution_count": null,
      "outputs": [
        {
          "output_type": "stream",
          "name": "stdout",
          "text": [
            "Kang\n",
            "34\n",
            "99234\n",
            "your name is Kang, 34 years old. ID = 99234\n",
            "None\n"
          ]
        }
      ]
    },
    {
      "cell_type": "markdown",
      "source": [
        "**69. create multiple instances of a class**"
      ],
      "metadata": {
        "id": "FC-vgz_NIOvz"
      }
    },
    {
      "cell_type": "code",
      "source": [
        "class Person():\n",
        "  def __init__(self, name, age, id):\n",
        "    self.name = name\n",
        "    self.age = age\n",
        "    self.id = id\n",
        "\n",
        "  def output(self):\n",
        "    print('your name is ' + self.name + ', ' + self.age + ' years old' + '. ID = ' + self.id)\n",
        "\n",
        "#make multiple instances of a class\n",
        "k = Person('Kang', '34', '3234')\n",
        "s = Person('Son', '42', '4533')\n",
        "c = Person('Choi', '47', '9458')\n",
        "\n",
        "k.output()\n",
        "s.output()\n",
        "c.output()"
      ],
      "metadata": {
        "id": "m0lu21OmISQC",
        "outputId": "df948b5b-2e7d-464e-bc48-b4d7e51173c7",
        "colab": {
          "base_uri": "https://localhost:8080/"
        }
      },
      "execution_count": null,
      "outputs": [
        {
          "output_type": "stream",
          "name": "stdout",
          "text": [
            "your name is Kang, 34 years old. ID = 3234\n",
            "your name is Son, 42 years old. ID = 4533\n",
            "your name is Choi, 47 years old. ID = 9458\n"
          ]
        }
      ]
    },
    {
      "cell_type": "markdown",
      "source": [
        "**70. class inheritance**"
      ],
      "metadata": {
        "id": "MnreAWk8I0Wv"
      }
    },
    {
      "cell_type": "code",
      "source": [
        "#to create class child(subclass)\n",
        "class Person():\n",
        "  def __init__(self, name, age, id):\n",
        "    self.name = name\n",
        "    self.age = age\n",
        "    self.id = id\n",
        "\n",
        "  def output(self):\n",
        "    print('your name is ' + self.name + ', ' + self.age + ' years old' + '. ID = ' + self.id)\n",
        "\n",
        "\n",
        "class Child(Person):\n",
        "  pass #meaning child will inherit all from parent\n",
        "\n",
        "kid = Child('Andreeva', '17', '2456')\n",
        "kid.output()"
      ],
      "metadata": {
        "id": "nX6vwbhuI8mc",
        "outputId": "2045c047-8a51-4a60-d2b8-399592ebeaad",
        "colab": {
          "base_uri": "https://localhost:8080/"
        }
      },
      "execution_count": null,
      "outputs": [
        {
          "output_type": "stream",
          "name": "stdout",
          "text": [
            "your name is Andreeva, 17 years old. ID = 2456\n"
          ]
        }
      ]
    },
    {
      "cell_type": "markdown",
      "source": [
        "**71. more about inheritance**"
      ],
      "metadata": {
        "id": "Z4GHIh1PJmaV"
      }
    },
    {
      "cell_type": "code",
      "source": [
        "#to create class child(subclass)\n",
        "class Person():\n",
        "  def __init__(self, name, age, id):\n",
        "    self.name = name\n",
        "    self.age = age\n",
        "    self.id = id\n",
        "\n",
        "  def output(self):\n",
        "    print('your name is ' + self.name + ', ' + self.age + ' years old' + '. ID = ' + self.id)\n",
        "\n",
        "class Man():\n",
        "  def strong(self):\n",
        "    print('Men are strong')\n",
        "\n",
        "class Child(Person, Man):\n",
        "  pass #meaning child will inherit all from parent\n",
        "\n",
        "kid = Child('Andreeva', '17', '2456')\n",
        "kid.output()\n",
        "\n",
        "kid.strong()"
      ],
      "metadata": {
        "id": "XsR8v754JsiF",
        "outputId": "9017291e-c5a2-4544-b958-8240e9bbe4f3",
        "colab": {
          "base_uri": "https://localhost:8080/"
        }
      },
      "execution_count": null,
      "outputs": [
        {
          "output_type": "stream",
          "name": "stdout",
          "text": [
            "your name is Andreeva, 17 years old. ID = 2456\n",
            "Men are strong\n"
          ]
        }
      ]
    },
    {
      "cell_type": "markdown",
      "source": [
        "**extract**"
      ],
      "metadata": {
        "id": "q_FXgIA5DAyF"
      }
    },
    {
      "cell_type": "code",
      "source": [
        "text = 'PythonProgramming'\n",
        "#P y t h o n P r o g  r  a  m  m  i  n  g\n",
        "#0 1 2 3 4 5 6 7 8 9 10 11 12 13 14 15 16\n",
        "\n",
        "#extract Python using slicing\n",
        "print(text[0:6])\n",
        "\n",
        "#extract Programming\n",
        "print(text[6:17])\n",
        "\n",
        "#extract every 2nd character\n",
        "#start:end:step\n",
        "print(text[::2])\n",
        "\n",
        "#reverse list\n",
        "print(text[::-1])\n"
      ],
      "metadata": {
        "id": "YDNFl4kODL54",
        "outputId": "7543b5da-3f1a-4bee-ca2e-7446b666ecdb",
        "colab": {
          "base_uri": "https://localhost:8080/"
        }
      },
      "execution_count": null,
      "outputs": [
        {
          "output_type": "stream",
          "name": "stdout",
          "text": [
            "Python\n",
            "Programming\n",
            "PtoPormig\n",
            "gnimmargorPnohtyP\n"
          ]
        }
      ]
    },
    {
      "cell_type": "markdown",
      "source": [
        "**list slicing**"
      ],
      "metadata": {
        "id": "031UkBpIE6wi"
      }
    },
    {
      "cell_type": "code",
      "source": [
        "numbers = [10, 20, 30, 40, 50, 60, 70, 80, 90, 100]\n",
        "#10 20 30 40 50 60 70 80 90 100\n",
        "# 0  1  2  3  4  5  6  7  8   9\n",
        "\n",
        "#extract[30,40,50]\n",
        "print(numbers[2:5])\n",
        "\n",
        "#extract last 5 elements\n",
        "print(numbers[-5:])\n",
        "\n",
        "#extract alternate element\n",
        "#start:end:step\n",
        "print(numbers[::2])\n",
        "\n",
        "#reverse list\n",
        "print(numbers[::-1])"
      ],
      "metadata": {
        "id": "2KS8ENeCE8hI",
        "outputId": "f3757750-10c0-4e92-c06c-58ad70491a6e",
        "colab": {
          "base_uri": "https://localhost:8080/"
        }
      },
      "execution_count": null,
      "outputs": [
        {
          "output_type": "stream",
          "name": "stdout",
          "text": [
            "[30, 40, 50]\n",
            "[60, 70, 80, 90, 100]\n",
            "[10, 30, 50, 70, 90]\n",
            "[100, 90, 80, 70, 60, 50, 40, 30, 20, 10]\n"
          ]
        }
      ]
    },
    {
      "cell_type": "markdown",
      "source": [
        "**tuple slicing**"
      ],
      "metadata": {
        "id": "1s1frELzHGBE"
      }
    },
    {
      "cell_type": "code",
      "source": [
        "tup = (5, 10, 15, 20, 25, 30, 35, 40)\n",
        "#5 10 15 20 25 30 35 40\n",
        "#0  1  2  3  4  5  6  7\n",
        "\n",
        "#extract (15, 20, 25, 30)\n",
        "print(tup[2:6])\n",
        "\n",
        "#extract first 3 elements\n",
        "print(tup[:3])\n",
        "\n",
        "#extract every third element\n",
        "print(tup[::3])\n",
        "\n",
        "#reverse tuple\n",
        "print(tup[::-1])"
      ],
      "metadata": {
        "id": "TD4CMbm5HImU",
        "outputId": "42fa7761-eb63-4e12-b4dc-61d823061f6a",
        "colab": {
          "base_uri": "https://localhost:8080/"
        }
      },
      "execution_count": null,
      "outputs": [
        {
          "output_type": "stream",
          "name": "stdout",
          "text": [
            "(15, 20, 25, 30)\n",
            "(5, 10, 15)\n",
            "(5, 20, 35)\n",
            "(40, 35, 30, 25, 20, 15, 10, 5)\n"
          ]
        }
      ]
    },
    {
      "cell_type": "markdown",
      "source": [
        "**#C3 P2**\n",
        "\n",
        "**dictionary (class week 4)**"
      ],
      "metadata": {
        "id": "x105ZZiEQ3Uh"
      }
    },
    {
      "cell_type": "code",
      "source": [
        "d = {0:10, 1:20}\n",
        "print(d)\n",
        "d.update({2:30})\n",
        "print(d)"
      ],
      "metadata": {
        "id": "ewH5aFnUQlQS",
        "outputId": "b21295bf-a6cb-4964-aba3-4b022b1b3d86",
        "colab": {
          "base_uri": "https://localhost:8080/"
        }
      },
      "execution_count": 7,
      "outputs": [
        {
          "output_type": "stream",
          "name": "stdout",
          "text": [
            "{0: 10, 1: 20}\n",
            "{0: 10, 1: 20, 2: 30}\n"
          ]
        }
      ]
    },
    {
      "cell_type": "code",
      "source": [
        "d = {'name' : 'athirah', 'age' : 22}\n",
        "#print key\n",
        "for x in d:\n",
        "  print(x)\n",
        "\n",
        "#print values\n",
        "for x in d:\n",
        "  print(d[x])\n",
        "\n",
        "#use values()\n",
        "for x in d.values():\n",
        "  print(x)\n",
        "\n",
        "#loop key and values\n",
        "for x,y in d.items():\n",
        "  print(x,y)\n",
        "\n",
        "print('---')\n",
        "print(len(d))\n",
        "\n",
        "d['nationlity'] ='malaysian'\n",
        "print(d)\n",
        "\n",
        "del d['age']\n",
        "print(d)"
      ],
      "metadata": {
        "id": "YvIPoB7URCsg",
        "outputId": "3c3d8d50-4454-4d23-fe33-3f350c9d6419",
        "colab": {
          "base_uri": "https://localhost:8080/"
        }
      },
      "execution_count": 8,
      "outputs": [
        {
          "output_type": "stream",
          "name": "stdout",
          "text": [
            "name\n",
            "age\n",
            "athirah\n",
            "22\n",
            "athirah\n",
            "22\n",
            "name athirah\n",
            "age 22\n",
            "---\n",
            "2\n",
            "{'name': 'athirah', 'age': 22, 'nationlity': 'malaysian'}\n",
            "{'name': 'athirah', 'nationlity': 'malaysian'}\n"
          ]
        }
      ]
    },
    {
      "cell_type": "code",
      "source": [
        "d ={'a' : 123, 'b' : 93, 'c' : 465}\n",
        "max(d, key=d.get)\n",
        "min(d, key=d.get)"
      ],
      "metadata": {
        "id": "iCwlR55KU2S2",
        "outputId": "429f564c-bc9b-4505-9e84-830a9d1329e3",
        "colab": {
          "base_uri": "https://localhost:8080/",
          "height": 36
        }
      },
      "execution_count": 9,
      "outputs": [
        {
          "output_type": "execute_result",
          "data": {
            "text/plain": [
              "'b'"
            ],
            "application/vnd.google.colaboratory.intrinsic+json": {
              "type": "string"
            }
          },
          "metadata": {},
          "execution_count": 9
        }
      ]
    },
    {
      "cell_type": "markdown",
      "source": [
        "**check if key exists in dictionary**"
      ],
      "metadata": {
        "id": "bm3ttsKhs8tp"
      }
    },
    {
      "cell_type": "code",
      "source": [
        "dict = {\n",
        "  'brand' : 'volvo',\n",
        "  'color' : 'grey',\n",
        "  'model' : 's60'\n",
        "}\n",
        "\n",
        "if 'year' in dict:\n",
        "  print('Yes')\n",
        "\n",
        "else:\n",
        "  print('No')\n",
        "\n",
        "  print(len(dict))\n",
        "\n",
        "print('\\nadd new item')\n",
        "dict['year'] = 2025\n",
        "print(dict)\n",
        "\n",
        "print('\\nremove item')\n",
        "\n",
        "#pop() removes the item with specified key name\n",
        "dict.pop('model')\n",
        "print(dict)\n",
        "\n",
        "#del removes the item with specified key name\n",
        "del dict['color']\n",
        "print(dict)\n",
        "\n",
        "print('\\nempties the dictionary')\n",
        "dict.clear()\n",
        "print(dict)"
      ],
      "metadata": {
        "colab": {
          "base_uri": "https://localhost:8080/"
        },
        "id": "d5apS0aNtA8j",
        "outputId": "9ec1c1c8-2e78-485f-966f-2419bdcef0da"
      },
      "execution_count": 23,
      "outputs": [
        {
          "output_type": "stream",
          "name": "stdout",
          "text": [
            "No\n",
            "3\n",
            "\n",
            "add new item\n",
            "{'brand': 'volvo', 'color': 'grey', 'model': 's60', 'year': 2025}\n",
            "\n",
            "remove item\n",
            "{'brand': 'volvo', 'color': 'grey', 'year': 2025}\n",
            "{'brand': 'volvo', 'year': 2025}\n",
            "\n",
            "empties the dictionary\n",
            "{}\n"
          ]
        }
      ]
    },
    {
      "cell_type": "markdown",
      "source": [
        "**nested dictionaries**\n",
        "\n",
        "---\n",
        "\n",
        "\n",
        "a dictionary contains many dictionaries"
      ],
      "metadata": {
        "id": "zVnmZMDOuoiu"
      }
    },
    {
      "cell_type": "code",
      "source": [
        "family = {\n",
        "    'child1' : {\n",
        "        'name' : 'carlos',\n",
        "        'year' : 2003\n",
        "    },\n",
        "    'child2' : {\n",
        "        'name' : 'sergio',\n",
        "        'year' : 2005\n",
        "    },\n",
        "    'child3' : {\n",
        "        'name' : 'jaime',\n",
        "        'year' : 2007\n",
        "    }\n",
        "}\n",
        "\n",
        "print(family)\n",
        "\n",
        "print('\\ncreate 3 dictionaries then create one dictionary that will contain the other three dictionaries')\n",
        "\n",
        "son1 = {\n",
        "    'name' : 'gussi',\n",
        "    'year' : 1983\n",
        "}\n",
        "\n",
        "son2 = {\n",
        "    'name' : 'nangam',\n",
        "    'year' : 1985\n",
        "}\n",
        "\n",
        "son3 = {\n",
        "    'name' : 'nakjoon',\n",
        "    'year' : 1988\n",
        "}\n",
        "\n",
        "sons = {\n",
        "    'first' : son1,\n",
        "    'second' : son2,\n",
        "    'third' : son3\n",
        "}\n",
        "\n",
        "print(sons)\n",
        "\n",
        "print('\\nremoves the last inserted key-value')\n",
        "sons.popitem()\n",
        "print(sons)\n",
        "\n",
        "print('\\nupdate dictionary with specified key-value')\n",
        "sons.update({\n",
        "    'second' : son3\n",
        "})\n",
        "print(sons)\n",
        "\n",
        "print('\\niterate over python dictionaries using for loops')\n",
        "for x,y in sons.items():\n",
        "  print(x,y)\n",
        "\n",
        "print('\\nadd new item to first')\n",
        "son1['height'] = 183\n",
        "print(sons)\n",
        "\n",
        "\n",
        "print('\\nadd new child to the nested dictionary')\n",
        "son4 = {\n",
        "    'name' : 'jiseop',\n",
        "    'year' : 1990\n",
        "}\n",
        "\n",
        "sons['fourth'] = son4\n",
        "print(sons)"
      ],
      "metadata": {
        "colab": {
          "base_uri": "https://localhost:8080/"
        },
        "id": "f92Yhz_3uubP",
        "outputId": "3f75dc2b-99ec-4f92-c1f7-c0c682ebda50"
      },
      "execution_count": 36,
      "outputs": [
        {
          "output_type": "stream",
          "name": "stdout",
          "text": [
            "{'child1': {'name': 'carlos', 'year': 2003}, 'child2': {'name': 'sergio', 'year': 2005}, 'child3': {'name': 'jaime', 'year': 2007}}\n",
            "\n",
            "create 3 dictionaries then create one dictionary that will contain the other three dictionaries\n",
            "{'first': {'name': 'gussi', 'year': 1983}, 'second': {'name': 'nangam', 'year': 1985}, 'third': {'name': 'nakjoon', 'year': 1988}}\n",
            "\n",
            "removes the last inserted key-value\n",
            "{'first': {'name': 'gussi', 'year': 1983}, 'second': {'name': 'nangam', 'year': 1985}}\n",
            "\n",
            "update dictionary with specified key-value\n",
            "{'first': {'name': 'gussi', 'year': 1983}, 'second': {'name': 'nakjoon', 'year': 1988}}\n",
            "\n",
            "iterate over python dictionaries using for loops\n",
            "first {'name': 'gussi', 'year': 1983}\n",
            "second {'name': 'nakjoon', 'year': 1988}\n",
            "\n",
            "add new item to first\n",
            "{'first': {'name': 'gussi', 'year': 1983, 'height': 183}, 'second': {'name': 'nakjoon', 'year': 1988}}\n",
            "\n",
            "add new child to the nested dictionary\n",
            "{'first': {'name': 'gussi', 'year': 1983, 'height': 183}, 'second': {'name': 'nakjoon', 'year': 1988}, 'fourth': {'name': 'jiseop', 'year': 1990}}\n"
          ]
        }
      ]
    },
    {
      "cell_type": "markdown",
      "source": [
        "**iterate over python dictionaries using for loops**"
      ],
      "metadata": {
        "id": "Rqa9jtJW0sTo"
      }
    },
    {
      "cell_type": "code",
      "source": [
        "d = {\n",
        "    'red' : 1,\n",
        "    'green' : 2,\n",
        "    'blue' : 3\n",
        "}\n",
        "\n",
        "for color_key, value in d.items():\n",
        "  print(color_key, ' corresponds to ', d[color_key])\n",
        "\n",
        "print('---')\n",
        "for color_key, value in d.items():\n",
        "  print(color_key, ' corresponds to ', value)"
      ],
      "metadata": {
        "colab": {
          "base_uri": "https://localhost:8080/"
        },
        "id": "ibmxOFFg0K9S",
        "outputId": "e70b4893-2ca0-4bec-fee9-22fe6a9e1283"
      },
      "execution_count": 39,
      "outputs": [
        {
          "output_type": "stream",
          "name": "stdout",
          "text": [
            "red  corresponds to  1\n",
            "green  corresponds to  2\n",
            "blue  corresponds to  3\n",
            "---\n",
            "red  corresponds to  1\n",
            "green  corresponds to  2\n",
            "blue  corresponds to  3\n"
          ]
        }
      ]
    },
    {
      "cell_type": "markdown",
      "source": [
        "**sort a python dictionary by key**"
      ],
      "metadata": {
        "id": "1zbIdSeJ1uMo"
      }
    },
    {
      "cell_type": "code",
      "source": [
        "colors = {\n",
        "    'red' : '#FF000',\n",
        "    'black' : '#00000',\n",
        "    'white' : '#FFFFF'\n",
        "}\n",
        "\n",
        "for x in sorted(colors):\n",
        "  print('%s: %s' % (x, colors[x]))\n"
      ],
      "metadata": {
        "colab": {
          "base_uri": "https://localhost:8080/"
        },
        "id": "LGtXC-pH1xKc",
        "outputId": "b8ee76bd-6b50-4ff2-ffe7-7f4ff00dc14a"
      },
      "execution_count": 41,
      "outputs": [
        {
          "output_type": "stream",
          "name": "stdout",
          "text": [
            "black: #00000\n",
            "red: #FF000\n",
            "white: #FFFFF\n"
          ]
        }
      ]
    },
    {
      "cell_type": "markdown",
      "source": [
        "**find max and min value in dictionary**"
      ],
      "metadata": {
        "id": "bgGFcqhM3N8o"
      }
    },
    {
      "cell_type": "code",
      "source": [
        "numbers = {\n",
        "    'x' : 2343,\n",
        "    'y' : 112,\n",
        "    'z' : 2\n",
        "}\n",
        "\n",
        "print(max(numbers, key = numbers.get))\n",
        "\n",
        "print(min(numbers, key = numbers.get))"
      ],
      "metadata": {
        "colab": {
          "base_uri": "https://localhost:8080/"
        },
        "id": "akBYsIUU3Q0L",
        "outputId": "82a14d7d-ea08-45db-bea1-fb0166f6d87c"
      },
      "execution_count": 44,
      "outputs": [
        {
          "output_type": "stream",
          "name": "stdout",
          "text": [
            "x\n",
            "z\n"
          ]
        }
      ]
    },
    {
      "cell_type": "markdown",
      "source": [
        "**concantenate 2 dictionaries into 1**"
      ],
      "metadata": {
        "id": "S-SLvUPO35De"
      }
    },
    {
      "cell_type": "code",
      "source": [
        "dic1 = {\n",
        "    1 : 10,\n",
        "    2 : 20\n",
        "}\n",
        "\n",
        "dic2 = {\n",
        "    1 : 3,\n",
        "    2 : 6\n",
        "}\n",
        "\n",
        "dic3 = {\n",
        "    1 : 7,\n",
        "    2 : 14\n",
        "}\n",
        "\n",
        "dic4 = {}\n",
        "\n",
        "print('\\nadd single dictionary to nested dictionary')\n",
        "dics = {\n",
        "    'first' : dic1,\n",
        "    'second' : dic2,\n",
        "    'third' : dic3\n",
        "}\n",
        "\n",
        "print(dics)\n",
        "\n",
        "print('\\ncombine single dictionaries into a new dictionary previously empty')\n",
        "for d in (dic1, dic2, dic3) :\n",
        "  dic4.update(d)\n",
        "  print(dic4)"
      ],
      "metadata": {
        "colab": {
          "base_uri": "https://localhost:8080/"
        },
        "id": "5RrotIUW389j",
        "outputId": "5c9d3a19-b270-454a-9dd2-3c7cba3cce88"
      },
      "execution_count": 51,
      "outputs": [
        {
          "output_type": "stream",
          "name": "stdout",
          "text": [
            "\n",
            "add single dictionary to nested dictionary\n",
            "{'first': {1: 10, 2: 20}, 'second': {1: 3, 2: 6}, 'third': {1: 7, 2: 14}}\n",
            "\n",
            "combine single dictionaries into a new dictionary previously empty\n",
            "{1: 10, 2: 20}\n",
            "{1: 3, 2: 6}\n",
            "{1: 7, 2: 14}\n"
          ]
        }
      ]
    },
    {
      "cell_type": "markdown",
      "source": [
        "**PandaFrames**"
      ],
      "metadata": {
        "id": "Q0-JOwA55xlv"
      }
    },
    {
      "cell_type": "code",
      "source": [
        "import pandas as pd\n",
        "\n",
        "data = {\n",
        "    'calories' : [420, 392, 100],\n",
        "    'duration' : [20, 30, 40]\n",
        "}\n",
        "\n",
        "#load data into dataframe object\n",
        "print('1) default row label')\n",
        "df = pd.DataFrame(data)\n",
        "print(df)\n",
        "\n",
        "print('\\n2) custom row label')\n",
        "row_labels = ['no1', 'no2', 'no3']\n",
        "df2 = pd.DataFrame(data = data, index = row_labels)\n",
        "print(df2)\n",
        "\n",
        "print('\\n--------------------------')\n",
        "print('3) head() show first few items')\n",
        "print(df.head(n = 2))\n",
        "\n",
        "print('\\n4) tail() show last few items')\n",
        "print(df.tail(n = 1))\n",
        "\n",
        "print('\\n5) assess a column')\n",
        "new_data = df['calories']\n",
        "print('new_data')\n",
        "\n",
        "print('\\n6) assess a row')\n",
        "df.loc[1]"
      ],
      "metadata": {
        "colab": {
          "base_uri": "https://localhost:8080/",
          "height": 617
        },
        "id": "O94kpt-w77Nb",
        "outputId": "a1110596-7581-462b-fa46-8cac1f8a8714"
      },
      "execution_count": 67,
      "outputs": [
        {
          "output_type": "stream",
          "name": "stdout",
          "text": [
            "1) default row label\n",
            "   calories  duration\n",
            "0       420        20\n",
            "1       392        30\n",
            "2       100        40\n",
            "\n",
            "2) custom row label\n",
            "     calories  duration\n",
            "no1       420        20\n",
            "no2       392        30\n",
            "no3       100        40\n",
            "\n",
            "--------------------------\n",
            "3) head() show first few items\n",
            "   calories  duration\n",
            "0       420        20\n",
            "1       392        30\n",
            "\n",
            "4) tail() show last few items\n",
            "   calories  duration\n",
            "2       100        40\n",
            "\n",
            "5) assess a column\n",
            "new_data\n",
            "\n",
            "6) assess a row\n"
          ]
        },
        {
          "output_type": "execute_result",
          "data": {
            "text/plain": [
              "calories    392\n",
              "duration     30\n",
              "Name: 1, dtype: int64"
            ],
            "text/html": [
              "<div>\n",
              "<style scoped>\n",
              "    .dataframe tbody tr th:only-of-type {\n",
              "        vertical-align: middle;\n",
              "    }\n",
              "\n",
              "    .dataframe tbody tr th {\n",
              "        vertical-align: top;\n",
              "    }\n",
              "\n",
              "    .dataframe thead th {\n",
              "        text-align: right;\n",
              "    }\n",
              "</style>\n",
              "<table border=\"1\" class=\"dataframe\">\n",
              "  <thead>\n",
              "    <tr style=\"text-align: right;\">\n",
              "      <th></th>\n",
              "      <th>1</th>\n",
              "    </tr>\n",
              "  </thead>\n",
              "  <tbody>\n",
              "    <tr>\n",
              "      <th>calories</th>\n",
              "      <td>392</td>\n",
              "    </tr>\n",
              "    <tr>\n",
              "      <th>duration</th>\n",
              "      <td>30</td>\n",
              "    </tr>\n",
              "  </tbody>\n",
              "</table>\n",
              "</div><br><label><b>dtype:</b> int64</label>"
            ]
          },
          "metadata": {},
          "execution_count": 67
        }
      ]
    },
    {
      "cell_type": "markdown",
      "source": [
        "**page 31**\n",
        "\n",
        "5. Write a python program to iterate over dictionaries using for loops and print the key/value pair"
      ],
      "metadata": {
        "id": "73kzjPYPVIBS"
      }
    },
    {
      "cell_type": "code",
      "source": [
        "dict = {\n",
        "  'brand' : 'volvo',\n",
        "  'color' : 'grey',\n",
        "  'model' : 's60'\n",
        "}\n",
        "\n",
        "for x, y in dict.items():\n",
        "  print(x,y)"
      ],
      "metadata": {
        "colab": {
          "base_uri": "https://localhost:8080/"
        },
        "id": "n2uwYFacnkV2",
        "outputId": "48987f96-7f79-4237-f0e5-96afb2e6ada8"
      },
      "execution_count": 10,
      "outputs": [
        {
          "output_type": "stream",
          "name": "stdout",
          "text": [
            "brand volvo\n",
            "color grey\n",
            "model s60\n"
          ]
        }
      ]
    },
    {
      "cell_type": "markdown",
      "source": [
        "**page 32**\n",
        "6. Write a python program to sum all the items in a dictionary"
      ],
      "metadata": {
        "id": "4g6-uGN7nwvq"
      }
    },
    {
      "cell_type": "code",
      "source": [
        "dict = {\n",
        "    'a' : 1,\n",
        "    'b' : 2,\n",
        "    'c' : 10\n",
        "}\n",
        "\n",
        "total = sum(dict.values())\n",
        "print('sum : ', total)"
      ],
      "metadata": {
        "colab": {
          "base_uri": "https://localhost:8080/"
        },
        "id": "JAp7ON5Dn76A",
        "outputId": "ec69500e-a07b-44a5-9fe1-e1df972a61d4"
      },
      "execution_count": 11,
      "outputs": [
        {
          "output_type": "stream",
          "name": "stdout",
          "text": [
            "sum :  13\n"
          ]
        }
      ]
    },
    {
      "cell_type": "code",
      "source": [
        "#use function\n",
        "\n",
        "def sum_dict(d):\n",
        "  return sum(d.values())\n",
        "\n",
        "dict = {\n",
        "    'a' : 1,\n",
        "    'b' : 2,\n",
        "    'c' : 10\n",
        "}\n",
        "\n",
        "total = sum_dict(dict)\n",
        "print('sum : ', total)"
      ],
      "metadata": {
        "colab": {
          "base_uri": "https://localhost:8080/"
        },
        "id": "QNTpMDQMpNob",
        "outputId": "4757c41c-740a-439c-a8c8-a64a7db57306"
      },
      "execution_count": 12,
      "outputs": [
        {
          "output_type": "stream",
          "name": "stdout",
          "text": [
            "sum :  13\n"
          ]
        }
      ]
    }
  ]
}