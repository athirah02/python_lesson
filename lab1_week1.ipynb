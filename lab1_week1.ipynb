{
  "nbformat": 4,
  "nbformat_minor": 0,
  "metadata": {
    "colab": {
      "provenance": []
    },
    "kernelspec": {
      "name": "python3",
      "display_name": "Python 3"
    },
    "language_info": {
      "name": "python"
    }
  },
  "cells": [
    {
      "cell_type": "markdown",
      "source": [
        "**1. Basic print statement**"
      ],
      "metadata": {
        "id": "bUBerHpbhfA1"
      }
    },
    {
      "cell_type": "code",
      "execution_count": 1,
      "metadata": {
        "colab": {
          "base_uri": "https://localhost:8080/",
          "height": 0
        },
        "id": "zUdlQhpVSosH",
        "outputId": "0da9b48d-5e7a-40b8-b1e6-3f43d69e9cc2"
      },
      "outputs": [
        {
          "output_type": "stream",
          "name": "stdout",
          "text": [
            "Welcome to Python Programming!\n"
          ]
        }
      ],
      "source": [
        "print('Welcome to Python Programming!')"
      ]
    },
    {
      "cell_type": "markdown",
      "source": [
        "**2. Variables and data types**"
      ],
      "metadata": {
        "id": "Ees8qynehn14"
      }
    },
    {
      "cell_type": "code",
      "source": [
        "name = str('Athirah')\n",
        "age = int(22)\n",
        "height = float(1.50)\n",
        "\n",
        "print(name)\n",
        "print(age)\n",
        "print(height)\n"
      ],
      "metadata": {
        "colab": {
          "base_uri": "https://localhost:8080/",
          "height": 0
        },
        "id": "k5Wxm8LwVjO_",
        "outputId": "e90f93a6-eaff-4ded-98be-7f3664258bb7"
      },
      "execution_count": 6,
      "outputs": [
        {
          "output_type": "stream",
          "name": "stdout",
          "text": [
            "Athirah\n",
            "22\n",
            "1.5\n"
          ]
        }
      ]
    },
    {
      "cell_type": "markdown",
      "source": [
        "**3. Basic arithmetics operations**"
      ],
      "metadata": {
        "id": "vnmDGtRehvLK"
      }
    },
    {
      "cell_type": "code",
      "source": [
        "first_number = int(input('Enter first number: '))\n",
        "second_number = int(input('Enter second number: '))\n",
        "\n",
        "sum = first_number + second_number\n",
        "difference = first_number - second_number\n",
        "product = first_number*second_number\n",
        "quotient = first_number/second_number\n",
        "\n",
        "print('\\nSum: ', sum)\n",
        "print('Difference: ', difference)\n",
        "print('Product: ', product)\n",
        "print('Quotient: ', quotient)"
      ],
      "metadata": {
        "colab": {
          "base_uri": "https://localhost:8080/",
          "height": 0
        },
        "id": "YXxpH3FBWm6_",
        "outputId": "4a7116ba-bd7e-4c3e-a126-8d7ec38ac766"
      },
      "execution_count": 47,
      "outputs": [
        {
          "output_type": "stream",
          "name": "stdout",
          "text": [
            "Enter first number: 7\n",
            "Enter second number: 4\n",
            "\n",
            "Sum:  11\n",
            "Difference:  3\n",
            "Product:  28\n",
            "Quotient:  1.75\n"
          ]
        }
      ]
    },
    {
      "cell_type": "markdown",
      "source": [
        "**4. User input & string formatting**"
      ],
      "metadata": {
        "id": "UR6uR2F7hz3B"
      }
    },
    {
      "cell_type": "code",
      "source": [
        "name = str(input('Enter your name: '))\n",
        "birth_year = int(input('Enter your birth year: '))\n",
        "current_year = int(2025)\n",
        "age = current_year - birth_year\n",
        "\n",
        "print('\\nHello', name, ', you are ' + str(age) + ' years old.')"
      ],
      "metadata": {
        "colab": {
          "base_uri": "https://localhost:8080/",
          "height": 0
        },
        "id": "8BVuSRNYZVec",
        "outputId": "cb9e444e-62e7-40b0-aed3-4823397eefda"
      },
      "execution_count": 27,
      "outputs": [
        {
          "output_type": "stream",
          "name": "stdout",
          "text": [
            "Enter your name: zhen\n",
            "Enter your birth year: 2003\n",
            "Hello zhen , you are 22 years old.\n"
          ]
        }
      ]
    },
    {
      "cell_type": "markdown",
      "source": [
        "**5. Conditional statements**"
      ],
      "metadata": {
        "id": "NeYZaHzph5Kh"
      }
    },
    {
      "cell_type": "code",
      "source": [
        "x = int(input('Enter a number: '))\n",
        "if x % 3 == 0:\n",
        "  if x % 5 == 0:\n",
        "    print(x, 'is divisible by both 3 and 5')\n",
        "  else:\n",
        "    print(x, 'is not divisible by both 3 and 5')"
      ],
      "metadata": {
        "colab": {
          "base_uri": "https://localhost:8080/",
          "height": 0
        },
        "id": "dDhBM8IGbnYn",
        "outputId": "4cda14ce-0eb8-4dad-a561-25c80c6d6aaa"
      },
      "execution_count": 33,
      "outputs": [
        {
          "output_type": "stream",
          "name": "stdout",
          "text": [
            "Enter a number: 15\n",
            "15 is divisible by both 3 and 5\n"
          ]
        }
      ]
    },
    {
      "cell_type": "markdown",
      "source": [
        "**6. For loop**"
      ],
      "metadata": {
        "id": "idPd_lBQh-hz"
      }
    },
    {
      "cell_type": "code",
      "source": [
        "for x in range(1, 21):\n",
        "  if x % 2 == 0:\n",
        "    print(x)"
      ],
      "metadata": {
        "colab": {
          "base_uri": "https://localhost:8080/",
          "height": 0
        },
        "id": "1NIGRfDsct-z",
        "outputId": "088d23d1-2e5f-4135-e692-2c7ead1b4c4c"
      },
      "execution_count": 50,
      "outputs": [
        {
          "output_type": "stream",
          "name": "stdout",
          "text": [
            "2\n",
            "4\n",
            "6\n",
            "8\n",
            "10\n",
            "12\n",
            "14\n",
            "16\n",
            "18\n",
            "20\n"
          ]
        }
      ]
    },
    {
      "cell_type": "markdown",
      "source": [
        "**7. While loop**"
      ],
      "metadata": {
        "id": "DXCUF7oliAkY"
      }
    },
    {
      "cell_type": "code",
      "source": [
        "while x >= 1:\n",
        "  x = int(input('Enter a number: '))\n",
        "print('Loop ended.')"
      ],
      "metadata": {
        "colab": {
          "base_uri": "https://localhost:8080/",
          "height": 0
        },
        "id": "YJ3yrbpNeCsD",
        "outputId": "fa879234-bf05-4413-fc68-646136400158"
      },
      "execution_count": 43,
      "outputs": [
        {
          "output_type": "stream",
          "name": "stdout",
          "text": [
            "Enter a number: 4\n",
            "Enter a number: 3\n",
            "Enter a number: 1\n",
            "Enter a number: -3\n",
            "Loop ended.\n"
          ]
        }
      ]
    },
    {
      "cell_type": "markdown",
      "source": [
        "**8. Simple function**"
      ],
      "metadata": {
        "id": "_JqkJGS-iDBu"
      }
    },
    {
      "cell_type": "code",
      "source": [
        "def multiply_by_two(x):\n",
        "  return x*2\n",
        "\n",
        "result = multiply_by_two(7)\n",
        "print(result)"
      ],
      "metadata": {
        "colab": {
          "base_uri": "https://localhost:8080/",
          "height": 0
        },
        "id": "65SioJLSgun0",
        "outputId": "bfc899cb-fee1-4b40-f613-1bd33270806c"
      },
      "execution_count": 44,
      "outputs": [
        {
          "output_type": "stream",
          "name": "stdout",
          "text": [
            "14\n"
          ]
        }
      ]
    }
  ]
}