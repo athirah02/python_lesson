{
  "nbformat": 4,
  "nbformat_minor": 0,
  "metadata": {
    "colab": {
      "provenance": [],
      "authorship_tag": "ABX9TyMM39PdGuyK1EE38IsKJgkO",
      "include_colab_link": true
    },
    "kernelspec": {
      "name": "python3",
      "display_name": "Python 3"
    },
    "language_info": {
      "name": "python"
    }
  },
  "cells": [
    {
      "cell_type": "markdown",
      "metadata": {
        "id": "view-in-github",
        "colab_type": "text"
      },
      "source": [
        "<a href=\"https://colab.research.google.com/github/athirah02/python_lesson/blob/main/lab5_week5.ipynb\" target=\"_parent\"><img src=\"https://colab.research.google.com/assets/colab-badge.svg\" alt=\"Open In Colab\"/></a>"
      ]
    },
    {
      "cell_type": "markdown",
      "source": [
        "**Task 1 : Print each key and value in a loop**"
      ],
      "metadata": {
        "id": "ikegX_7dpCL9"
      }
    },
    {
      "cell_type": "code",
      "execution_count": 33,
      "metadata": {
        "id": "ATRnQLono9YX",
        "colab": {
          "base_uri": "https://localhost:8080/"
        },
        "outputId": "3f30b207-47e4-4736-8e2e-990f28b9cf38"
      },
      "outputs": [
        {
          "output_type": "stream",
          "name": "stdout",
          "text": [
            "name : Alice\n",
            "age : 21\n",
            "grades : [88, 92, 79]\n",
            "major : Computer Science\n"
          ]
        }
      ],
      "source": [
        "student_data = {\n",
        "    \"name\" : \"Alice\",\n",
        "    \"age\" : 21,\n",
        "    \"grades\" : [88, 92, 79],\n",
        "    \"major\" : \"Computer Science\"\n",
        "}\n",
        "\n",
        "for x,y in student_data.items() :\n",
        "  print(x, ':', y)"
      ]
    },
    {
      "cell_type": "markdown",
      "source": [
        "**Task 2 : Modify dictionary**\n",
        "* Add a new key \"GPA\" with the value 3.6\n",
        "* Update \"age\" to 22\n",
        "* Print the updated dictionary"
      ],
      "metadata": {
        "id": "ejyjs9TBqeFV"
      }
    },
    {
      "cell_type": "code",
      "source": [
        "student_data = {\n",
        "    \"name\" : \"Alice\",\n",
        "    \"age\" : 21,\n",
        "    \"grades\" : [88, 92, 79],\n",
        "    \"major\" : \"Computer Science\"\n",
        "}\n",
        "\n",
        "#add new item with key \"GPA\"\n",
        "student_data[\"GPA\"] = 3.6\n",
        "#update value\n",
        "student_data.update ({\n",
        "    \"age\" : 22\n",
        "})\n",
        "\n",
        "for x,y in student_data.items() :\n",
        "  print(x, ':', y)"
      ],
      "metadata": {
        "colab": {
          "base_uri": "https://localhost:8080/"
        },
        "id": "lSF80a5TqvMs",
        "outputId": "1bd3b594-5951-45e6-c422-4158f393dca3"
      },
      "execution_count": 34,
      "outputs": [
        {
          "output_type": "stream",
          "name": "stdout",
          "text": [
            "name : Alice\n",
            "age : 22\n",
            "grades : [88, 92, 79]\n",
            "major : Computer Science\n",
            "GPA : 3.6\n"
          ]
        }
      ]
    },
    {
      "cell_type": "markdown",
      "source": [
        "**Task 3 : Creating a DataFrame**\n"
      ],
      "metadata": {
        "id": "7z0vxlwMrzH7"
      }
    },
    {
      "cell_type": "code",
      "source": [
        "import pandas as pd\n",
        "data = {\n",
        "    \"Name\" : [\"Ahmad\", \"Balan\", \"Chong\"],\n",
        "    \"Age\" : [21, 22, 20],\n",
        "    \"Grade\" : [\"A\", \"B\", \"A\"]\n",
        "}\n",
        "\n",
        "df = pd.DataFrame(data)\n",
        "print(df)"
      ],
      "metadata": {
        "colab": {
          "base_uri": "https://localhost:8080/"
        },
        "id": "a9SyRnv7r5E6",
        "outputId": "0db8fb6a-bcb8-43cb-8617-bcf036bcb6f2"
      },
      "execution_count": 35,
      "outputs": [
        {
          "output_type": "stream",
          "name": "stdout",
          "text": [
            "    Name  Age Grade\n",
            "0  Ahmad   21     A\n",
            "1  Balan   22     B\n",
            "2  Chong   20     A\n"
          ]
        }
      ]
    },
    {
      "cell_type": "markdown",
      "source": [
        "**Task 4 : Accessing data**\n",
        "* Print all grades\n",
        "* Print the row for \"Balan\"\n",
        "* Print the names of students with Grade A"
      ],
      "metadata": {
        "id": "g9MgY7WXrXD-"
      }
    },
    {
      "cell_type": "code",
      "source": [
        "import pandas as pd\n",
        "data = {\n",
        "    \"Name\" : [\"Ahmad\", \"Balan\", \"Chong\"],\n",
        "    \"Age\" : [21, 22, 20],\n",
        "    \"Grade\" : [\"A\", \"B\", \"A\"]\n",
        "}\n",
        "\n",
        "df = pd.DataFrame(data)\n",
        "print(df)\n",
        "\n",
        "print(\"\\n- Print all grades\")\n",
        "column_grade = df[\"Grade\"]\n",
        "print(column_grade)\n",
        "\n",
        "print(\"\\n- Print the row for \\\"Balan\\\"\")\n",
        "\n",
        "print(df.loc[df[\"Name\"] == \"Balan\"])\n",
        "\n",
        "print(\"\\n- Print the names of students with Grade \\\"A\\\"\")\n",
        "print(df.loc[df[\"Grade\"] == \"A\"])"
      ],
      "metadata": {
        "colab": {
          "base_uri": "https://localhost:8080/"
        },
        "id": "gSO77U6zrosH",
        "outputId": "8aa0184d-5088-4086-e39b-dbe8fedb132c"
      },
      "execution_count": 38,
      "outputs": [
        {
          "output_type": "stream",
          "name": "stdout",
          "text": [
            "    Name  Age Grade\n",
            "0  Ahmad   21     A\n",
            "1  Balan   22     B\n",
            "2  Chong   20     A\n",
            "\n",
            "- Print all grades\n",
            "0    A\n",
            "1    B\n",
            "2    A\n",
            "Name: Grade, dtype: object\n",
            "\n",
            "- Print the row for \"Balan\"\n",
            "    Name  Age Grade\n",
            "1  Balan   22     B\n",
            "\n",
            "- Print the names of students with Grade \"A\"\n",
            "    Name  Age Grade\n",
            "0  Ahmad   21     A\n",
            "2  Chong   20     A\n"
          ]
        }
      ]
    },
    {
      "cell_type": "markdown",
      "source": [
        "**Task 5 : DataFrame**\n",
        "* Create a DataFrame with 4 students : name, age, score\n",
        "* Calculate average score\n",
        "* Filter students with score > 80"
      ],
      "metadata": {
        "id": "1c_YNo5rvVoH"
      }
    },
    {
      "cell_type": "code",
      "source": [
        "import pandas as pd\n",
        "\n",
        "students = {\n",
        "    \"Name\" : [\"Eala\" , \"Keys\" , \"Andreeva\", \"Rybakina\"],\n",
        "    \"Age\" : [17, 23, 19, 20],\n",
        "    \"Score\" : [79, 84, 92, 78]\n",
        "}\n",
        "\n",
        "df = pd.DataFrame(students)\n",
        "print(df)\n",
        "\n",
        "print(\"\\n- Calculate average score\")\n",
        "average_score = df[\"Score\"].mean()\n",
        "print(average_score)\n",
        "\n",
        "print(\"\\n- Filter students with score > 80\")\n",
        "above_80 = df[df[\"Score\"] > 80]\n",
        "print(above_80)\n"
      ],
      "metadata": {
        "colab": {
          "base_uri": "https://localhost:8080/"
        },
        "id": "qkJbbkXpvlFD",
        "outputId": "0ff0f1c9-9e62-488b-afe5-0022af08ec15"
      },
      "execution_count": 39,
      "outputs": [
        {
          "output_type": "stream",
          "name": "stdout",
          "text": [
            "       Name  Age  Score\n",
            "0      Eala   17     79\n",
            "1      Keys   23     84\n",
            "2  Andreeva   19     92\n",
            "3  Rybakina   20     78\n",
            "\n",
            "- Calculate average score\n",
            "83.25\n",
            "\n",
            "- Filter students with score > 80\n",
            "       Name  Age  Score\n",
            "1      Keys   23     84\n",
            "2  Andreeva   19     92\n"
          ]
        }
      ]
    }
  ]
}