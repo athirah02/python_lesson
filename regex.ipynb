{
  "nbformat": 4,
  "nbformat_minor": 0,
  "metadata": {
    "colab": {
      "provenance": [],
      "authorship_tag": "ABX9TyPBWRyue5wIYY68jGNuWvYs",
      "include_colab_link": true
    },
    "kernelspec": {
      "name": "python3",
      "display_name": "Python 3"
    },
    "language_info": {
      "name": "python"
    }
  },
  "cells": [
    {
      "cell_type": "markdown",
      "metadata": {
        "id": "view-in-github",
        "colab_type": "text"
      },
      "source": [
        "<a href=\"https://colab.research.google.com/github/athirah02/python_lesson/blob/main/regex.ipynb\" target=\"_parent\"><img src=\"https://colab.research.google.com/assets/colab-badge.svg\" alt=\"Open In Colab\"/></a>"
      ]
    },
    {
      "cell_type": "code",
      "execution_count": null,
      "metadata": {
        "colab": {
          "base_uri": "https://localhost:8080/"
        },
        "id": "b_7lvLXuoyUf",
        "outputId": "c3af5e41-f09b-4d23-d6ef-def837ffacda"
      },
      "outputs": [
        {
          "output_type": "stream",
          "name": "stdout",
          "text": [
            "<re.Match object; span=(1, 4), match='abc'>\n",
            "abc\n"
          ]
        }
      ],
      "source": [
        "import re\n",
        "\n",
        "text_to_search = '''\n",
        "abcdefghijklmnopqrstuvwxyz\n",
        "ABCDEFGHIJKLMNOPQRSTUVWXYZ\n",
        "1234567890\n",
        "\n",
        "Ha HaHa\n",
        "\n",
        "Metacharacters(need to be escaped):\n",
        ". ^ $ * + ? { } [ ] \\ | ( )\n",
        "\n",
        "coreyms.com\n",
        "\n",
        "321-555-4321\n",
        "123.555.1234\n",
        "\n",
        "Mr. Schafer\n",
        "Mr Smith\n",
        "Ms Davis\n",
        "Mrs. Robinson\n",
        "Mr. T\n",
        "'''\n",
        "\n",
        "sentence = 'Start a sentence and then bring it to an end'\n",
        "\n",
        "pattern = re.compile(r'abc')\n",
        "\n",
        "matches = pattern.finditer(text_to_search)\n",
        "\n",
        "for match in matches:\n",
        "    print(match)\n",
        "#span is beginning and end index\n",
        "\n",
        "print(text_to_search [1:4])\n",
        "\n"
      ]
    },
    {
      "cell_type": "markdown",
      "source": [
        "1. raw string is string prefix with r\n",
        "eg:\n",
        "print('r\\tTab')\n",
        "\\tTab\n",
        "\n",
        "2. compile method separate pattern into variable, easier to reuse\n",
        "\n"
      ],
      "metadata": {
        "id": "Fos9emXPpS4L"
      }
    },
    {
      "cell_type": "code",
      "source": [
        "import re\n",
        "\n",
        "text_to_search = '''\n",
        "abcdefghijklmnopqrstuvwxyz\n",
        "ABCDEFGHIJKLMNOPQRSTUVWXYZ\n",
        "1234567890\n",
        "\n",
        "Ha HaHa\n",
        "\n",
        "Metacharacters(need to be escaped):\n",
        ". ^ $ * + ? { } [ ] \\ | ( )\n",
        "\n",
        "coreyms.com\n",
        "\n",
        "321-555-4321\n",
        "123.555.1234\n",
        "\n",
        "Mr. Schafer\n",
        "Mr Smith\n",
        "Ms Davis\n",
        "Mrs. Robinson\n",
        "Mr. T\n",
        "'''\n",
        "\n",
        "sentence = 'Start a sentence and then bring it to an end'\n",
        "\n",
        "pattern = re.compile(r'\\.')\n",
        "\n",
        "matches = pattern.finditer(text_to_search)\n",
        "\n",
        "for match in matches:\n",
        "    print(match)\n",
        "#span is beginning and end index"
      ],
      "metadata": {
        "colab": {
          "base_uri": "https://localhost:8080/"
        },
        "id": "3iB_H0o3qODa",
        "outputId": "2d1b9af2-e8b2-4cc2-a81c-9dac8f6190dd"
      },
      "execution_count": null,
      "outputs": [
        {
          "output_type": "stream",
          "name": "stdout",
          "text": [
            "<re.Match object; span=(112, 113), match='.'>\n",
            "<re.Match object; span=(148, 149), match='.'>\n",
            "<re.Match object; span=(170, 171), match='.'>\n",
            "<re.Match object; span=(174, 175), match='.'>\n",
            "<re.Match object; span=(183, 184), match='.'>\n",
            "<re.Match object; span=(214, 215), match='.'>\n",
            "<re.Match object; span=(227, 228), match='.'>\n"
          ]
        }
      ]
    },
    {
      "cell_type": "code",
      "source": [
        "import re\n",
        "\n",
        "text_to_search = '''\n",
        "abcdefghijklmnopqrstuvwxyz\n",
        "ABCDEFGHIJKLMNOPQRSTUVWXYZ\n",
        "1234567890\n",
        "\n",
        "Ha HaHa\n",
        "\n",
        "Metacharacters(need to be escaped):\n",
        ". ^ $ * + ? { } [ ] \\ | ( )\n",
        "\n",
        "coreyms.com\n",
        "\n",
        "321-555-4321\n",
        "123.555.1234\n",
        "\n",
        "Mr. Schafer\n",
        "Mr Smith\n",
        "Ms Davis\n",
        "Mrs. Robinson\n",
        "Mr. T\n",
        "'''\n",
        "\n",
        "sentence = 'Start a sentence and then bring it to an end'\n",
        "\n",
        "pattern = re.compile(r'coreyms\\.com')\n",
        "\n",
        "matches = pattern.finditer(text_to_search)\n",
        "\n",
        "for match in matches:\n",
        "    print(match)"
      ],
      "metadata": {
        "colab": {
          "base_uri": "https://localhost:8080/"
        },
        "id": "cksdtajXssVH",
        "outputId": "63940190-eb67-4544-e05c-dd8f49fe2e81"
      },
      "execution_count": null,
      "outputs": [
        {
          "output_type": "stream",
          "name": "stdout",
          "text": [
            "<re.Match object; span=(141, 152), match='coreyms.com'>\n"
          ]
        }
      ]
    },
    {
      "cell_type": "markdown",
      "source": [
        "* matches = pattern.finditer(zzz)\n",
        "* fill zzz with any variable (text_to_search, sentence)\n",
        "* `[ ]` means character set\n",
        "* `\\` means literal eg:\n",
        "\n",
        "\n",
        "\n",
        "1. .  - any character except new line\n",
        "2. \\d - digit (0-9)\n",
        "3. \\D - not a digit (0-9)\n",
        "4. \\w - word character (a-z, A-Z, 0-9, _)\n",
        "5. \\W - not a word character\n",
        "6. \\s - whitespace (space, tab, newline)\n",
        "7. \\S - not whitespace (space, tab, newline)\n",
        "\n",
        "**anchors**\n",
        "* dont match any character but ratherinvisible positions before or after characters\n",
        "* use in conjunction with other patterns or searching for\n",
        "\n",
        "1. \\b - word boundary\n",
        "2. \\B - not a word boundary\n",
        "3. ^  - beginning of a string\n",
        "4. $  - end of a string\n",
        "\n",
        "**quantifiers**\n",
        "1. `*`    - 0 or more\n",
        "2. `+`    - 1 or more\n",
        "3. ?     - 0 or one\n",
        "4. {3}   - exact number\n",
        "5. {3,4} - range of numbers(min, max)\n",
        "\n",
        "\n"
      ],
      "metadata": {
        "id": "MAhb01iwtLEH"
      }
    },
    {
      "cell_type": "markdown",
      "source": [
        "**\\d - digit (0-9)**"
      ],
      "metadata": {
        "id": "JqAjlcW0uTUy"
      }
    },
    {
      "cell_type": "code",
      "source": [
        "import re\n",
        "\n",
        "text_to_search = '''\n",
        "abcdefghijklmnopqrstuvwxyz\n",
        "ABCDEFGHIJKLMNOPQRSTUVWXYZ\n",
        "1234567890\n",
        "\n",
        "Ha HaHa\n",
        "\n",
        "Metacharacters(need to be escaped):\n",
        ". ^ $ * + ? { } [ ] \\ | ( )\n",
        "\n",
        "coreyms.com\n",
        "\n",
        "321-555-4321\n",
        "123.555.1234\n",
        "\n",
        "Mr. Schafer\n",
        "Mr Smith\n",
        "Ms Davis\n",
        "Mrs. Robinson\n",
        "Mr. T\n",
        "'''\n",
        "\n",
        "sentence = 'Start a sentence and then bring it to an end'\n",
        "\n",
        "pattern = re.compile(r'\\d')\n",
        "\n",
        "matches = pattern.finditer(text_to_search)\n",
        "\n",
        "for match in matches:\n",
        "    print(match)"
      ],
      "metadata": {
        "colab": {
          "base_uri": "https://localhost:8080/"
        },
        "id": "PXq_HnoKt7sI",
        "outputId": "c01547ed-9d35-4aa0-c1cf-dc1ba8cea22f"
      },
      "execution_count": null,
      "outputs": [
        {
          "output_type": "stream",
          "name": "stdout",
          "text": [
            "<re.Match object; span=(55, 56), match='1'>\n",
            "<re.Match object; span=(56, 57), match='2'>\n",
            "<re.Match object; span=(57, 58), match='3'>\n",
            "<re.Match object; span=(58, 59), match='4'>\n",
            "<re.Match object; span=(59, 60), match='5'>\n",
            "<re.Match object; span=(60, 61), match='6'>\n",
            "<re.Match object; span=(61, 62), match='7'>\n",
            "<re.Match object; span=(62, 63), match='8'>\n",
            "<re.Match object; span=(63, 64), match='9'>\n",
            "<re.Match object; span=(64, 65), match='0'>\n",
            "<re.Match object; span=(154, 155), match='3'>\n",
            "<re.Match object; span=(155, 156), match='2'>\n",
            "<re.Match object; span=(156, 157), match='1'>\n",
            "<re.Match object; span=(158, 159), match='5'>\n",
            "<re.Match object; span=(159, 160), match='5'>\n",
            "<re.Match object; span=(160, 161), match='5'>\n",
            "<re.Match object; span=(162, 163), match='4'>\n",
            "<re.Match object; span=(163, 164), match='3'>\n",
            "<re.Match object; span=(164, 165), match='2'>\n",
            "<re.Match object; span=(165, 166), match='1'>\n",
            "<re.Match object; span=(167, 168), match='1'>\n",
            "<re.Match object; span=(168, 169), match='2'>\n",
            "<re.Match object; span=(169, 170), match='3'>\n",
            "<re.Match object; span=(171, 172), match='5'>\n",
            "<re.Match object; span=(172, 173), match='5'>\n",
            "<re.Match object; span=(173, 174), match='5'>\n",
            "<re.Match object; span=(175, 176), match='1'>\n",
            "<re.Match object; span=(176, 177), match='2'>\n",
            "<re.Match object; span=(177, 178), match='3'>\n",
            "<re.Match object; span=(178, 179), match='4'>\n"
          ]
        }
      ]
    },
    {
      "cell_type": "markdown",
      "source": [
        "**\\D - not a digit (0-9)**"
      ],
      "metadata": {
        "id": "1aHowHpiuY-v"
      }
    },
    {
      "cell_type": "code",
      "source": [
        "import re\n",
        "\n",
        "text_to_search = '''\n",
        "abcdefghijklmnopqrstuvwxyz\n",
        "ABCDEFGHIJKLMNOPQRSTUVWXYZ\n",
        "1234567890\n",
        "\n",
        "Ha HaHa\n",
        "\n",
        "Metacharacters(need to be escaped):\n",
        ". ^ $ * + ? { } [ ] \\ | ( )\n",
        "\n",
        "coreyms.com\n",
        "\n",
        "321-555-4321\n",
        "123.555.1234\n",
        "\n",
        "Mr. Schafer\n",
        "Mr Smith\n",
        "Ms Davis\n",
        "Mrs. Robinson\n",
        "Mr. T\n",
        "'''\n",
        "\n",
        "sentence = 'Start a sentence and then bring it to an end'\n",
        "\n",
        "pattern = re.compile(r'\\D')\n",
        "\n",
        "matches = pattern.finditer(text_to_search)\n",
        "\n",
        "for match in matches:\n",
        "    print(match)"
      ],
      "metadata": {
        "colab": {
          "base_uri": "https://localhost:8080/"
        },
        "id": "WnoC25P5uahe",
        "outputId": "a51dabe5-5af4-492c-a782-618571fda5c5"
      },
      "execution_count": null,
      "outputs": [
        {
          "output_type": "stream",
          "name": "stdout",
          "text": [
            "<re.Match object; span=(0, 1), match='\\n'>\n",
            "<re.Match object; span=(1, 2), match='a'>\n",
            "<re.Match object; span=(2, 3), match='b'>\n",
            "<re.Match object; span=(3, 4), match='c'>\n",
            "<re.Match object; span=(4, 5), match='d'>\n",
            "<re.Match object; span=(5, 6), match='e'>\n",
            "<re.Match object; span=(6, 7), match='f'>\n",
            "<re.Match object; span=(7, 8), match='g'>\n",
            "<re.Match object; span=(8, 9), match='h'>\n",
            "<re.Match object; span=(9, 10), match='i'>\n",
            "<re.Match object; span=(10, 11), match='j'>\n",
            "<re.Match object; span=(11, 12), match='k'>\n",
            "<re.Match object; span=(12, 13), match='l'>\n",
            "<re.Match object; span=(13, 14), match='m'>\n",
            "<re.Match object; span=(14, 15), match='n'>\n",
            "<re.Match object; span=(15, 16), match='o'>\n",
            "<re.Match object; span=(16, 17), match='p'>\n",
            "<re.Match object; span=(17, 18), match='q'>\n",
            "<re.Match object; span=(18, 19), match='r'>\n",
            "<re.Match object; span=(19, 20), match='s'>\n",
            "<re.Match object; span=(20, 21), match='t'>\n",
            "<re.Match object; span=(21, 22), match='u'>\n",
            "<re.Match object; span=(22, 23), match='v'>\n",
            "<re.Match object; span=(23, 24), match='w'>\n",
            "<re.Match object; span=(24, 25), match='x'>\n",
            "<re.Match object; span=(25, 26), match='y'>\n",
            "<re.Match object; span=(26, 27), match='z'>\n",
            "<re.Match object; span=(27, 28), match='\\n'>\n",
            "<re.Match object; span=(28, 29), match='A'>\n",
            "<re.Match object; span=(29, 30), match='B'>\n",
            "<re.Match object; span=(30, 31), match='C'>\n",
            "<re.Match object; span=(31, 32), match='D'>\n",
            "<re.Match object; span=(32, 33), match='E'>\n",
            "<re.Match object; span=(33, 34), match='F'>\n",
            "<re.Match object; span=(34, 35), match='G'>\n",
            "<re.Match object; span=(35, 36), match='H'>\n",
            "<re.Match object; span=(36, 37), match='I'>\n",
            "<re.Match object; span=(37, 38), match='J'>\n",
            "<re.Match object; span=(38, 39), match='K'>\n",
            "<re.Match object; span=(39, 40), match='L'>\n",
            "<re.Match object; span=(40, 41), match='M'>\n",
            "<re.Match object; span=(41, 42), match='N'>\n",
            "<re.Match object; span=(42, 43), match='O'>\n",
            "<re.Match object; span=(43, 44), match='P'>\n",
            "<re.Match object; span=(44, 45), match='Q'>\n",
            "<re.Match object; span=(45, 46), match='R'>\n",
            "<re.Match object; span=(46, 47), match='S'>\n",
            "<re.Match object; span=(47, 48), match='T'>\n",
            "<re.Match object; span=(48, 49), match='U'>\n",
            "<re.Match object; span=(49, 50), match='V'>\n",
            "<re.Match object; span=(50, 51), match='W'>\n",
            "<re.Match object; span=(51, 52), match='X'>\n",
            "<re.Match object; span=(52, 53), match='Y'>\n",
            "<re.Match object; span=(53, 54), match='Z'>\n",
            "<re.Match object; span=(54, 55), match='\\n'>\n",
            "<re.Match object; span=(65, 66), match='\\n'>\n",
            "<re.Match object; span=(66, 67), match='\\n'>\n",
            "<re.Match object; span=(67, 68), match='H'>\n",
            "<re.Match object; span=(68, 69), match='a'>\n",
            "<re.Match object; span=(69, 70), match=' '>\n",
            "<re.Match object; span=(70, 71), match='H'>\n",
            "<re.Match object; span=(71, 72), match='a'>\n",
            "<re.Match object; span=(72, 73), match='H'>\n",
            "<re.Match object; span=(73, 74), match='a'>\n",
            "<re.Match object; span=(74, 75), match='\\n'>\n",
            "<re.Match object; span=(75, 76), match='\\n'>\n",
            "<re.Match object; span=(76, 77), match='M'>\n",
            "<re.Match object; span=(77, 78), match='e'>\n",
            "<re.Match object; span=(78, 79), match='t'>\n",
            "<re.Match object; span=(79, 80), match='a'>\n",
            "<re.Match object; span=(80, 81), match='c'>\n",
            "<re.Match object; span=(81, 82), match='h'>\n",
            "<re.Match object; span=(82, 83), match='a'>\n",
            "<re.Match object; span=(83, 84), match='r'>\n",
            "<re.Match object; span=(84, 85), match='a'>\n",
            "<re.Match object; span=(85, 86), match='c'>\n",
            "<re.Match object; span=(86, 87), match='t'>\n",
            "<re.Match object; span=(87, 88), match='e'>\n",
            "<re.Match object; span=(88, 89), match='r'>\n",
            "<re.Match object; span=(89, 90), match='s'>\n",
            "<re.Match object; span=(90, 91), match='('>\n",
            "<re.Match object; span=(91, 92), match='n'>\n",
            "<re.Match object; span=(92, 93), match='e'>\n",
            "<re.Match object; span=(93, 94), match='e'>\n",
            "<re.Match object; span=(94, 95), match='d'>\n",
            "<re.Match object; span=(95, 96), match=' '>\n",
            "<re.Match object; span=(96, 97), match='t'>\n",
            "<re.Match object; span=(97, 98), match='o'>\n",
            "<re.Match object; span=(98, 99), match=' '>\n",
            "<re.Match object; span=(99, 100), match='b'>\n",
            "<re.Match object; span=(100, 101), match='e'>\n",
            "<re.Match object; span=(101, 102), match=' '>\n",
            "<re.Match object; span=(102, 103), match='e'>\n",
            "<re.Match object; span=(103, 104), match='s'>\n",
            "<re.Match object; span=(104, 105), match='c'>\n",
            "<re.Match object; span=(105, 106), match='a'>\n",
            "<re.Match object; span=(106, 107), match='p'>\n",
            "<re.Match object; span=(107, 108), match='e'>\n",
            "<re.Match object; span=(108, 109), match='d'>\n",
            "<re.Match object; span=(109, 110), match=')'>\n",
            "<re.Match object; span=(110, 111), match=':'>\n",
            "<re.Match object; span=(111, 112), match='\\n'>\n",
            "<re.Match object; span=(112, 113), match='.'>\n",
            "<re.Match object; span=(113, 114), match=' '>\n",
            "<re.Match object; span=(114, 115), match='^'>\n",
            "<re.Match object; span=(115, 116), match=' '>\n",
            "<re.Match object; span=(116, 117), match='$'>\n",
            "<re.Match object; span=(117, 118), match=' '>\n",
            "<re.Match object; span=(118, 119), match='*'>\n",
            "<re.Match object; span=(119, 120), match=' '>\n",
            "<re.Match object; span=(120, 121), match='+'>\n",
            "<re.Match object; span=(121, 122), match=' '>\n",
            "<re.Match object; span=(122, 123), match='?'>\n",
            "<re.Match object; span=(123, 124), match=' '>\n",
            "<re.Match object; span=(124, 125), match='{'>\n",
            "<re.Match object; span=(125, 126), match=' '>\n",
            "<re.Match object; span=(126, 127), match='}'>\n",
            "<re.Match object; span=(127, 128), match=' '>\n",
            "<re.Match object; span=(128, 129), match='['>\n",
            "<re.Match object; span=(129, 130), match=' '>\n",
            "<re.Match object; span=(130, 131), match=']'>\n",
            "<re.Match object; span=(131, 132), match=' '>\n",
            "<re.Match object; span=(132, 133), match='\\\\'>\n",
            "<re.Match object; span=(133, 134), match=' '>\n",
            "<re.Match object; span=(134, 135), match='|'>\n",
            "<re.Match object; span=(135, 136), match=' '>\n",
            "<re.Match object; span=(136, 137), match='('>\n",
            "<re.Match object; span=(137, 138), match=' '>\n",
            "<re.Match object; span=(138, 139), match=')'>\n",
            "<re.Match object; span=(139, 140), match='\\n'>\n",
            "<re.Match object; span=(140, 141), match='\\n'>\n",
            "<re.Match object; span=(141, 142), match='c'>\n",
            "<re.Match object; span=(142, 143), match='o'>\n",
            "<re.Match object; span=(143, 144), match='r'>\n",
            "<re.Match object; span=(144, 145), match='e'>\n",
            "<re.Match object; span=(145, 146), match='y'>\n",
            "<re.Match object; span=(146, 147), match='m'>\n",
            "<re.Match object; span=(147, 148), match='s'>\n",
            "<re.Match object; span=(148, 149), match='.'>\n",
            "<re.Match object; span=(149, 150), match='c'>\n",
            "<re.Match object; span=(150, 151), match='o'>\n",
            "<re.Match object; span=(151, 152), match='m'>\n",
            "<re.Match object; span=(152, 153), match='\\n'>\n",
            "<re.Match object; span=(153, 154), match='\\n'>\n",
            "<re.Match object; span=(157, 158), match='-'>\n",
            "<re.Match object; span=(161, 162), match='-'>\n",
            "<re.Match object; span=(166, 167), match='\\n'>\n",
            "<re.Match object; span=(170, 171), match='.'>\n",
            "<re.Match object; span=(174, 175), match='.'>\n",
            "<re.Match object; span=(179, 180), match='\\n'>\n",
            "<re.Match object; span=(180, 181), match='\\n'>\n",
            "<re.Match object; span=(181, 182), match='M'>\n",
            "<re.Match object; span=(182, 183), match='r'>\n",
            "<re.Match object; span=(183, 184), match='.'>\n",
            "<re.Match object; span=(184, 185), match=' '>\n",
            "<re.Match object; span=(185, 186), match='S'>\n",
            "<re.Match object; span=(186, 187), match='c'>\n",
            "<re.Match object; span=(187, 188), match='h'>\n",
            "<re.Match object; span=(188, 189), match='a'>\n",
            "<re.Match object; span=(189, 190), match='f'>\n",
            "<re.Match object; span=(190, 191), match='e'>\n",
            "<re.Match object; span=(191, 192), match='r'>\n",
            "<re.Match object; span=(192, 193), match='\\n'>\n",
            "<re.Match object; span=(193, 194), match='M'>\n",
            "<re.Match object; span=(194, 195), match='r'>\n",
            "<re.Match object; span=(195, 196), match=' '>\n",
            "<re.Match object; span=(196, 197), match='S'>\n",
            "<re.Match object; span=(197, 198), match='m'>\n",
            "<re.Match object; span=(198, 199), match='i'>\n",
            "<re.Match object; span=(199, 200), match='t'>\n",
            "<re.Match object; span=(200, 201), match='h'>\n",
            "<re.Match object; span=(201, 202), match='\\n'>\n",
            "<re.Match object; span=(202, 203), match='M'>\n",
            "<re.Match object; span=(203, 204), match='s'>\n",
            "<re.Match object; span=(204, 205), match=' '>\n",
            "<re.Match object; span=(205, 206), match='D'>\n",
            "<re.Match object; span=(206, 207), match='a'>\n",
            "<re.Match object; span=(207, 208), match='v'>\n",
            "<re.Match object; span=(208, 209), match='i'>\n",
            "<re.Match object; span=(209, 210), match='s'>\n",
            "<re.Match object; span=(210, 211), match='\\n'>\n",
            "<re.Match object; span=(211, 212), match='M'>\n",
            "<re.Match object; span=(212, 213), match='r'>\n",
            "<re.Match object; span=(213, 214), match='s'>\n",
            "<re.Match object; span=(214, 215), match='.'>\n",
            "<re.Match object; span=(215, 216), match=' '>\n",
            "<re.Match object; span=(216, 217), match='R'>\n",
            "<re.Match object; span=(217, 218), match='o'>\n",
            "<re.Match object; span=(218, 219), match='b'>\n",
            "<re.Match object; span=(219, 220), match='i'>\n",
            "<re.Match object; span=(220, 221), match='n'>\n",
            "<re.Match object; span=(221, 222), match='s'>\n",
            "<re.Match object; span=(222, 223), match='o'>\n",
            "<re.Match object; span=(223, 224), match='n'>\n",
            "<re.Match object; span=(224, 225), match='\\n'>\n",
            "<re.Match object; span=(225, 226), match='M'>\n",
            "<re.Match object; span=(226, 227), match='r'>\n",
            "<re.Match object; span=(227, 228), match='.'>\n",
            "<re.Match object; span=(228, 229), match=' '>\n",
            "<re.Match object; span=(229, 230), match='T'>\n",
            "<re.Match object; span=(230, 231), match='\\n'>\n"
          ]
        }
      ]
    },
    {
      "cell_type": "markdown",
      "source": [
        "**\\s - whitespace (space, tab, newline)**"
      ],
      "metadata": {
        "id": "HJhbvk4hvK-3"
      }
    },
    {
      "cell_type": "code",
      "source": [
        "import re\n",
        "\n",
        "text_to_search = '''\n",
        "abcdefghijklmnopqrstuvwxyz\n",
        "ABCDEFGHIJKLMNOPQRSTUVWXYZ\n",
        "1234567890\n",
        "\n",
        "Ha HaHa\n",
        "\n",
        "Metacharacters(need to be escaped):\n",
        ". ^ $ * + ? { } [ ] \\ | ( )\n",
        "\n",
        "coreyms.com\n",
        "\n",
        "321-555-4321\n",
        "123.555.1234\n",
        "\n",
        "Mr. Schafer\n",
        "Mr Smith\n",
        "Ms Davis\n",
        "Mrs. Robinson\n",
        "Mr. T\n",
        "'''\n",
        "\n",
        "sentence = 'Start a sentence and then bring it to an end'\n",
        "\n",
        "pattern = re.compile(r'\\s')\n",
        "\n",
        "matches = pattern.finditer(text_to_search)\n",
        "\n",
        "for match in matches:\n",
        "    print(match)"
      ],
      "metadata": {
        "colab": {
          "base_uri": "https://localhost:8080/"
        },
        "id": "Nt1mrtBlu9U_",
        "outputId": "63bf39e5-d413-4bae-8293-7124ca6b55ce"
      },
      "execution_count": null,
      "outputs": [
        {
          "output_type": "stream",
          "name": "stdout",
          "text": [
            "<re.Match object; span=(0, 1), match='\\n'>\n",
            "<re.Match object; span=(27, 28), match='\\n'>\n",
            "<re.Match object; span=(54, 55), match='\\n'>\n",
            "<re.Match object; span=(65, 66), match='\\n'>\n",
            "<re.Match object; span=(66, 67), match='\\n'>\n",
            "<re.Match object; span=(69, 70), match=' '>\n",
            "<re.Match object; span=(74, 75), match='\\n'>\n",
            "<re.Match object; span=(75, 76), match='\\n'>\n",
            "<re.Match object; span=(95, 96), match=' '>\n",
            "<re.Match object; span=(98, 99), match=' '>\n",
            "<re.Match object; span=(101, 102), match=' '>\n",
            "<re.Match object; span=(111, 112), match='\\n'>\n",
            "<re.Match object; span=(113, 114), match=' '>\n",
            "<re.Match object; span=(115, 116), match=' '>\n",
            "<re.Match object; span=(117, 118), match=' '>\n",
            "<re.Match object; span=(119, 120), match=' '>\n",
            "<re.Match object; span=(121, 122), match=' '>\n",
            "<re.Match object; span=(123, 124), match=' '>\n",
            "<re.Match object; span=(125, 126), match=' '>\n",
            "<re.Match object; span=(127, 128), match=' '>\n",
            "<re.Match object; span=(129, 130), match=' '>\n",
            "<re.Match object; span=(131, 132), match=' '>\n",
            "<re.Match object; span=(133, 134), match=' '>\n",
            "<re.Match object; span=(135, 136), match=' '>\n",
            "<re.Match object; span=(137, 138), match=' '>\n",
            "<re.Match object; span=(139, 140), match='\\n'>\n",
            "<re.Match object; span=(140, 141), match='\\n'>\n",
            "<re.Match object; span=(152, 153), match='\\n'>\n",
            "<re.Match object; span=(153, 154), match='\\n'>\n",
            "<re.Match object; span=(166, 167), match='\\n'>\n",
            "<re.Match object; span=(179, 180), match='\\n'>\n",
            "<re.Match object; span=(180, 181), match='\\n'>\n",
            "<re.Match object; span=(184, 185), match=' '>\n",
            "<re.Match object; span=(192, 193), match='\\n'>\n",
            "<re.Match object; span=(195, 196), match=' '>\n",
            "<re.Match object; span=(201, 202), match='\\n'>\n",
            "<re.Match object; span=(204, 205), match=' '>\n",
            "<re.Match object; span=(210, 211), match='\\n'>\n",
            "<re.Match object; span=(215, 216), match=' '>\n",
            "<re.Match object; span=(224, 225), match='\\n'>\n",
            "<re.Match object; span=(228, 229), match=' '>\n",
            "<re.Match object; span=(230, 231), match='\\n'>\n"
          ]
        }
      ]
    },
    {
      "cell_type": "markdown",
      "source": [
        "## anchors\n",
        "**\\b - word boundary**\n"
      ],
      "metadata": {
        "id": "NvQ9N0S9v8cZ"
      }
    },
    {
      "cell_type": "code",
      "source": [
        "import re\n",
        "\n",
        "text_to_search = '''\n",
        "abcdefghijklmnopqrstuvwxyz\n",
        "ABCDEFGHIJKLMNOPQRSTUVWXYZ\n",
        "1234567890\n",
        "\n",
        "Ha HaHa\n",
        "\n",
        "Metacharacters(need to be escaped):\n",
        ". ^ $ * + ? { } [ ] \\ | ( )\n",
        "\n",
        "coreyms.com\n",
        "\n",
        "321-555-4321\n",
        "123.555.1234\n",
        "\n",
        "Mr. Schafer\n",
        "Mr Smith\n",
        "Ms Davis\n",
        "Mrs. Robinson\n",
        "Mr. T\n",
        "'''\n",
        "\n",
        "sentence = 'Start a sentence and then bring it to an end'\n",
        "\n",
        "pattern = re.compile(r'\\bHa')\n",
        "#Ha HaHa\n",
        "#not matching the third Ha because no word boundary before it\n",
        "\n",
        "matches = pattern.finditer(text_to_search)\n",
        "\n",
        "for match in matches:\n",
        "    print(match)"
      ],
      "metadata": {
        "colab": {
          "base_uri": "https://localhost:8080/"
        },
        "id": "sj6e3acqwPWP",
        "outputId": "94c12353-deb4-4bcf-f6bd-0d1213a7a58e"
      },
      "execution_count": null,
      "outputs": [
        {
          "output_type": "stream",
          "name": "stdout",
          "text": [
            "<re.Match object; span=(67, 69), match='Ha'>\n",
            "<re.Match object; span=(70, 72), match='Ha'>\n"
          ]
        }
      ]
    },
    {
      "cell_type": "markdown",
      "source": [
        "**\\B - not a word boundary**"
      ],
      "metadata": {
        "id": "F2paxZpuwxGw"
      }
    },
    {
      "cell_type": "code",
      "source": [
        "import re\n",
        "\n",
        "text_to_search = '''\n",
        "abcdefghijklmnopqrstuvwxyz\n",
        "ABCDEFGHIJKLMNOPQRSTUVWXYZ\n",
        "1234567890\n",
        "\n",
        "Ha HaHa\n",
        "\n",
        "Metacharacters(need to be escaped):\n",
        ". ^ $ * + ? { } [ ] \\ | ( )\n",
        "\n",
        "coreyms.com\n",
        "\n",
        "321-555-4321\n",
        "123.555.1234\n",
        "\n",
        "Mr. Schafer\n",
        "Mr Smith\n",
        "Ms Davis\n",
        "Mrs. Robinson\n",
        "Mr. T\n",
        "'''\n",
        "\n",
        "sentence = 'Start a sentence and then bring it to an end'\n",
        "\n",
        "pattern = re.compile(r'\\BHa')\n",
        "#Ha HaHa\n",
        "#matching the third Ha because no word boundary before it\n",
        "\n",
        "matches = pattern.finditer(text_to_search)\n",
        "\n",
        "for match in matches:\n",
        "    print(match)"
      ],
      "metadata": {
        "colab": {
          "base_uri": "https://localhost:8080/"
        },
        "id": "2NAmc0PCwv5E",
        "outputId": "46f85825-682d-4cf0-a22a-5aecb14f816b"
      },
      "execution_count": null,
      "outputs": [
        {
          "output_type": "stream",
          "name": "stdout",
          "text": [
            "<re.Match object; span=(72, 74), match='Ha'>\n"
          ]
        }
      ]
    },
    {
      "cell_type": "markdown",
      "source": [
        "**^ - beginning of a string**"
      ],
      "metadata": {
        "id": "UoZplzGdajo_"
      }
    },
    {
      "cell_type": "code",
      "source": [
        "import re\n",
        "\n",
        "text_to_search = '''\n",
        "abcdefghijklmnopqrstuvwxyz\n",
        "ABCDEFGHIJKLMNOPQRSTUVWXYZ\n",
        "1234567890\n",
        "\n",
        "Ha HaHa\n",
        "\n",
        "Metacharacters(need to be escaped):\n",
        ". ^ $ * + ? { } [ ] \\ | ( )\n",
        "\n",
        "coreyms.com\n",
        "\n",
        "321-555-4321\n",
        "123.555.1234\n",
        "\n",
        "Mr. Schafer\n",
        "Mr Smith\n",
        "Ms Davis\n",
        "Mrs. Robinson\n",
        "Mr. T\n",
        "'''\n",
        "\n",
        "sentence = 'Start a sentence and then bring it to an end'\n",
        "\n",
        "pattern = re.compile(r'^Start')\n",
        "\n",
        "matches = pattern.finditer(sentence)\n",
        "\n",
        "for match in matches:\n",
        "    print(match)"
      ],
      "metadata": {
        "colab": {
          "base_uri": "https://localhost:8080/"
        },
        "id": "Uh2IwcVpaXiG",
        "outputId": "983cbf8b-d9b5-44cf-a183-d9f997479cd8"
      },
      "execution_count": null,
      "outputs": [
        {
          "output_type": "stream",
          "name": "stdout",
          "text": [
            "<re.Match object; span=(0, 5), match='Start'>\n"
          ]
        }
      ]
    },
    {
      "cell_type": "markdown",
      "source": [
        "**$ - end of a string**"
      ],
      "metadata": {
        "id": "kC8CYM14xWid"
      }
    },
    {
      "cell_type": "code",
      "source": [
        "import re\n",
        "\n",
        "text_to_search = '''\n",
        "abcdefghijklmnopqrstuvwxyz\n",
        "ABCDEFGHIJKLMNOPQRSTUVWXYZ\n",
        "1234567890\n",
        "\n",
        "Ha HaHa\n",
        "\n",
        "Metacharacters(need to be escaped):\n",
        ". ^ $ * + ? { } [ ] \\ | ( )\n",
        "\n",
        "coreyms.com\n",
        "\n",
        "321-555-4321\n",
        "123.555.1234\n",
        "\n",
        "Mr. Schafer\n",
        "Mr Smith\n",
        "Ms Davis\n",
        "Mrs. Robinson\n",
        "Mr. T\n",
        "'''\n",
        "\n",
        "sentence = 'Start a sentence and then bring it to an end'\n",
        "\n",
        "pattern = re.compile(r'end$')\n",
        "\n",
        "matches = pattern.finditer(sentence)\n",
        "\n",
        "for match in matches:\n",
        "    print(match)"
      ],
      "metadata": {
        "colab": {
          "base_uri": "https://localhost:8080/"
        },
        "id": "K04lfSN3xVg5",
        "outputId": "a5609d7d-4bac-4e1f-a1ab-efec93d05569"
      },
      "execution_count": null,
      "outputs": [
        {
          "output_type": "stream",
          "name": "stdout",
          "text": [
            "<re.Match object; span=(41, 44), match='end'>\n"
          ]
        }
      ]
    },
    {
      "cell_type": "markdown",
      "source": [
        "**\\d\\d\\d - to search for 3 digits**"
      ],
      "metadata": {
        "id": "taVyF858bpx-"
      }
    },
    {
      "cell_type": "code",
      "source": [
        "import re\n",
        "\n",
        "text_to_search = '''\n",
        "abcdefghijklmnopqrstuvwxyz\n",
        "ABCDEFGHIJKLMNOPQRSTUVWXYZ\n",
        "1234567890\n",
        "\n",
        "Ha HaHa\n",
        "\n",
        "Metacharacters(need to be escaped):\n",
        ". ^ $ * + ? { } [ ] \\ | ( )\n",
        "\n",
        "coreyms.com\n",
        "\n",
        "321-555-4321\n",
        "123.555.1234\n",
        "\n",
        "Mr. Schafer\n",
        "Mr Smith\n",
        "Ms Davis\n",
        "Mrs. Robinson\n",
        "Mr. T\n",
        "'''\n",
        "\n",
        "sentence = 'Start a sentence and then bring it to an end'\n",
        "\n",
        "pattern = re.compile(r'\\d\\d\\d')\n",
        "\n",
        "matches = pattern.finditer(text_to_search)\n",
        "\n",
        "for match in matches:\n",
        "    print(match)"
      ],
      "metadata": {
        "colab": {
          "base_uri": "https://localhost:8080/"
        },
        "id": "nv_NXLFDbZRH",
        "outputId": "c00730fd-1764-45c1-824a-373ab559b81f"
      },
      "execution_count": null,
      "outputs": [
        {
          "output_type": "stream",
          "name": "stdout",
          "text": [
            "<re.Match object; span=(55, 58), match='123'>\n",
            "<re.Match object; span=(58, 61), match='456'>\n",
            "<re.Match object; span=(61, 64), match='789'>\n",
            "<re.Match object; span=(154, 157), match='321'>\n",
            "<re.Match object; span=(158, 161), match='555'>\n",
            "<re.Match object; span=(162, 165), match='432'>\n",
            "<re.Match object; span=(167, 170), match='123'>\n",
            "<re.Match object; span=(171, 174), match='555'>\n",
            "<re.Match object; span=(175, 178), match='123'>\n"
          ]
        }
      ]
    },
    {
      "cell_type": "markdown",
      "source": [
        "**\\d\\d\\d.\\d\\d\\d.\\d\\d\\d - to search 3 digits, any character, 3 digits, any character, 3 digits**"
      ],
      "metadata": {
        "id": "ZtrpDu7kcJd1"
      }
    },
    {
      "cell_type": "code",
      "source": [
        "import re\n",
        "\n",
        "text_to_search = '''\n",
        "abcdefghijklmnopqrstuvwxyz\n",
        "ABCDEFGHIJKLMNOPQRSTUVWXYZ\n",
        "1234567890\n",
        "\n",
        "Ha HaHa\n",
        "\n",
        "Metacharacters(need to be escaped):\n",
        ". ^ $ * + ? { } [ ] \\ | ( )\n",
        "\n",
        "coreyms.com\n",
        "\n",
        "321-555-4321\n",
        "123.555.1234\n",
        "\n",
        "Mr. Schafer\n",
        "Mr Smith\n",
        "Ms Davis\n",
        "Mrs. Robinson\n",
        "Mr. T\n",
        "'''\n",
        "\n",
        "sentence = 'Start a sentence and then bring it to an end'\n",
        "\n",
        "pattern = re.compile(r'\\d\\d\\d.\\d\\d\\d.\\d\\d\\d')\n",
        "\n",
        "matches = pattern.finditer(text_to_search)\n",
        "\n",
        "for match in matches:\n",
        "    print(match)"
      ],
      "metadata": {
        "colab": {
          "base_uri": "https://localhost:8080/"
        },
        "id": "s6ndeSRZcCjk",
        "outputId": "a0dcaef3-21fa-4fbf-b3fe-73d4a6f5d986"
      },
      "execution_count": null,
      "outputs": [
        {
          "output_type": "stream",
          "name": "stdout",
          "text": [
            "<re.Match object; span=(154, 165), match='321-555-432'>\n",
            "<re.Match object; span=(167, 178), match='123.555.123'>\n"
          ]
        }
      ]
    },
    {
      "cell_type": "code",
      "source": [
        "import re\n",
        "\n",
        "text_to_search = '''\n",
        "abcdefghijklmnopqrstuvwxyz\n",
        "ABCDEFGHIJKLMNOPQRSTUVWXYZ\n",
        "1234567890\n",
        "\n",
        "Ha HaHa\n",
        "\n",
        "Metacharacters(need to be escaped):\n",
        ". ^ $ * + ? { } [ ] \\ | ( )\n",
        "\n",
        "coreyms.com\n",
        "\n",
        "321-555-4321\n",
        "123.555.1234\n",
        "\n",
        "Mr. Schafer\n",
        "Mr Smith\n",
        "Ms Davis\n",
        "Mrs. Robinson\n",
        "Mr. T\n",
        "'''\n",
        "\n",
        "sentence = 'Start a sentence and then bring it to an end'\n",
        "\n",
        "pattern = re.compile(r'\\d\\d\\d.\\d\\d\\d.\\d\\d\\d')\n",
        "\n",
        "matches = pattern.finditer(text_to_search)\n",
        "\n",
        "with open('data.txt', 'r') as f:\n",
        "  contents = f.read()\n",
        "  matches = pattern.finditer(contents)\n",
        "\n",
        "  for match in matches:\n",
        "    print(match)\n"
      ],
      "metadata": {
        "colab": {
          "base_uri": "https://localhost:8080/"
        },
        "id": "wgOdei3ycfKs",
        "outputId": "c606b3ef-f7f7-4942-fa2f-023a5205eb03"
      },
      "execution_count": null,
      "outputs": [
        {
          "output_type": "stream",
          "name": "stdout",
          "text": [
            "<re.Match object; span=(12, 23), match='615-555-716'>\n",
            "<re.Match object; span=(94, 105), match='923-442-314'>\n"
          ]
        }
      ]
    },
    {
      "cell_type": "markdown",
      "source": [
        "**\\d\\d\\d[-.]\\d\\d\\d[-.]\\d\\d\\d\\d** - to specify only digit and [-.]"
      ],
      "metadata": {
        "id": "NqHF2SKse_N9"
      }
    },
    {
      "cell_type": "code",
      "source": [
        "import re\n",
        "\n",
        "text_to_search = '''\n",
        "abcdefghijklmnopqrstuvwxyz\n",
        "ABCDEFGHIJKLMNOPQRSTUVWXYZ\n",
        "1234567890\n",
        "\n",
        "Ha HaHa\n",
        "\n",
        "Metacharacters(need to be escaped):\n",
        ". ^ $ * + ? { } [ ] \\ | ( )\n",
        "\n",
        "coreyms.com\n",
        "\n",
        "321-555-4321\n",
        "123.555.1234\n",
        "123*555*1234\n",
        "\n",
        "Mr. Schafer\n",
        "Mr Smith\n",
        "Ms Davis\n",
        "Mrs. Robinson\n",
        "Mr. T\n",
        "'''\n",
        "\n",
        "sentence = 'Start a sentence and then bring it to an end'\n",
        "\n",
        "pattern = re.compile(r'\\d\\d\\d[-.]\\d\\d\\d[-.]\\d\\d\\d\\d')\n",
        "\n",
        "matches = pattern.finditer(text_to_search)\n",
        "\n",
        "for match in matches:\n",
        "  print(match)"
      ],
      "metadata": {
        "colab": {
          "base_uri": "https://localhost:8080/"
        },
        "id": "kzJQk6xoeuTC",
        "outputId": "5377378e-3dc1-4f93-ab48-74ce19f25c07"
      },
      "execution_count": null,
      "outputs": [
        {
          "output_type": "stream",
          "name": "stdout",
          "text": [
            "<re.Match object; span=(154, 166), match='321-555-4321'>\n",
            "<re.Match object; span=(167, 179), match='123.555.1234'>\n"
          ]
        }
      ]
    },
    {
      "cell_type": "markdown",
      "source": [
        "**[89]00[-.]\\d\\d\\d[-.]\\d\\d\\d\\d** - first digit is either 8 or 9 followed by 00"
      ],
      "metadata": {
        "id": "m_3V9CmFkkgU"
      }
    },
    {
      "cell_type": "code",
      "source": [
        "import re\n",
        "\n",
        "text_to_search = '''\n",
        "abcdefghijklmnopqrstuvwxyz\n",
        "ABCDEFGHIJKLMNOPQRSTUVWXYZ\n",
        "1234567890\n",
        "\n",
        "Ha HaHa\n",
        "\n",
        "Metacharacters(need to be escaped):\n",
        ". ^ $ * + ? { } [ ] \\ | ( )\n",
        "\n",
        "coreyms.com\n",
        "\n",
        "321-555-4321\n",
        "123.555.1234\n",
        "123*555*1234\n",
        "800-555-1234\n",
        "900-555-1234\n",
        "\n",
        "Mr. Schafer\n",
        "Mr Smith\n",
        "Ms Davis\n",
        "Mrs. Robinson\n",
        "Mr. T\n",
        "'''\n",
        "\n",
        "sentence = 'Start a sentence and then bring it to an end'\n",
        "\n",
        "pattern = re.compile(r'[89]00[-.]\\d\\d\\d[-.]\\d\\d\\d\\d')\n",
        "\n",
        "matches = pattern.finditer(text_to_search)\n",
        "\n",
        "for match in matches:\n",
        "  print(match)"
      ],
      "metadata": {
        "colab": {
          "base_uri": "https://localhost:8080/"
        },
        "id": "zWWg1oEEkk-T",
        "outputId": "893ede00-372c-4e84-83a1-263357dc875c"
      },
      "execution_count": null,
      "outputs": [
        {
          "output_type": "stream",
          "name": "stdout",
          "text": [
            "<re.Match object; span=(193, 205), match='800-555-1234'>\n",
            "<re.Match object; span=(206, 218), match='900-555-1234'>\n"
          ]
        }
      ]
    },
    {
      "cell_type": "markdown",
      "source": [
        "**[1-5]** - search for digit 1,2,3,4,5"
      ],
      "metadata": {
        "id": "ofLrN4PPlhy1"
      }
    },
    {
      "cell_type": "code",
      "source": [
        "import re\n",
        "\n",
        "text_to_search = '''\n",
        "abcdefghijklmnopqrstuvwxyz\n",
        "ABCDEFGHIJKLMNOPQRSTUVWXYZ\n",
        "1234567890\n",
        "\n",
        "Ha HaHa\n",
        "\n",
        "Metacharacters(need to be escaped):\n",
        ". ^ $ * + ? { } [ ] \\ | ( )\n",
        "\n",
        "coreyms.com\n",
        "\n",
        "321-555-4321\n",
        "123.555.1234\n",
        "\n",
        "Mr. Schafer\n",
        "Mr Smith\n",
        "Ms Davis\n",
        "Mrs. Robinson\n",
        "Mr. T\n",
        "'''\n",
        "\n",
        "sentence = 'Start a sentence and then bring it to an end'\n",
        "\n",
        "pattern = re.compile(r'[1-5]')\n",
        "# - between 1 and 5 defines range\n",
        "\n",
        "matches = pattern.finditer(text_to_search)\n",
        "\n",
        "for match in matches:\n",
        "  print(match)"
      ],
      "metadata": {
        "colab": {
          "base_uri": "https://localhost:8080/"
        },
        "id": "AiPkPhjwliIn",
        "outputId": "6a5c8c85-c5a6-481b-876a-42e9605f5063"
      },
      "execution_count": null,
      "outputs": [
        {
          "output_type": "stream",
          "name": "stdout",
          "text": [
            "<re.Match object; span=(55, 56), match='1'>\n",
            "<re.Match object; span=(56, 57), match='2'>\n",
            "<re.Match object; span=(57, 58), match='3'>\n",
            "<re.Match object; span=(58, 59), match='4'>\n",
            "<re.Match object; span=(59, 60), match='5'>\n",
            "<re.Match object; span=(154, 155), match='3'>\n",
            "<re.Match object; span=(155, 156), match='2'>\n",
            "<re.Match object; span=(156, 157), match='1'>\n",
            "<re.Match object; span=(158, 159), match='5'>\n",
            "<re.Match object; span=(159, 160), match='5'>\n",
            "<re.Match object; span=(160, 161), match='5'>\n",
            "<re.Match object; span=(162, 163), match='4'>\n",
            "<re.Match object; span=(163, 164), match='3'>\n",
            "<re.Match object; span=(164, 165), match='2'>\n",
            "<re.Match object; span=(165, 166), match='1'>\n",
            "<re.Match object; span=(167, 168), match='1'>\n",
            "<re.Match object; span=(168, 169), match='2'>\n",
            "<re.Match object; span=(169, 170), match='3'>\n",
            "<re.Match object; span=(171, 172), match='5'>\n",
            "<re.Match object; span=(172, 173), match='5'>\n",
            "<re.Match object; span=(173, 174), match='5'>\n",
            "<re.Match object; span=(175, 176), match='1'>\n",
            "<re.Match object; span=(176, 177), match='2'>\n",
            "<re.Match object; span=(177, 178), match='3'>\n",
            "<re.Match object; span=(178, 179), match='4'>\n"
          ]
        }
      ]
    },
    {
      "cell_type": "markdown",
      "source": [
        "**[a-zA-Z]** - search for a-z and A-Z"
      ],
      "metadata": {
        "id": "Wda4u1A_ltlE"
      }
    },
    {
      "cell_type": "code",
      "source": [
        "import re\n",
        "\n",
        "text_to_search = '''\n",
        "abcdefghijklmnopqrstuvwxyz\n",
        "ABCDEFGHIJKLMNOPQRSTUVWXYZ\n",
        "1234567890\n",
        "\n",
        "Ha HaHa\n",
        "\n",
        "Metacharacters(need to be escaped):\n",
        ". ^ $ * + ? { } [ ] \\ | ( )\n",
        "\n",
        "coreyms.com\n",
        "\n",
        "321-555-4321\n",
        "123.555.1234\n",
        "123*555*1234\n",
        "800-555-1234\n",
        "900-555-1234\n",
        "\n",
        "Mr. Schafer\n",
        "Mr Smith\n",
        "Ms Davis\n",
        "Mrs. Robinson\n",
        "Mr. T\n",
        "'''\n",
        "\n",
        "sentence = 'Start a sentence and then bring it to an end'\n",
        "\n",
        "pattern = re.compile(r'[a-zA-Z]')\n",
        "\n",
        "matches = pattern.finditer(text_to_search)\n",
        "\n",
        "for match in matches:\n",
        "  print(match)"
      ],
      "metadata": {
        "colab": {
          "base_uri": "https://localhost:8080/"
        },
        "id": "lUVYXMRBlswi",
        "outputId": "f0127d08-32a8-4d34-f777-16e777346473"
      },
      "execution_count": null,
      "outputs": [
        {
          "output_type": "stream",
          "name": "stdout",
          "text": [
            "<re.Match object; span=(1, 2), match='a'>\n",
            "<re.Match object; span=(2, 3), match='b'>\n",
            "<re.Match object; span=(3, 4), match='c'>\n",
            "<re.Match object; span=(4, 5), match='d'>\n",
            "<re.Match object; span=(5, 6), match='e'>\n",
            "<re.Match object; span=(6, 7), match='f'>\n",
            "<re.Match object; span=(7, 8), match='g'>\n",
            "<re.Match object; span=(8, 9), match='h'>\n",
            "<re.Match object; span=(9, 10), match='i'>\n",
            "<re.Match object; span=(10, 11), match='j'>\n",
            "<re.Match object; span=(11, 12), match='k'>\n",
            "<re.Match object; span=(12, 13), match='l'>\n",
            "<re.Match object; span=(13, 14), match='m'>\n",
            "<re.Match object; span=(14, 15), match='n'>\n",
            "<re.Match object; span=(15, 16), match='o'>\n",
            "<re.Match object; span=(16, 17), match='p'>\n",
            "<re.Match object; span=(17, 18), match='q'>\n",
            "<re.Match object; span=(18, 19), match='r'>\n",
            "<re.Match object; span=(19, 20), match='s'>\n",
            "<re.Match object; span=(20, 21), match='t'>\n",
            "<re.Match object; span=(21, 22), match='u'>\n",
            "<re.Match object; span=(22, 23), match='v'>\n",
            "<re.Match object; span=(23, 24), match='w'>\n",
            "<re.Match object; span=(24, 25), match='x'>\n",
            "<re.Match object; span=(25, 26), match='y'>\n",
            "<re.Match object; span=(26, 27), match='z'>\n",
            "<re.Match object; span=(28, 29), match='A'>\n",
            "<re.Match object; span=(29, 30), match='B'>\n",
            "<re.Match object; span=(30, 31), match='C'>\n",
            "<re.Match object; span=(31, 32), match='D'>\n",
            "<re.Match object; span=(32, 33), match='E'>\n",
            "<re.Match object; span=(33, 34), match='F'>\n",
            "<re.Match object; span=(34, 35), match='G'>\n",
            "<re.Match object; span=(35, 36), match='H'>\n",
            "<re.Match object; span=(36, 37), match='I'>\n",
            "<re.Match object; span=(37, 38), match='J'>\n",
            "<re.Match object; span=(38, 39), match='K'>\n",
            "<re.Match object; span=(39, 40), match='L'>\n",
            "<re.Match object; span=(40, 41), match='M'>\n",
            "<re.Match object; span=(41, 42), match='N'>\n",
            "<re.Match object; span=(42, 43), match='O'>\n",
            "<re.Match object; span=(43, 44), match='P'>\n",
            "<re.Match object; span=(44, 45), match='Q'>\n",
            "<re.Match object; span=(45, 46), match='R'>\n",
            "<re.Match object; span=(46, 47), match='S'>\n",
            "<re.Match object; span=(47, 48), match='T'>\n",
            "<re.Match object; span=(48, 49), match='U'>\n",
            "<re.Match object; span=(49, 50), match='V'>\n",
            "<re.Match object; span=(50, 51), match='W'>\n",
            "<re.Match object; span=(51, 52), match='X'>\n",
            "<re.Match object; span=(52, 53), match='Y'>\n",
            "<re.Match object; span=(53, 54), match='Z'>\n",
            "<re.Match object; span=(67, 68), match='H'>\n",
            "<re.Match object; span=(68, 69), match='a'>\n",
            "<re.Match object; span=(70, 71), match='H'>\n",
            "<re.Match object; span=(71, 72), match='a'>\n",
            "<re.Match object; span=(72, 73), match='H'>\n",
            "<re.Match object; span=(73, 74), match='a'>\n",
            "<re.Match object; span=(76, 77), match='M'>\n",
            "<re.Match object; span=(77, 78), match='e'>\n",
            "<re.Match object; span=(78, 79), match='t'>\n",
            "<re.Match object; span=(79, 80), match='a'>\n",
            "<re.Match object; span=(80, 81), match='c'>\n",
            "<re.Match object; span=(81, 82), match='h'>\n",
            "<re.Match object; span=(82, 83), match='a'>\n",
            "<re.Match object; span=(83, 84), match='r'>\n",
            "<re.Match object; span=(84, 85), match='a'>\n",
            "<re.Match object; span=(85, 86), match='c'>\n",
            "<re.Match object; span=(86, 87), match='t'>\n",
            "<re.Match object; span=(87, 88), match='e'>\n",
            "<re.Match object; span=(88, 89), match='r'>\n",
            "<re.Match object; span=(89, 90), match='s'>\n",
            "<re.Match object; span=(91, 92), match='n'>\n",
            "<re.Match object; span=(92, 93), match='e'>\n",
            "<re.Match object; span=(93, 94), match='e'>\n",
            "<re.Match object; span=(94, 95), match='d'>\n",
            "<re.Match object; span=(96, 97), match='t'>\n",
            "<re.Match object; span=(97, 98), match='o'>\n",
            "<re.Match object; span=(99, 100), match='b'>\n",
            "<re.Match object; span=(100, 101), match='e'>\n",
            "<re.Match object; span=(102, 103), match='e'>\n",
            "<re.Match object; span=(103, 104), match='s'>\n",
            "<re.Match object; span=(104, 105), match='c'>\n",
            "<re.Match object; span=(105, 106), match='a'>\n",
            "<re.Match object; span=(106, 107), match='p'>\n",
            "<re.Match object; span=(107, 108), match='e'>\n",
            "<re.Match object; span=(108, 109), match='d'>\n",
            "<re.Match object; span=(141, 142), match='c'>\n",
            "<re.Match object; span=(142, 143), match='o'>\n",
            "<re.Match object; span=(143, 144), match='r'>\n",
            "<re.Match object; span=(144, 145), match='e'>\n",
            "<re.Match object; span=(145, 146), match='y'>\n",
            "<re.Match object; span=(146, 147), match='m'>\n",
            "<re.Match object; span=(147, 148), match='s'>\n",
            "<re.Match object; span=(149, 150), match='c'>\n",
            "<re.Match object; span=(150, 151), match='o'>\n",
            "<re.Match object; span=(151, 152), match='m'>\n",
            "<re.Match object; span=(220, 221), match='M'>\n",
            "<re.Match object; span=(221, 222), match='r'>\n",
            "<re.Match object; span=(224, 225), match='S'>\n",
            "<re.Match object; span=(225, 226), match='c'>\n",
            "<re.Match object; span=(226, 227), match='h'>\n",
            "<re.Match object; span=(227, 228), match='a'>\n",
            "<re.Match object; span=(228, 229), match='f'>\n",
            "<re.Match object; span=(229, 230), match='e'>\n",
            "<re.Match object; span=(230, 231), match='r'>\n",
            "<re.Match object; span=(232, 233), match='M'>\n",
            "<re.Match object; span=(233, 234), match='r'>\n",
            "<re.Match object; span=(235, 236), match='S'>\n",
            "<re.Match object; span=(236, 237), match='m'>\n",
            "<re.Match object; span=(237, 238), match='i'>\n",
            "<re.Match object; span=(238, 239), match='t'>\n",
            "<re.Match object; span=(239, 240), match='h'>\n",
            "<re.Match object; span=(241, 242), match='M'>\n",
            "<re.Match object; span=(242, 243), match='s'>\n",
            "<re.Match object; span=(244, 245), match='D'>\n",
            "<re.Match object; span=(245, 246), match='a'>\n",
            "<re.Match object; span=(246, 247), match='v'>\n",
            "<re.Match object; span=(247, 248), match='i'>\n",
            "<re.Match object; span=(248, 249), match='s'>\n",
            "<re.Match object; span=(250, 251), match='M'>\n",
            "<re.Match object; span=(251, 252), match='r'>\n",
            "<re.Match object; span=(252, 253), match='s'>\n",
            "<re.Match object; span=(255, 256), match='R'>\n",
            "<re.Match object; span=(256, 257), match='o'>\n",
            "<re.Match object; span=(257, 258), match='b'>\n",
            "<re.Match object; span=(258, 259), match='i'>\n",
            "<re.Match object; span=(259, 260), match='n'>\n",
            "<re.Match object; span=(260, 261), match='s'>\n",
            "<re.Match object; span=(261, 262), match='o'>\n",
            "<re.Match object; span=(262, 263), match='n'>\n",
            "<re.Match object; span=(264, 265), match='M'>\n",
            "<re.Match object; span=(265, 266), match='r'>\n",
            "<re.Match object; span=(268, 269), match='T'>\n"
          ]
        }
      ]
    },
    {
      "cell_type": "markdown",
      "source": [
        "**[^a-zA-Z]** - caret within the set, negate the set and matches everything not within the set"
      ],
      "metadata": {
        "id": "IhyAmFgcmXAQ"
      }
    },
    {
      "cell_type": "code",
      "source": [
        "import re\n",
        "\n",
        "text_to_search = '''\n",
        "abcdefghijklmnopqrstuvwxyz\n",
        "ABCDEFGHIJKLMNOPQRSTUVWXYZ\n",
        "1234567890\n",
        "\n",
        "Ha HaHa\n",
        "\n",
        "Metacharacters(need to be escaped):\n",
        ". ^ $ * + ? { } [ ] \\ | ( )\n",
        "\n",
        "coreyms.com\n",
        "\n",
        "321-555-4321\n",
        "123.555.1234\n",
        "\n",
        "Mr. Schafer\n",
        "Mr Smith\n",
        "Ms Davis\n",
        "Mrs. Robinson\n",
        "Mr. T\n",
        "'''\n",
        "\n",
        "sentence = 'Start a sentence and then bring it to an end'\n",
        "\n",
        "pattern = re.compile(r'[^a-zA-Z]')\n",
        "\n",
        "matches = pattern.finditer(text_to_search)\n",
        "\n",
        "for match in matches:\n",
        "  print(match)"
      ],
      "metadata": {
        "colab": {
          "base_uri": "https://localhost:8080/"
        },
        "id": "fW2MI8_6mgyD",
        "outputId": "def963ee-646f-43de-e5c2-f46af226f698"
      },
      "execution_count": null,
      "outputs": [
        {
          "output_type": "stream",
          "name": "stdout",
          "text": [
            "<re.Match object; span=(0, 1), match='\\n'>\n",
            "<re.Match object; span=(27, 28), match='\\n'>\n",
            "<re.Match object; span=(54, 55), match='\\n'>\n",
            "<re.Match object; span=(55, 56), match='1'>\n",
            "<re.Match object; span=(56, 57), match='2'>\n",
            "<re.Match object; span=(57, 58), match='3'>\n",
            "<re.Match object; span=(58, 59), match='4'>\n",
            "<re.Match object; span=(59, 60), match='5'>\n",
            "<re.Match object; span=(60, 61), match='6'>\n",
            "<re.Match object; span=(61, 62), match='7'>\n",
            "<re.Match object; span=(62, 63), match='8'>\n",
            "<re.Match object; span=(63, 64), match='9'>\n",
            "<re.Match object; span=(64, 65), match='0'>\n",
            "<re.Match object; span=(65, 66), match='\\n'>\n",
            "<re.Match object; span=(66, 67), match='\\n'>\n",
            "<re.Match object; span=(69, 70), match=' '>\n",
            "<re.Match object; span=(74, 75), match='\\n'>\n",
            "<re.Match object; span=(75, 76), match='\\n'>\n",
            "<re.Match object; span=(90, 91), match='('>\n",
            "<re.Match object; span=(95, 96), match=' '>\n",
            "<re.Match object; span=(98, 99), match=' '>\n",
            "<re.Match object; span=(101, 102), match=' '>\n",
            "<re.Match object; span=(109, 110), match=')'>\n",
            "<re.Match object; span=(110, 111), match=':'>\n",
            "<re.Match object; span=(111, 112), match='\\n'>\n",
            "<re.Match object; span=(112, 113), match='.'>\n",
            "<re.Match object; span=(113, 114), match=' '>\n",
            "<re.Match object; span=(114, 115), match='^'>\n",
            "<re.Match object; span=(115, 116), match=' '>\n",
            "<re.Match object; span=(116, 117), match='$'>\n",
            "<re.Match object; span=(117, 118), match=' '>\n",
            "<re.Match object; span=(118, 119), match='*'>\n",
            "<re.Match object; span=(119, 120), match=' '>\n",
            "<re.Match object; span=(120, 121), match='+'>\n",
            "<re.Match object; span=(121, 122), match=' '>\n",
            "<re.Match object; span=(122, 123), match='?'>\n",
            "<re.Match object; span=(123, 124), match=' '>\n",
            "<re.Match object; span=(124, 125), match='{'>\n",
            "<re.Match object; span=(125, 126), match=' '>\n",
            "<re.Match object; span=(126, 127), match='}'>\n",
            "<re.Match object; span=(127, 128), match=' '>\n",
            "<re.Match object; span=(128, 129), match='['>\n",
            "<re.Match object; span=(129, 130), match=' '>\n",
            "<re.Match object; span=(130, 131), match=']'>\n",
            "<re.Match object; span=(131, 132), match=' '>\n",
            "<re.Match object; span=(132, 133), match='\\\\'>\n",
            "<re.Match object; span=(133, 134), match=' '>\n",
            "<re.Match object; span=(134, 135), match='|'>\n",
            "<re.Match object; span=(135, 136), match=' '>\n",
            "<re.Match object; span=(136, 137), match='('>\n",
            "<re.Match object; span=(137, 138), match=' '>\n",
            "<re.Match object; span=(138, 139), match=')'>\n",
            "<re.Match object; span=(139, 140), match='\\n'>\n",
            "<re.Match object; span=(140, 141), match='\\n'>\n",
            "<re.Match object; span=(148, 149), match='.'>\n",
            "<re.Match object; span=(152, 153), match='\\n'>\n",
            "<re.Match object; span=(153, 154), match='\\n'>\n",
            "<re.Match object; span=(154, 155), match='3'>\n",
            "<re.Match object; span=(155, 156), match='2'>\n",
            "<re.Match object; span=(156, 157), match='1'>\n",
            "<re.Match object; span=(157, 158), match='-'>\n",
            "<re.Match object; span=(158, 159), match='5'>\n",
            "<re.Match object; span=(159, 160), match='5'>\n",
            "<re.Match object; span=(160, 161), match='5'>\n",
            "<re.Match object; span=(161, 162), match='-'>\n",
            "<re.Match object; span=(162, 163), match='4'>\n",
            "<re.Match object; span=(163, 164), match='3'>\n",
            "<re.Match object; span=(164, 165), match='2'>\n",
            "<re.Match object; span=(165, 166), match='1'>\n",
            "<re.Match object; span=(166, 167), match='\\n'>\n",
            "<re.Match object; span=(167, 168), match='1'>\n",
            "<re.Match object; span=(168, 169), match='2'>\n",
            "<re.Match object; span=(169, 170), match='3'>\n",
            "<re.Match object; span=(170, 171), match='.'>\n",
            "<re.Match object; span=(171, 172), match='5'>\n",
            "<re.Match object; span=(172, 173), match='5'>\n",
            "<re.Match object; span=(173, 174), match='5'>\n",
            "<re.Match object; span=(174, 175), match='.'>\n",
            "<re.Match object; span=(175, 176), match='1'>\n",
            "<re.Match object; span=(176, 177), match='2'>\n",
            "<re.Match object; span=(177, 178), match='3'>\n",
            "<re.Match object; span=(178, 179), match='4'>\n",
            "<re.Match object; span=(179, 180), match='\\n'>\n",
            "<re.Match object; span=(180, 181), match='\\n'>\n",
            "<re.Match object; span=(183, 184), match='.'>\n",
            "<re.Match object; span=(184, 185), match=' '>\n",
            "<re.Match object; span=(192, 193), match='\\n'>\n",
            "<re.Match object; span=(195, 196), match=' '>\n",
            "<re.Match object; span=(201, 202), match='\\n'>\n",
            "<re.Match object; span=(204, 205), match=' '>\n",
            "<re.Match object; span=(210, 211), match='\\n'>\n",
            "<re.Match object; span=(214, 215), match='.'>\n",
            "<re.Match object; span=(215, 216), match=' '>\n",
            "<re.Match object; span=(224, 225), match='\\n'>\n",
            "<re.Match object; span=(227, 228), match='.'>\n",
            "<re.Match object; span=(228, 229), match=' '>\n",
            "<re.Match object; span=(230, 231), match='\\n'>\n"
          ]
        }
      ]
    },
    {
      "cell_type": "markdown",
      "source": [
        "**[^b]at** - string not starting with then followed by at"
      ],
      "metadata": {
        "id": "iDuJlwZrn0U0"
      }
    },
    {
      "cell_type": "code",
      "source": [
        "import re\n",
        "\n",
        "text_to_search = '''\n",
        "abcdefghijklmnopqrstuvwxyz\n",
        "ABCDEFGHIJKLMNOPQRSTUVWXYZ\n",
        "1234567890\n",
        "\n",
        "Ha HaHa\n",
        "\n",
        "Metacharacters(need to be escaped):\n",
        ". ^ $ * + ? { } [ ] \\ | ( )\n",
        "\n",
        "coreyms.com\n",
        "\n",
        "321-555-4321\n",
        "123.555.1234\n",
        "\n",
        "Mr. Schafer\n",
        "Mr Smith\n",
        "Ms Davis\n",
        "Mrs. Robinson\n",
        "Mr. T\n",
        "\n",
        "cat\n",
        "mat\n",
        "pat\n",
        "bat\n",
        "'''\n",
        "\n",
        "sentence = 'Start a sentence and then bring it to an end'\n",
        "\n",
        "pattern = re.compile(r'[^b]at')\n",
        "\n",
        "matches = pattern.finditer(text_to_search)\n",
        "\n",
        "for match in matches:\n",
        "  print(match)"
      ],
      "metadata": {
        "colab": {
          "base_uri": "https://localhost:8080/"
        },
        "id": "teCSTMI5nVGq",
        "outputId": "a0715502-e748-4d20-c882-3d4902c46bb9"
      },
      "execution_count": null,
      "outputs": [
        {
          "output_type": "stream",
          "name": "stdout",
          "text": [
            "<re.Match object; span=(232, 235), match='cat'>\n",
            "<re.Match object; span=(236, 239), match='mat'>\n",
            "<re.Match object; span=(240, 243), match='pat'>\n"
          ]
        }
      ]
    },
    {
      "cell_type": "markdown",
      "source": [
        "**\\d{3}.\\d{3}.\\d{4}** - quantifiers"
      ],
      "metadata": {
        "id": "E8suenNon-Gr"
      }
    },
    {
      "cell_type": "code",
      "source": [
        "import re\n",
        "\n",
        "text_to_search = '''\n",
        "abcdefghijklmnopqrstuvwxyz\n",
        "ABCDEFGHIJKLMNOPQRSTUVWXYZ\n",
        "1234567890\n",
        "\n",
        "Ha HaHa\n",
        "\n",
        "Metacharacters(need to be escaped):\n",
        ". ^ $ * + ? { } [ ] \\ | ( )\n",
        "\n",
        "coreyms.com\n",
        "\n",
        "321-555-4321\n",
        "123.555.1234\n",
        "\n",
        "Mr. Schafer\n",
        "Mr Smith\n",
        "Ms Davis\n",
        "Mrs. Robinson\n",
        "Mr. T\n",
        "\n",
        "'''\n",
        "\n",
        "sentence = 'Start a sentence and then bring it to an end'\n",
        "\n",
        "pattern = re.compile(r'\\d{3}.\\d{3}.\\d{4}')\n",
        "\n",
        "matches = pattern.finditer(text_to_search)\n",
        "\n",
        "for match in matches:\n",
        "  print(match)"
      ],
      "metadata": {
        "colab": {
          "base_uri": "https://localhost:8080/"
        },
        "id": "oaEcRkQPoAdH",
        "outputId": "d5175d85-cff7-45d4-8ede-9dcb86f91539"
      },
      "execution_count": null,
      "outputs": [
        {
          "output_type": "stream",
          "name": "stdout",
          "text": [
            "<re.Match object; span=(154, 166), match='321-555-4321'>\n",
            "<re.Match object; span=(167, 179), match='123.555.1234'>\n"
          ]
        }
      ]
    },
    {
      "cell_type": "markdown",
      "source": [
        "**Mr`\\`.?** - ? tells to match either 0 or 1 ."
      ],
      "metadata": {
        "id": "jN6Xe0JatBmk"
      }
    },
    {
      "cell_type": "code",
      "source": [
        "import re\n",
        "\n",
        "text_to_search = '''\n",
        "abcdefghijklmnopqrstuvwxyz\n",
        "ABCDEFGHIJKLMNOPQRSTUVWXYZ\n",
        "1234567890\n",
        "\n",
        "Ha HaHa\n",
        "\n",
        "Metacharacters(need to be escaped):\n",
        ". ^ $ * + ? { } [ ] \\ | ( )\n",
        "\n",
        "coreyms.com\n",
        "\n",
        "321-555-4321\n",
        "123.555.1234\n",
        "\n",
        "Mr. Schafer\n",
        "Mr Smith\n",
        "Ms Davis\n",
        "Mrs. Robinson\n",
        "Mr. T\n",
        "\n",
        "'''\n",
        "\n",
        "sentence = 'Start a sentence and then bring it to an end'\n",
        "\n",
        "pattern = re.compile(r'Mr\\.?')\n",
        "\n",
        "matches = pattern.finditer(text_to_search)\n",
        "\n",
        "for match in matches:\n",
        "  print(match)"
      ],
      "metadata": {
        "colab": {
          "base_uri": "https://localhost:8080/"
        },
        "id": "Ohgz8JQBtB68",
        "outputId": "f0073017-019c-4411-db11-87900dd586ee"
      },
      "execution_count": null,
      "outputs": [
        {
          "output_type": "stream",
          "name": "stdout",
          "text": [
            "<re.Match object; span=(181, 184), match='Mr.'>\n",
            "<re.Match object; span=(193, 195), match='Mr'>\n",
            "<re.Match object; span=(211, 213), match='Mr'>\n",
            "<re.Match object; span=(225, 228), match='Mr.'>\n"
          ]
        }
      ]
    },
    {
      "cell_type": "markdown",
      "source": [
        "**Mr`\\`.?\\s[A-Z]** - match Mr then with or without . followed by whitespace then one character between A-Z"
      ],
      "metadata": {
        "id": "wIyGXnyztmKi"
      }
    },
    {
      "cell_type": "code",
      "source": [
        "import re\n",
        "\n",
        "text_to_search = '''\n",
        "abcdefghijklmnopqrstuvwxyz\n",
        "ABCDEFGHIJKLMNOPQRSTUVWXYZ\n",
        "1234567890\n",
        "\n",
        "Ha HaHa\n",
        "\n",
        "Metacharacters(need to be escaped):\n",
        ". ^ $ * + ? { } [ ] \\ | ( )\n",
        "\n",
        "coreyms.com\n",
        "\n",
        "321-555-4321\n",
        "123.555.1234\n",
        "\n",
        "Mr. Schafer\n",
        "Mr Smith\n",
        "Ms Davis\n",
        "Mrs. Robinson\n",
        "Mr. T\n",
        "\n",
        "'''\n",
        "\n",
        "sentence = 'Start a sentence and then bring it to an end'\n",
        "\n",
        "pattern = re.compile(r'Mr\\.?\\s[A-Z]')\n",
        "\n",
        "matches = pattern.finditer(text_to_search)\n",
        "\n",
        "for match in matches:\n",
        "  print(match)"
      ],
      "metadata": {
        "colab": {
          "base_uri": "https://localhost:8080/"
        },
        "id": "rgC9r7jbtmcd",
        "outputId": "fce8359e-0708-42cb-f081-7e1ced095e57"
      },
      "execution_count": null,
      "outputs": [
        {
          "output_type": "stream",
          "name": "stdout",
          "text": [
            "<re.Match object; span=(181, 186), match='Mr. S'>\n",
            "<re.Match object; span=(193, 197), match='Mr S'>\n",
            "<re.Match object; span=(225, 230), match='Mr. T'>\n"
          ]
        }
      ]
    },
    {
      "cell_type": "markdown",
      "source": [
        "**Mr`\\`.?\\s[A-Z]\\w+** - after A-Z proceed with 1 or more word character"
      ],
      "metadata": {
        "id": "4xqZYdphuG2W"
      }
    },
    {
      "cell_type": "code",
      "source": [
        "import re\n",
        "\n",
        "text_to_search = '''\n",
        "abcdefghijklmnopqrstuvwxyz\n",
        "ABCDEFGHIJKLMNOPQRSTUVWXYZ\n",
        "1234567890\n",
        "\n",
        "Ha HaHa\n",
        "\n",
        "Metacharacters(need to be escaped):\n",
        ". ^ $ * + ? { } [ ] \\ | ( )\n",
        "\n",
        "coreyms.com\n",
        "\n",
        "321-555-4321\n",
        "123.555.1234\n",
        "\n",
        "Mr. Schafer\n",
        "Mr Smith\n",
        "Ms Davis\n",
        "Mrs. Robinson\n",
        "Mr. T\n",
        "\n",
        "'''\n",
        "\n",
        "sentence = 'Start a sentence and then bring it to an end'\n",
        "\n",
        "pattern = re.compile(r'Mr\\.?\\s[A-Z]\\w+')\n",
        "\n",
        "matches = pattern.finditer(text_to_search)\n",
        "\n",
        "for match in matches:\n",
        "  print(match)"
      ],
      "metadata": {
        "colab": {
          "base_uri": "https://localhost:8080/"
        },
        "id": "6TZfsWdouHOW",
        "outputId": "86eeebc8-bc01-412b-cdcb-030a72f2a484"
      },
      "execution_count": null,
      "outputs": [
        {
          "output_type": "stream",
          "name": "stdout",
          "text": [
            "<re.Match object; span=(181, 192), match='Mr. Schafer'>\n",
            "<re.Match object; span=(193, 201), match='Mr Smith'>\n"
          ]
        }
      ]
    },
    {
      "cell_type": "markdown",
      "source": [
        "**Mr`\\`.?\\s[A-Z]\\w`*`** - after A-Z proceed with 0 or more word character"
      ],
      "metadata": {
        "id": "Vfsw0VUjurMd"
      }
    },
    {
      "cell_type": "code",
      "source": [
        "import re\n",
        "\n",
        "text_to_search = '''\n",
        "abcdefghijklmnopqrstuvwxyz\n",
        "ABCDEFGHIJKLMNOPQRSTUVWXYZ\n",
        "1234567890\n",
        "\n",
        "Ha HaHa\n",
        "\n",
        "Metacharacters(need to be escaped):\n",
        ". ^ $ * + ? { } [ ] \\ | ( )\n",
        "\n",
        "coreyms.com\n",
        "\n",
        "321-555-4321\n",
        "123.555.1234\n",
        "\n",
        "Mr. Schafer\n",
        "Mr Smith\n",
        "Ms Davis\n",
        "Mrs. Robinson\n",
        "Mr. T\n",
        "\n",
        "'''\n",
        "\n",
        "sentence = 'Start a sentence and then bring it to an end'\n",
        "\n",
        "pattern = re.compile(r'Mr\\.?\\s[A-Z]\\w*')\n",
        "\n",
        "matches = pattern.finditer(text_to_search)\n",
        "\n",
        "for match in matches:\n",
        "  print(match)"
      ],
      "metadata": {
        "colab": {
          "base_uri": "https://localhost:8080/"
        },
        "id": "GFAChtngureX",
        "outputId": "c7021674-813d-4776-afff-924f291e4cd9"
      },
      "execution_count": null,
      "outputs": [
        {
          "output_type": "stream",
          "name": "stdout",
          "text": [
            "<re.Match object; span=(181, 192), match='Mr. Schafer'>\n",
            "<re.Match object; span=(193, 201), match='Mr Smith'>\n",
            "<re.Match object; span=(225, 230), match='Mr. T'>\n"
          ]
        }
      ]
    },
    {
      "cell_type": "markdown",
      "source": [
        "**( | )** group allow to match several different pattern"
      ],
      "metadata": {
        "id": "krupUAK5vtnj"
      }
    },
    {
      "cell_type": "code",
      "source": [
        "import re\n",
        "\n",
        "text_to_search = '''\n",
        "abcdefghijklmnopqrstuvwxyz\n",
        "ABCDEFGHIJKLMNOPQRSTUVWXYZ\n",
        "1234567890\n",
        "\n",
        "Ha HaHa\n",
        "\n",
        "Metacharacters(need to be escaped):\n",
        ". ^ $ * + ? { } [ ] \\ | ( )\n",
        "\n",
        "coreyms.com\n",
        "\n",
        "321-555-4321\n",
        "123.555.1234\n",
        "\n",
        "Mr. Schafer\n",
        "Mr Smith\n",
        "Ms Davis\n",
        "Mrs. Robinson\n",
        "Mr. T\n",
        "\n",
        "'''\n",
        "\n",
        "sentence = 'Start a sentence and then bring it to an end'\n",
        "\n",
        "pattern = re.compile(r'M(r|s|rs)\\.?\\s[A-Z]\\w*')\n",
        "#pattern = re.compile(r'(Mr|Ms|Mrs)\\.?\\s[A-Z]\\w*')\n",
        "#| means or\n",
        "\n",
        "matches = pattern.finditer(text_to_search)\n",
        "\n",
        "for match in matches:\n",
        "  print(match)"
      ],
      "metadata": {
        "colab": {
          "base_uri": "https://localhost:8080/"
        },
        "id": "XoKAHnVxv1cx",
        "outputId": "db1120a1-e903-4422-fd6c-3431a806f7bf"
      },
      "execution_count": null,
      "outputs": [
        {
          "output_type": "stream",
          "name": "stdout",
          "text": [
            "<re.Match object; span=(181, 192), match='Mr. Schafer'>\n",
            "<re.Match object; span=(193, 201), match='Mr Smith'>\n",
            "<re.Match object; span=(202, 210), match='Ms Davis'>\n",
            "<re.Match object; span=(211, 224), match='Mrs. Robinson'>\n",
            "<re.Match object; span=(225, 230), match='Mr. T'>\n"
          ]
        }
      ]
    },
    {
      "cell_type": "markdown",
      "source": [
        "**example regex implementation**\n"
      ],
      "metadata": {
        "id": "aHVeHeu1wiH1"
      }
    },
    {
      "cell_type": "code",
      "source": [
        "import re\n",
        "\n",
        "emails = '''\n",
        "CoreyMSchafer@gmail.com\n",
        "corey.schafer@university.edu\n",
        "corey-321-schafer@my-work.net\n",
        "'''\n",
        "pattern = re.compile(r'[a-zA-Z]+@[a-zA-Z]+\\.com')\n",
        "\n",
        "matches = pattern.finditer(emails)\n",
        "\n",
        "for match in matches:\n",
        "  print(match)"
      ],
      "metadata": {
        "id": "Wht4dGvowivp",
        "outputId": "50c8ecbb-ba76-43f5-e873-14b448f588b0",
        "colab": {
          "base_uri": "https://localhost:8080/"
        }
      },
      "execution_count": 22,
      "outputs": [
        {
          "output_type": "stream",
          "name": "stdout",
          "text": [
            "<re.Match object; span=(1, 24), match='CoreyMSchafer@gmail.com'>\n"
          ]
        }
      ]
    },
    {
      "cell_type": "code",
      "source": [
        "import re\n",
        "\n",
        "emails = '''\n",
        "CoreyMSchafer@gmail.com\n",
        "corey.schafer@university.edu\n",
        "corey-321-schafer@my-work.net\n",
        "'''\n",
        "pattern = re.compile(r'[a-z]+\\.[a-z]+@[a-z]+\\.edu')\n",
        "\n",
        "matches = pattern.finditer(emails)\n",
        "\n",
        "for match in matches:\n",
        "  print(match)"
      ],
      "metadata": {
        "colab": {
          "base_uri": "https://localhost:8080/"
        },
        "id": "AwY2gwbxyTc7",
        "outputId": "67006b3a-1520-4bda-99d7-2654ab11db67"
      },
      "execution_count": 23,
      "outputs": [
        {
          "output_type": "stream",
          "name": "stdout",
          "text": [
            "<re.Match object; span=(25, 53), match='corey.schafer@university.edu'>\n"
          ]
        }
      ]
    },
    {
      "cell_type": "code",
      "source": [
        "import re\n",
        "\n",
        "emails = '''\n",
        "CoreyMSchafer@gmail.com\n",
        "corey.schafer@university.edu\n",
        "corey-321-schafer@my-work.net\n",
        "'''\n",
        "pattern = re.compile(r'[a-z]+\\-\\d+\\-[a-z]+\\@.+')\n",
        "\n",
        "matches = pattern.finditer(emails)\n",
        "\n",
        "for match in matches:\n",
        "  print(match)"
      ],
      "metadata": {
        "colab": {
          "base_uri": "https://localhost:8080/"
        },
        "id": "t3x9nrs1ysLA",
        "outputId": "8a7b2a2f-7cb1-45a9-e4ef-b0040fe07c42"
      },
      "execution_count": 25,
      "outputs": [
        {
          "output_type": "stream",
          "name": "stdout",
          "text": [
            "<re.Match object; span=(54, 83), match='corey-321-schafer@my-work.net'>\n"
          ]
        }
      ]
    },
    {
      "cell_type": "code",
      "source": [
        "import re\n",
        "\n",
        "emails = '''\n",
        "CoreyMSchafer@gmail.com\n",
        "corey.schafer@university.edu\n",
        "corey-321-schafer@my-work.net\n",
        "'''\n",
        "pattern = re.compile(r'[a-zA-Z].+\\@.+')\n",
        "\n",
        "matches = pattern.finditer(emails)\n",
        "\n",
        "for match in matches:\n",
        "  print(match)"
      ],
      "metadata": {
        "colab": {
          "base_uri": "https://localhost:8080/"
        },
        "id": "z_7NkXGpzQ9D",
        "outputId": "eee6ce75-cbf0-4db7-c377-1fb69acc962f"
      },
      "execution_count": 27,
      "outputs": [
        {
          "output_type": "stream",
          "name": "stdout",
          "text": [
            "<re.Match object; span=(1, 24), match='CoreyMSchafer@gmail.com'>\n",
            "<re.Match object; span=(25, 53), match='corey.schafer@university.edu'>\n",
            "<re.Match object; span=(54, 83), match='corey-321-schafer@my-work.net'>\n"
          ]
        }
      ]
    },
    {
      "cell_type": "code",
      "source": [
        "import re\n",
        "\n",
        "emails = '''\n",
        "CoreyMSchafer@gmail.com\n",
        "corey.schafer@university.edu\n",
        "corey-321-schafer@my-work.net\n",
        "'''\n",
        "# - is called hyphen\n",
        "#pattern = re.compile(r'[a-zA-Z.]+@[a-zA-Z]+\\.(com|edu)')    #match 1,2 email\n",
        "pattern = re.compile(r'[a-zA-Z0-9.-]+@[a-zA-Z-]+\\.(com|edu|net)') #match 1,2,3 email\n",
        "\n",
        "matches = pattern.finditer(emails)\n",
        "\n",
        "for match in matches:\n",
        "  print(match)"
      ],
      "metadata": {
        "colab": {
          "base_uri": "https://localhost:8080/"
        },
        "id": "XcHXTJnyzzh0",
        "outputId": "f409e0a3-5791-4444-efb9-14c9229fec75"
      },
      "execution_count": 28,
      "outputs": [
        {
          "output_type": "stream",
          "name": "stdout",
          "text": [
            "<re.Match object; span=(1, 24), match='CoreyMSchafer@gmail.com'>\n",
            "<re.Match object; span=(25, 53), match='corey.schafer@university.edu'>\n",
            "<re.Match object; span=(54, 83), match='corey-321-schafer@my-work.net'>\n"
          ]
        }
      ]
    },
    {
      "cell_type": "code",
      "source": [
        "import re\n",
        "\n",
        "emails = '''\n",
        "CoreyMSchafer@gmail.com\n",
        "corey.schafer@university.edu\n",
        "corey-321-schafer@my-work.net\n",
        "'''\n",
        "pattern = re.compile(r'[a-zA-Z0-9_.+-]+@[a-zA-Z0-9-]+\\.[a-zA-Z0-9-.]+')\n",
        "#[a-zA-Z0-9_.+-]+ character set matches all lower case, capital, digits, matching underscore, period, plus or hyphen. The plus sign matches 0 or more any of those characters\n",
        "#@[a-zA-Z0-9-]+ matches all the way till at symbol then matches any lower case, upper case, digit or hyphen. The plus sign matches 1 or more of these charcaters\n",
        "#\\.[a-zA-Z0-9-.]+ matches till period which escaped with backslash, followed by character set with any lower, upper case, digit, hyphen or period. The plus sign matches 1 or more of these characters\n",
        "\n",
        "\n",
        "matches = pattern.finditer(emails)\n",
        "\n",
        "for match in matches:\n",
        "  print(match)"
      ],
      "metadata": {
        "colab": {
          "base_uri": "https://localhost:8080/"
        },
        "id": "Ivmb3jvx1ayl",
        "outputId": "2d52f86d-704f-41ce-cd89-2487066eddb6"
      },
      "execution_count": 31,
      "outputs": [
        {
          "output_type": "stream",
          "name": "stdout",
          "text": [
            "<re.Match object; span=(1, 24), match='CoreyMSchafer@gmail.com'>\n",
            "<re.Match object; span=(25, 53), match='corey.schafer@university.edu'>\n",
            "<re.Match object; span=(54, 83), match='corey-321-schafer@my-work.net'>\n"
          ]
        }
      ]
    },
    {
      "cell_type": "markdown",
      "source": [
        "capture information from group"
      ],
      "metadata": {
        "id": "hXToTXiH3dX3"
      }
    },
    {
      "cell_type": "code",
      "source": [
        "import re\n",
        "\n",
        "urls = '''\n",
        "https://www.google.com\n",
        "http://coreyms.com\n",
        "https://youtube.com\n",
        "https://www.nasa.gov\n",
        "'''\n",
        "\n",
        "pattern = re.compile(r'https?://(www\\.)?(\\w+)(\\.\\w+)')\n",
        "#option 1 https?://(www\\.)?(\\w+)(\\.\\w+)\n",
        "#group (1) https?://(www\\.)? -> http then s which is 0 or more followed by :// then group of www escape period which is 0 or more\n",
        "#group (2) (\\w+) -> domain : any word character that may be one or more\n",
        "#group (3) (\\.\\w+) -> top level domain : escape period then any word character that may be one or more\n",
        "\n",
        "#option 2 https?://(www\\.)?\\w+\\.(com|gov)\n",
        "\n",
        "matches = pattern.finditer(urls)\n",
        "\n",
        "for match in matches:\n",
        "  print(match.group(1))\n",
        "  #group (0) is overall url"
      ],
      "metadata": {
        "colab": {
          "base_uri": "https://localhost:8080/"
        },
        "id": "RqZpFLdq3fLA",
        "outputId": "441364f0-0250-400a-dd2e-e79b671c2d8b"
      },
      "execution_count": 44,
      "outputs": [
        {
          "output_type": "stream",
          "name": "stdout",
          "text": [
            "www.\n",
            "None\n",
            "None\n",
            "www.\n"
          ]
        }
      ]
    },
    {
      "cell_type": "code",
      "source": [
        "import re\n",
        "\n",
        "urls = '''\n",
        "https://www.google.com\n",
        "http://coreyms.com\n",
        "https://youtube.com\n",
        "https://www.nasa.gov\n",
        "'''\n",
        "\n",
        "pattern = re.compile(r'https?://(www\\.)?(\\w+)(\\.\\w+)')\n",
        "#option 1 https?://(www\\.)?(\\w+)(\\.\\w+)\n",
        "#group (1) https?://(www\\.)? -> http then s which is 0 or more followed by :// then group of www escape period which is 0 or more\n",
        "#group (2) (\\w+) -> domain : any word character that may be one or more\n",
        "#group (3) (\\.\\w+) -> top level domain : escape period then any word character that may be one or more\n",
        "\n",
        "#option 2 https?://(www\\.)?\\w+\\.(com|gov)\n",
        "\n",
        "matches = pattern.finditer(urls)\n",
        "\n",
        "for match in matches:\n",
        "  print(match.group(2))\n",
        "  #group (0) is overall url"
      ],
      "metadata": {
        "colab": {
          "base_uri": "https://localhost:8080/"
        },
        "id": "MlUOyYHg8mjh",
        "outputId": "8f8b11ba-14a1-418f-a3e0-68c0dd7a62ab"
      },
      "execution_count": 45,
      "outputs": [
        {
          "output_type": "stream",
          "name": "stdout",
          "text": [
            "google\n",
            "coreyms\n",
            "youtube\n",
            "nasa\n"
          ]
        }
      ]
    },
    {
      "cell_type": "code",
      "source": [
        "import re\n",
        "\n",
        "urls = '''\n",
        "https://www.google.com\n",
        "http://coreyms.com\n",
        "https://youtube.com\n",
        "https://www.nasa.gov\n",
        "'''\n",
        "\n",
        "pattern = re.compile(r'https?://(www\\.)?(\\w+)(\\.\\w+)')\n",
        "#option 1 https?://(www\\.)?(\\w+)(\\.\\w+)\n",
        "#group (1) https?://(www\\.)? -> http then s which is 0 or more followed by :// then group of www escape period which is 0 or more\n",
        "#group (2) (\\w+) -> domain : any word character that may be one or more\n",
        "#group (3) (\\.\\w+) -> top level domain : escape period then any word character that may be one or more\n",
        "\n",
        "#option 2 https?://(www\\.)?\\w+\\.(com|gov)\n",
        "\n",
        "matches = pattern.finditer(urls)\n",
        "\n",
        "for match in matches:\n",
        "  print(match.group(3))\n",
        "  #group (0) is overall url"
      ],
      "metadata": {
        "colab": {
          "base_uri": "https://localhost:8080/"
        },
        "id": "h_dVmr3a8pJM",
        "outputId": "60d82b9a-68db-49c7-c166-b0e813208080"
      },
      "execution_count": 46,
      "outputs": [
        {
          "output_type": "stream",
          "name": "stdout",
          "text": [
            ".com\n",
            ".com\n",
            ".com\n",
            ".gov\n"
          ]
        }
      ]
    },
    {
      "cell_type": "code",
      "source": [
        "import re\n",
        "\n",
        "urls = '''\n",
        "https://www.google.com\n",
        "http://coreyms.com\n",
        "https://youtube.com\n",
        "https://www.nasa.gov\n",
        "'''\n",
        "\n",
        "#these pattern matches all the urls\n",
        "pattern = re.compile(r'https?://(www\\.)?(\\w+)(\\.\\w+)')\n",
        "#option 1 https?://(www\\.)?(\\w+)(\\.\\w+)\n",
        "#group (1) https?://(www\\.)? -> http then s which is 0 or more followed by :// then group of www escape period which is 0 or more\n",
        "#group (2) (\\w+) -> domain : any word character that may be one or more\n",
        "#group (3) (\\.\\w+) -> top level domain : escape period then any word character that may be one or more\n",
        "\n",
        "#using that pattern to substitute out group 2 and 3\n",
        "#substitution that we want to use are back references that reference these groups\n",
        "#backslash then number of group\n",
        "subbed_urls = pattern.sub(r'\\2\\3', urls)\n",
        "\n",
        "print(subbed_urls)\n"
      ],
      "metadata": {
        "colab": {
          "base_uri": "https://localhost:8080/"
        },
        "id": "iIHgXZZV8tnG",
        "outputId": "f875cc3e-51a7-408d-d089-44d8e7fba354"
      },
      "execution_count": 48,
      "outputs": [
        {
          "output_type": "stream",
          "name": "stdout",
          "text": [
            "\n",
            "google.com\n",
            "coreyms.com\n",
            "youtube.com\n",
            "nasa.gov\n",
            "\n"
          ]
        }
      ]
    },
    {
      "cell_type": "code",
      "source": [
        "import re\n",
        "\n",
        "text_to_search = '''\n",
        "abcdefghijklmnopqrstuvwxyz\n",
        "ABCDEFGHIJKLMNOPQRSTUVWXYZ\n",
        "1234567890\n",
        "\n",
        "Ha HaHa\n",
        "\n",
        "Metacharacters(need to be escaped):\n",
        ". ^ $ * + ? { } [ ] \\ | ( )\n",
        "\n",
        "coreyms.com\n",
        "\n",
        "321-555-4321\n",
        "123.555.1234\n",
        "\n",
        "Mr. Schafer\n",
        "Mr Smith\n",
        "Ms Davis\n",
        "Mrs. Robinson\n",
        "Mr. T\n",
        "\n",
        "'''\n",
        "\n",
        "sentence = 'Start a sentence and then bring it to an end'\n",
        "\n",
        "pattern = re.compile(r'(Mr|Ms|Mrs)\\.?\\s[A-Z]\\w*')\n",
        "\n",
        "matches = pattern.findall(text_to_search)\n",
        "#.finditer shows all matches and its location\n",
        "\n",
        "#other method\n",
        "#.findall return matches in string\n",
        "\n",
        "for match in matches:\n",
        "  print(match)"
      ],
      "metadata": {
        "colab": {
          "base_uri": "https://localhost:8080/"
        },
        "id": "u6xg67EV9nHc",
        "outputId": "7b94ec7d-756e-4d10-e4c3-b4588f57c4fb"
      },
      "execution_count": 50,
      "outputs": [
        {
          "output_type": "stream",
          "name": "stdout",
          "text": [
            "Mr\n",
            "Mr\n",
            "Ms\n",
            "Mrs\n",
            "Mr\n"
          ]
        }
      ]
    },
    {
      "cell_type": "code",
      "source": [
        "import re\n",
        "\n",
        "text_to_search = '''\n",
        "abcdefghijklmnopqrstuvwxyz\n",
        "ABCDEFGHIJKLMNOPQRSTUVWXYZ\n",
        "1234567890\n",
        "\n",
        "Ha HaHa\n",
        "\n",
        "Metacharacters(need to be escaped):\n",
        ". ^ $ * + ? { } [ ] \\ | ( )\n",
        "\n",
        "coreyms.com\n",
        "\n",
        "321-555-4321\n",
        "123.555.1234\n",
        "123*555*1234\n",
        "800-343-4444\n",
        "900-432-1567\n",
        "\n",
        "Mr. Schafer\n",
        "Mr Smith\n",
        "Ms Davis\n",
        "Mrs. Robinson\n",
        "Mr. T\n",
        "\n",
        "'''\n",
        "\n",
        "sentence = 'Start a sentence and then bring it to an end'\n",
        "\n",
        "pattern = re.compile(r'\\d{3}.\\d{3}.\\d{4}')\n",
        "\n",
        "matches = pattern.findall(text_to_search)\n",
        "#.findall return matches in string\n",
        "\n",
        "for match in matches:\n",
        "  print(match)"
      ],
      "metadata": {
        "colab": {
          "base_uri": "https://localhost:8080/"
        },
        "id": "fonpnRYQ-Ljo",
        "outputId": "087e6074-91a5-4e86-ad5d-f4e709f21fee"
      },
      "execution_count": 51,
      "outputs": [
        {
          "output_type": "stream",
          "name": "stdout",
          "text": [
            "321-555-4321\n",
            "123.555.1234\n",
            "123*555*1234\n",
            "800-343-4444\n",
            "900-432-1567\n"
          ]
        }
      ]
    },
    {
      "cell_type": "code",
      "source": [
        "import re\n",
        "\n",
        "text_to_search = '''\n",
        "abcdefghijklmnopqrstuvwxyz\n",
        "ABCDEFGHIJKLMNOPQRSTUVWXYZ\n",
        "1234567890\n",
        "\n",
        "Ha HaHa\n",
        "\n",
        "Metacharacters(need to be escaped):\n",
        ". ^ $ * + ? { } [ ] \\ | ( )\n",
        "\n",
        "coreyms.com\n",
        "\n",
        "321-555-4321\n",
        "123.555.1234\n",
        "123*555*1234\n",
        "800-343-4444\n",
        "900-432-1567\n",
        "\n",
        "Mr. Schafer\n",
        "Mr Smith\n",
        "Ms Davis\n",
        "Mrs. Robinson\n",
        "Mr. T\n",
        "\n",
        "'''\n",
        "\n",
        "sentence = 'Start a sentence and then bring it to an end'\n",
        "\n",
        "pattern = re.compile(r'Start')\n",
        "\n",
        "matches = pattern.match(sentence)\n",
        "#.match returns first match of the string\n",
        "\n",
        "print(matches)"
      ],
      "metadata": {
        "colab": {
          "base_uri": "https://localhost:8080/"
        },
        "id": "nGKy5407-oKy",
        "outputId": "c0c2b81e-c33b-451e-c5b2-0836c3c34c64"
      },
      "execution_count": 54,
      "outputs": [
        {
          "output_type": "stream",
          "name": "stdout",
          "text": [
            "<re.Match object; span=(0, 5), match='Start'>\n"
          ]
        }
      ]
    },
    {
      "cell_type": "code",
      "source": [
        "import re\n",
        "\n",
        "text_to_search = '''\n",
        "abcdefghijklmnopqrstuvwxyz\n",
        "ABCDEFGHIJKLMNOPQRSTUVWXYZ\n",
        "1234567890\n",
        "\n",
        "Ha HaHa\n",
        "\n",
        "Metacharacters(need to be escaped):\n",
        ". ^ $ * + ? { } [ ] \\ | ( )\n",
        "\n",
        "coreyms.com\n",
        "\n",
        "321-555-4321\n",
        "123.555.1234\n",
        "123*555*1234\n",
        "800-343-4444\n",
        "900-432-1567\n",
        "\n",
        "Mr. Schafer\n",
        "Mr Smith\n",
        "Ms Davis\n",
        "Mrs. Robinson\n",
        "Mr. T\n",
        "\n",
        "'''\n",
        "\n",
        "sentence = 'Start a sentence and then bring it to an end'\n",
        "\n",
        "pattern = re.compile(r'sentence')\n",
        "\n",
        "matches = pattern.match(sentence)\n",
        "#.match returns first match of the string\n",
        "\n",
        "print(matches)"
      ],
      "metadata": {
        "colab": {
          "base_uri": "https://localhost:8080/"
        },
        "id": "EHlW0yMl_RpD",
        "outputId": "071f4915-93f1-4e0d-bcb5-07b986444ec6"
      },
      "execution_count": 55,
      "outputs": [
        {
          "output_type": "stream",
          "name": "stdout",
          "text": [
            "None\n"
          ]
        }
      ]
    },
    {
      "cell_type": "code",
      "source": [
        "import re\n",
        "\n",
        "text_to_search = '''\n",
        "abcdefghijklmnopqrstuvwxyz\n",
        "ABCDEFGHIJKLMNOPQRSTUVWXYZ\n",
        "1234567890\n",
        "\n",
        "Ha HaHa\n",
        "\n",
        "Metacharacters(need to be escaped):\n",
        ". ^ $ * + ? { } [ ] \\ | ( )\n",
        "\n",
        "coreyms.com\n",
        "\n",
        "321-555-4321\n",
        "123.555.1234\n",
        "123*555*1234\n",
        "800-343-4444\n",
        "900-432-1567\n",
        "\n",
        "Mr. Schafer\n",
        "Mr Smith\n",
        "Ms Davis\n",
        "Mrs. Robinson\n",
        "Mr. T\n",
        "\n",
        "'''\n",
        "\n",
        "sentence = 'Start a sentence and then bring it to an end'\n",
        "\n",
        "pattern = re.compile(r'sentence')\n",
        "\n",
        "matches = pattern.search(sentence)\n",
        "#.search search entire string\n",
        "#if not exist in string will return 'none'\n",
        "\n",
        "print(matches)"
      ],
      "metadata": {
        "colab": {
          "base_uri": "https://localhost:8080/"
        },
        "id": "WXuFmBs-_b0i",
        "outputId": "b8e2532f-c4f7-4f66-afd3-fed92331eefc"
      },
      "execution_count": 56,
      "outputs": [
        {
          "output_type": "stream",
          "name": "stdout",
          "text": [
            "<re.Match object; span=(8, 16), match='sentence'>\n"
          ]
        }
      ]
    },
    {
      "cell_type": "code",
      "source": [
        "import re\n",
        "\n",
        "text_to_search = '''\n",
        "abcdefghijklmnopqrstuvwxyz\n",
        "ABCDEFGHIJKLMNOPQRSTUVWXYZ\n",
        "1234567890\n",
        "\n",
        "Ha HaHa\n",
        "\n",
        "Metacharacters(need to be escaped):\n",
        ". ^ $ * + ? { } [ ] \\ | ( )\n",
        "\n",
        "coreyms.com\n",
        "\n",
        "321-555-4321\n",
        "123.555.1234\n",
        "123*555*1234\n",
        "800-343-4444\n",
        "900-432-1567\n",
        "\n",
        "Mr. Schafer\n",
        "Mr Smith\n",
        "Ms Davis\n",
        "Mrs. Robinson\n",
        "Mr. T\n",
        "\n",
        "'''\n",
        "\n",
        "sentence = 'Start a sentence and then bring it to an end'\n",
        "\n",
        "pattern = re.compile(r'start', re.IGNORECASE)\n",
        "#if multiple cases [Ss][Tt][Aa]\n",
        "#so instead use flad re.IGNORECASE or re.I\n",
        "\n",
        "matches = pattern.search(sentence)\n",
        "\n",
        "print(matches)"
      ],
      "metadata": {
        "colab": {
          "base_uri": "https://localhost:8080/"
        },
        "id": "ehYOxBLI_xmR",
        "outputId": "d9bdc467-2303-44a5-959b-5f188389cea6"
      },
      "execution_count": 57,
      "outputs": [
        {
          "output_type": "stream",
          "name": "stdout",
          "text": [
            "<re.Match object; span=(0, 5), match='Start'>\n"
          ]
        }
      ]
    }
  ]
}