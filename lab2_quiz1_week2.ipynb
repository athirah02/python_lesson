{
  "nbformat": 4,
  "nbformat_minor": 0,
  "metadata": {
    "colab": {
      "provenance": [],
      "authorship_tag": "ABX9TyNc00uDGPEzhcjN+zjVl4qQ",
      "include_colab_link": true
    },
    "kernelspec": {
      "name": "python3",
      "display_name": "Python 3"
    },
    "language_info": {
      "name": "python"
    }
  },
  "cells": [
    {
      "cell_type": "markdown",
      "metadata": {
        "id": "view-in-github",
        "colab_type": "text"
      },
      "source": [
        "<a href=\"https://colab.research.google.com/github/athirah02/python_lesson/blob/main/lab2_quiz1_week2.ipynb\" target=\"_parent\"><img src=\"https://colab.research.google.com/assets/colab-badge.svg\" alt=\"Open In Colab\"/></a>"
      ]
    },
    {
      "cell_type": "code",
      "execution_count": 15,
      "metadata": {
        "colab": {
          "base_uri": "https://localhost:8080/"
        },
        "id": "m1fz12I8Ly3i",
        "outputId": "500f8b04-0a91-4c3f-9fa7-15f8a1a88221"
      },
      "outputs": [
        {
          "output_type": "stream",
          "name": "stdout",
          "text": [
            "kiwi\n",
            "['banana']\n",
            "['apple', 'banana', 'kiwi']\n",
            "['banana', 'kiwi']\n",
            "['apple', 'orange', 'kiwi', 'cherry']\n",
            "['apple', 'berry', 'melon', 'kiwi', 'cherry']\n",
            "----\n",
            "['apple', 'berry', 'melon', 'kiwi', 'cherry']\n",
            "['apple', 'berry', 'melon', 'kiwi', 'cherry']\n",
            "['apple', 'berry', 'melon', 'kiwi', 'cherry']\n",
            "['apple', 'berry', 'melon', 'kiwi', 'cherry']\n",
            "['apple', 'berry', 'melon', 'kiwi', 'cherry']\n",
            "----\n",
            "yes\n",
            "----\n",
            "5\n",
            "----\n",
            "['apple', 'berry', 'melon', 'kiwi', 'cherry', 'orange']\n",
            "----\n",
            "['apple', 'berry', 'banana', 'melon', 'kiwi', 'cherry', 'orange']\n",
            "----\n",
            "['apple', 'berry', 'banana', 'melon', 'kiwi', 'orange']\n",
            "----\n",
            "['apple', 'berry', 'banana', 'melon', 'kiwi']\n",
            "----\n",
            "['apple', 'berry', 'melon', 'kiwi']\n",
            "----\n",
            "[]\n",
            "['apple', 'banana', 'kiwi', 'cherry']\n",
            "----\n",
            "['1', '2']\n",
            "----\n",
            "['1', '2']\n",
            "----\n",
            "['1', '2', '2']\n"
          ]
        }
      ],
      "source": [
        "list = ['apple', 'banana', 'kiwi', 'cherry']\n",
        "#0 1 2 3\n",
        "#-4 -3 -2 -1\n",
        "\n",
        "print(list[2])\n",
        "print(list[1:2])\n",
        "print(list[:3])\n",
        "print(list[-3:-1])\n",
        "\n",
        "#change list\n",
        "list[1] = 'orange'\n",
        "print(list)\n",
        "\n",
        "#change range\n",
        "list[1:2] =['berry', 'melon']\n",
        "print(list)\n",
        "\n",
        "print('----')\n",
        "for c in list:\n",
        "  print(list)\n",
        "\n",
        "print('----')\n",
        "if 'apple' in list:\n",
        "  print('yes')\n",
        "\n",
        "print('----')\n",
        "print(len(list))\n",
        "\n",
        "print('----')\n",
        "#add new element at the end of the list\n",
        "list.append('orange')\n",
        "print(list)\n",
        "\n",
        "print('----')\n",
        "#add at any position specified\n",
        "list.insert(2, 'banana')\n",
        "print(list)\n",
        "\n",
        "print('----')\n",
        "list.remove('cherry')\n",
        "print(list)\n",
        "\n",
        "print('----')\n",
        "#remove specified index or last item\n",
        "list.pop()\n",
        "print(list)\n",
        "\n",
        "print('----')\n",
        "#delete specified index\n",
        "del list[2]\n",
        "print(list)\n",
        "\n",
        "print('----')\n",
        "#clear empties the list\n",
        "list.clear()\n",
        "print(list)\n",
        "\n",
        "\n",
        "#copy list\n",
        "list = ['apple', 'banana', 'kiwi', 'cherry']\n",
        "copy_list = list.copy()\n",
        "print(copy_list)\n",
        "\n",
        "print('----')\n",
        "list1 = ['1']\n",
        "list2 = ['2']\n",
        "list3 = list1 + list2\n",
        "print(list3)\n",
        "\n",
        "print('----')\n",
        "for x in list2:\n",
        "  list1.append(x)\n",
        "print(list1)\n",
        "\n",
        "print('----')\n",
        "list1.extend(list2)\n",
        "print(list1)\n",
        "\n",
        "\n"
      ]
    },
    {
      "cell_type": "code",
      "source": [
        "list = ['apple', 'banana', 'kiwi', 'cherry']\n",
        "print(list[1])"
      ],
      "metadata": {
        "colab": {
          "base_uri": "https://localhost:8080/"
        },
        "id": "-R0NouHwR5oo",
        "outputId": "f6ed52c0-ec15-4370-d178-e78088efa237"
      },
      "execution_count": 16,
      "outputs": [
        {
          "output_type": "stream",
          "name": "stdout",
          "text": [
            "banana\n"
          ]
        }
      ]
    },
    {
      "cell_type": "code",
      "source": [
        "list = ['apple', 'banana', 'kiwi', 'cherry']\n",
        "list[0] = 'kiwi'\n",
        "print(list)"
      ],
      "metadata": {
        "colab": {
          "base_uri": "https://localhost:8080/"
        },
        "id": "6285xRqoSCz5",
        "outputId": "c842cd9b-ab5d-4526-bc13-5c88219014af"
      },
      "execution_count": 17,
      "outputs": [
        {
          "output_type": "stream",
          "name": "stdout",
          "text": [
            "['kiwi', 'banana', 'kiwi', 'cherry']\n"
          ]
        }
      ]
    },
    {
      "cell_type": "code",
      "source": [
        "#3,4,5 element\n",
        "fruits = ['apple', 'banana', 'kiwi', 'cherry', 'berry', 'pop']\n",
        "print(fruits[2:5])\n"
      ],
      "metadata": {
        "colab": {
          "base_uri": "https://localhost:8080/"
        },
        "id": "Q7lhE7vkSUdD",
        "outputId": "719e3aec-16e0-48b4-f99c-e676f21a0cb6"
      },
      "execution_count": 19,
      "outputs": [
        {
          "output_type": "stream",
          "name": "stdout",
          "text": [
            "['kiwi', 'cherry', 'berry']\n"
          ]
        }
      ]
    },
    {
      "cell_type": "markdown",
      "source": [
        "**tuple**"
      ],
      "metadata": {
        "id": "V_2x74WAS2jn"
      }
    },
    {
      "cell_type": "code",
      "source": [
        "tup = ('apple', 'banana', 'berry', 'orange')\n",
        "print(tup)\n",
        "print(tup[-1])\n",
        "print(tup[1:3])\n",
        "print(tup)\n",
        "\n",
        "print('update tuple')\n",
        "\n",
        "print('loop')\n",
        "for z in tup:\n",
        "  print(z)\n",
        "\n",
        "print('\\n')\n",
        "for i in range(len(tup)):\n",
        "  print(tup[i])\n"
      ],
      "metadata": {
        "colab": {
          "base_uri": "https://localhost:8080/"
        },
        "id": "_4JsPVHkS31o",
        "outputId": "749bde51-1aa8-4ba2-f339-58abe0fd8b0f"
      },
      "execution_count": 29,
      "outputs": [
        {
          "output_type": "stream",
          "name": "stdout",
          "text": [
            "('apple', 'banana', 'berry', 'orange')\n",
            "orange\n",
            "('banana', 'berry')\n",
            "('apple', 'banana', 'berry', 'orange')\n",
            "update tuple\n",
            "loop\n",
            "apple\n",
            "banana\n",
            "berry\n",
            "orange\n",
            "\n",
            "\n",
            "apple\n",
            "banana\n",
            "berry\n",
            "orange\n"
          ]
        }
      ]
    },
    {
      "cell_type": "markdown",
      "source": [
        "# **Quiz**\n",
        "\n"
      ],
      "metadata": {
        "id": "xKUpCnZcT_HK"
      }
    },
    {
      "cell_type": "markdown",
      "source": [
        "**Question 1**"
      ],
      "metadata": {
        "id": "N9Oe0djHZS8X"
      }
    },
    {
      "cell_type": "markdown",
      "source": [
        "* Use string methods to remove extra spaces"
      ],
      "metadata": {
        "id": "u8mRtFyxapQm"
      }
    },
    {
      "cell_type": "code",
      "source": [
        "ucapan = \"  salam, eid mubarak! happy holidays!  \"\n",
        "\n",
        "x = ucapan.strip()\n",
        "print(x)"
      ],
      "metadata": {
        "colab": {
          "base_uri": "https://localhost:8080/"
        },
        "id": "MHSAqSbgZPMx",
        "outputId": "0a71ecad-5f6b-4b36-ff43-9a45ef60d759"
      },
      "execution_count": 31,
      "outputs": [
        {
          "output_type": "stream",
          "name": "stdout",
          "text": [
            "salam, eid mubarak! happy holidays!\n"
          ]
        }
      ]
    },
    {
      "cell_type": "markdown",
      "source": [
        "* Use a for loop to print each word on a new line with its first letter capitalized."
      ],
      "metadata": {
        "id": "vRGl2HGfaqJH"
      }
    },
    {
      "cell_type": "code",
      "source": [
        "ucapan = \"  salam, eid mubarak! happy holidays!  \"\n",
        "\n",
        "for word in ucapan.split():\n",
        "  print(word.title())"
      ],
      "metadata": {
        "colab": {
          "base_uri": "https://localhost:8080/"
        },
        "id": "OCqBOkyCazdC",
        "outputId": "83dbe7f3-a563-4426-d448-3ba256cefe39"
      },
      "execution_count": 44,
      "outputs": [
        {
          "output_type": "stream",
          "name": "stdout",
          "text": [
            "Salam,\n",
            "Eid\n",
            "Mubarak!\n",
            "Happy\n",
            "Holidays!\n"
          ]
        }
      ]
    },
    {
      "cell_type": "markdown",
      "source": [
        "**Question 2**"
      ],
      "metadata": {
        "id": "2XH0fBbcc5hB"
      }
    },
    {
      "cell_type": "markdown",
      "source": [
        "* Use a while loop to allow multiple guesses.\n",
        "* If the user enters a number outside the valid range (1-10), print \"Out of\n",
        "range! Try again.\" and continue to ask for another guess.\n",
        "* If the guess is correct, print \"Congratulations! You guessed it right.\" and break the loop.\n",
        "* Otherwise, print \"Wrong guess, try again.\" and continue."
      ],
      "metadata": {
        "id": "5oRfcyoGc8O5"
      }
    },
    {
      "cell_type": "code",
      "source": [
        "while True:\n",
        "    number = int(input(\"Guess the number (1-10): \"))\n",
        "\n",
        "    if number < 1 or number > 10:\n",
        "        print(\"Out of range! Try again.\\n\")\n",
        "        continue\n",
        "    elif number == 2:\n",
        "        print(\"Congratulations! You guessed it right.\")\n",
        "        break\n",
        "    else:\n",
        "        print(\"Wrong guess, Try again.\\n\")\n",
        "        continue"
      ],
      "metadata": {
        "colab": {
          "base_uri": "https://localhost:8080/"
        },
        "id": "cplWDkt8jb0Z",
        "outputId": "9159f6e9-303c-4d3d-bf1a-4939e8a7ecc2"
      },
      "execution_count": 23,
      "outputs": [
        {
          "output_type": "stream",
          "name": "stdout",
          "text": [
            "Guess the number (1-10): 3\n",
            "Wrong guess, Try again.\n",
            "\n",
            "Guess the number (1-10): 22\n",
            "Out of range! Try again.\n",
            "\n",
            "Guess the number (1-10): 2\n",
            "Congratulations! You guessed it right.\n"
          ]
        }
      ]
    }
  ]
}